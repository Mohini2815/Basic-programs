{
 "cells": [
  {
   "cell_type": "markdown",
   "id": "f3ed243b-998a-426c-a169-f2f0a84f600e",
   "metadata": {},
   "source": [
    "# Python basic Program preparation"
   ]
  },
  {
   "cell_type": "markdown",
   "id": "f0756f64-7270-4dac-b8e0-8b6cf3dca66c",
   "metadata": {},
   "source": [
    "1. Minimum of Three numbers tale 3 numbers as input from user and check which is the smallest number"
   ]
  },
  {
   "cell_type": "code",
   "execution_count": 29,
   "id": "01edf492-2ba1-4a79-a2d1-ea362b3f8284",
   "metadata": {},
   "outputs": [
    {
     "name": "stdin",
     "output_type": "stream",
     "text": [
      "Enter first number 5\n",
      "Enter second number 6\n",
      "Enter third number 1\n"
     ]
    },
    {
     "name": "stdout",
     "output_type": "stream",
     "text": [
      "Third number is smallest\n"
     ]
    }
   ],
   "source": [
    "number1 = int(input(\"Enter first number\"))\n",
    "number2 = int(input(\"Enter second number\"))\n",
    "number3 = int(input(\"Enter third number\"))\n",
    "\n",
    "if (number2>number1 and number3>number1):\n",
    "    print(\"First number is the smallest\")\n",
    "elif (number1>number2 and number3>number2):\n",
    "    print(\"Second number is the smallest\")\n",
    "elif (number1>number3 and number2>number3):\n",
    "    print(\"Third number is smallest\")\n",
    "else:\n",
    "    print(\"Dont know\")"
   ]
  },
  {
   "cell_type": "markdown",
   "id": "9f49beb4-4171-4165-b970-662e03067886",
   "metadata": {},
   "source": [
    "2. Check if a number is Prime number take input from the user."
   ]
  },
  {
   "cell_type": "code",
   "execution_count": 11,
   "id": "03be320a-32b4-4ee7-938b-8f7aa76697bf",
   "metadata": {},
   "outputs": [
    {
     "name": "stdin",
     "output_type": "stream",
     "text": [
      "Enter a number: 4\n"
     ]
    },
    {
     "name": "stdout",
     "output_type": "stream",
     "text": [
      "not a prime number\n"
     ]
    }
   ],
   "source": [
    "num = int(input(\"Enter a number:\"))\n",
    "prime = 1\n",
    "for x in range (2,num):\n",
    "  if(num % 2 == 0):\n",
    "      prime=2\n",
    "if(prime==1):\n",
    "    print(\"prime number\")\n",
    "else:\n",
    "    print(\"not a prime number\")\n",
    "\n",
    "\n",
    "\n"
   ]
  },
  {
   "cell_type": "markdown",
   "id": "441a4d0a-715f-461d-bb06-a04d1bd5a2ba",
   "metadata": {},
   "source": [
    "3. Count down timer- take the number as user input and count down the number till 10."
   ]
  },
  {
   "cell_type": "code",
   "execution_count": 1,
   "id": "f3357143-bf3f-43dd-925a-cfe47cdc3e6b",
   "metadata": {},
   "outputs": [
    {
     "name": "stdin",
     "output_type": "stream",
     "text": [
      "Enter one number= 5\n"
     ]
    },
    {
     "name": "stdout",
     "output_type": "stream",
     "text": [
      "5\n",
      "4\n",
      "3\n",
      "2\n",
      "1\n",
      "0\n"
     ]
    }
   ],
   "source": [
    "timer = int(input(\"Enter one number=\"))\n",
    "\n",
    "while timer >= 0:\n",
    "    print(timer)\n",
    "    timer -= 1"
   ]
  },
  {
   "cell_type": "markdown",
   "id": "ce38fca3-f524-4bb2-a607-8ce5418bbf75",
   "metadata": {},
   "source": [
    "4. Number pyramid take user input for number of rows and increment a number in each row."
   ]
  },
  {
   "cell_type": "code",
   "execution_count": 17,
   "id": "689964c0-d1de-4f06-a91d-f560b8396488",
   "metadata": {},
   "outputs": [
    {
     "name": "stdin",
     "output_type": "stream",
     "text": [
      "Enter the one number: 7\n"
     ]
    },
    {
     "name": "stdout",
     "output_type": "stream",
     "text": [
      "1\n",
      "12\n",
      "123\n",
      "1234\n",
      "12345\n",
      "123456\n",
      "1234567\n"
     ]
    }
   ],
   "source": [
    "n = int(input(\"Enter the one number:\"))\n",
    "\n",
    "for i in range(1,n+1):\n",
    "    for j in range(1,i+1):\n",
    "        print(j,end='')\n",
    "    print()"
   ]
  },
  {
   "cell_type": "code",
   "execution_count": 5,
   "id": "3fb19073-0e7e-4740-bbf5-807696f79485",
   "metadata": {},
   "outputs": [
    {
     "name": "stdin",
     "output_type": "stream",
     "text": [
      "Enter one number: 5\n"
     ]
    },
    {
     "name": "stdout",
     "output_type": "stream",
     "text": [
      "1\n",
      "1 2\n",
      "1 2 3\n",
      "1 2 3 4\n",
      "1 2 3 4 5\n"
     ]
    }
   ],
   "source": [
    "rows = int (input(\"Enter one number:\"))\n",
    "for i in range(1,rows+1):\n",
    "    print(*range(1,i+1)) # for unpacking the output pattern we are using here *"
   ]
  },
  {
   "cell_type": "markdown",
   "id": "ec8ead89-397c-4f05-ac3c-d5e7467299a3",
   "metadata": {},
   "source": [
    "5. Write a program that prints all prime numbers wthin a specified range provided by the user."
   ]
  },
  {
   "cell_type": "code",
   "execution_count": 5,
   "id": "0ded5213-31c4-470c-8a2f-ec0c8ba682c1",
   "metadata": {},
   "outputs": [
    {
     "name": "stdin",
     "output_type": "stream",
     "text": [
      "Enter one number= 7\n"
     ]
    },
    {
     "name": "stdout",
     "output_type": "stream",
     "text": [
      "2 prime number\n",
      "3 prime number\n",
      "4 not prime number\n",
      "5 prime number\n",
      "6 not prime number\n"
     ]
    }
   ],
   "source": [
    "number = int(input(\"Enter one number=\"))\n",
    "\n",
    "start = 0\n",
    "for i in range(2,number):\n",
    "    for j in range(2,i):\n",
    "        if i%j == 0:\n",
    "            start+=1\n",
    "        if start>0:\n",
    "            break\n",
    "    if start == 0:\n",
    "        print(i,\"prime number\")\n",
    "    else:\n",
    "        print(i,\"not prime number\")\n",
    "    start = 0"
   ]
  },
  {
   "cell_type": "markdown",
   "id": "c619431a-37f4-4fa6-95d7-9cb9341353eb",
   "metadata": {},
   "source": [
    "6. Write a program to calculate the sum of the first 'N' natural numbers where 'N' is provided by the user."
   ]
  },
  {
   "cell_type": "code",
   "execution_count": 13,
   "id": "c2b544b3-8177-4e87-bfba-f0c3f30c9dab",
   "metadata": {},
   "outputs": [
    {
     "name": "stdin",
     "output_type": "stream",
     "text": [
      "Enter a number= 8\n"
     ]
    },
    {
     "name": "stdout",
     "output_type": "stream",
     "text": [
      "Sum of natural numbers is 36\n"
     ]
    }
   ],
   "source": [
    "num = int(input(\"Enter a number=\"))\n",
    "start = 0\n",
    "for i in range(1,num+1):\n",
    "    start += i\n",
    "print(\"Sum of natural numbers is\",start)"
   ]
  },
  {
   "cell_type": "markdown",
   "id": "662c1414-0b72-41fc-92d7-5c1ac59d7003",
   "metadata": {},
   "source": [
    "7. Write a program that prints all even numbers two numbers provided by the user."
   ]
  },
  {
   "cell_type": "code",
   "execution_count": 18,
   "id": "e12905e3-c55d-45ca-84cd-83cdf8e46e44",
   "metadata": {},
   "outputs": [
    {
     "name": "stdin",
     "output_type": "stream",
     "text": [
      "Enter one number= 5\n"
     ]
    },
    {
     "name": "stdout",
     "output_type": "stream",
     "text": [
      "0\n",
      "2\n",
      "4\n"
     ]
    }
   ],
   "source": [
    "number = int(input(\"Enter one number=\"))\n",
    "\n",
    "\n",
    "for i in range(number):\n",
    "        if i%2 == 0:\n",
    "            print(i)\n",
    "        "
   ]
  },
  {
   "cell_type": "markdown",
   "id": "4b9cf75c-70d4-4b41-8f49-5f1487788626",
   "metadata": {},
   "source": [
    "8. Convert temperature from celsius to fahrenheit"
   ]
  },
  {
   "cell_type": "code",
   "execution_count": 22,
   "id": "d53d27b2-3a53-4df8-9194-212b580de635",
   "metadata": {},
   "outputs": [
    {
     "name": "stdin",
     "output_type": "stream",
     "text": [
      "Enter the temperature in celcius: 56\n"
     ]
    },
    {
     "name": "stdout",
     "output_type": "stream",
     "text": [
      "The temperature has converted into fahrenheit like= 132.8\n"
     ]
    }
   ],
   "source": [
    "count = int(input(\"Enter the temperature in celcius:\"))\n",
    "to_fah_temp = (9/5*count)+32\n",
    "print(\"The temperature has converted into fahrenheit like=\",to_fah_temp)"
   ]
  },
  {
   "cell_type": "markdown",
   "id": "b2e9db12-6961-4aa2-965c-2a7f2babdafa",
   "metadata": {},
   "source": [
    "9. Write a program to calculate the sum of the digits of a number provided by the user."
   ]
  },
  {
   "cell_type": "code",
   "execution_count": 31,
   "id": "dd10d266-9a77-4074-970b-509e8446ef21",
   "metadata": {},
   "outputs": [
    {
     "name": "stdin",
     "output_type": "stream",
     "text": [
      "enter one number= 45678\n"
     ]
    },
    {
     "name": "stdout",
     "output_type": "stream",
     "text": [
      "30\n"
     ]
    }
   ],
   "source": [
    "n=int(input(\"enter one number=\"))\n",
    "\n",
    "sum=0 # assume sum is 0\n",
    "while(n>0):\n",
    "     r = n%10\n",
    "     sum=int(sum+r)\n",
    "     n=n/10\n",
    "print(sum)"
   ]
  },
  {
   "cell_type": "markdown",
   "id": "c40ece33-7ee2-4888-abe2-ab874190fb0c",
   "metadata": {},
   "source": [
    "10. Calculate greatest common divisor"
   ]
  },
  {
   "cell_type": "code",
   "execution_count": 16,
   "id": "35d49a72-552e-4bf2-b225-998d3ce0edf6",
   "metadata": {},
   "outputs": [
    {
     "name": "stdin",
     "output_type": "stream",
     "text": [
      "Enter the first number= 56\n",
      "Enter the second number= 433\n"
     ]
    },
    {
     "name": "stdout",
     "output_type": "stream",
     "text": [
      "Greatest common divisor is =  1\n"
     ]
    }
   ],
   "source": [
    "num1 = int(input(\"Enter the first number=\"))\n",
    "num2 = int(input(\"Enter the second number=\"))\n",
    "\n",
    "if num1 < num2:\n",
    "    small_num = num1\n",
    "else:\n",
    "    small_num = num2\n",
    "for i in range(small_num,0,-1):\n",
    "    if(num1 % i == 0 and num2 % i == 0):\n",
    "        print(\"Greatest common divisor is = \",i)\n",
    "        break"
   ]
  },
  {
   "cell_type": "markdown",
   "id": "06483ac9-70ed-475b-8613-bc8afdde16d6",
   "metadata": {},
   "source": [
    "11. write a python program that counts the number of vowels in a given string"
   ]
  },
  {
   "cell_type": "code",
   "execution_count": 11,
   "id": "a5628773-6aac-4062-b9e1-2d82da3f96c9",
   "metadata": {},
   "outputs": [
    {
     "name": "stdin",
     "output_type": "stream",
     "text": [
      "Enter any word or any sentence: Rohan\n"
     ]
    },
    {
     "name": "stdout",
     "output_type": "stream",
     "text": [
      "Vowels present in a given string= 2\n"
     ]
    }
   ],
   "source": [
    "string = str(input(\"Enter any word or any sentence:\"))\n",
    "\n",
    "v = 0 # assume count of vowel is 0 \n",
    "for ch in string:\n",
    "    if ch in 'aeiouAEIOU':\n",
    "        v = v+1\n",
    "print(\"Vowels present in a given string=\",v)\n"
   ]
  },
  {
   "cell_type": "raw",
   "id": "2fbe2560-dc95-4712-8d93-37a30e164ba5",
   "metadata": {},
   "source": [
    "13. Inverted half  pyramid using \n",
    "*****\n",
    "****\n",
    "***\n",
    "**\n",
    "*"
   ]
  },
  {
   "cell_type": "code",
   "execution_count": 29,
   "id": "b06270ee-4ae0-4eb7-a85d-4274e9cb10f2",
   "metadata": {},
   "outputs": [
    {
     "name": "stdin",
     "output_type": "stream",
     "text": [
      "Enter one number: 5\n"
     ]
    },
    {
     "name": "stdout",
     "output_type": "stream",
     "text": [
      "*****\n",
      "****\n",
      "***\n",
      "**\n",
      "*\n"
     ]
    }
   ],
   "source": [
    "number = int(input(\"Enter one number:\"))\n",
    "\n",
    "for i in range(number,0,-1):\n",
    "    print(\"*\"*i)"
   ]
  },
  {
   "cell_type": "code",
   "execution_count": 5,
   "id": "b7a53cbc-e316-4cb2-8f82-4c73bc477ca1",
   "metadata": {},
   "outputs": [
    {
     "name": "stdin",
     "output_type": "stream",
     "text": [
      "Enter one number= 5\n"
     ]
    },
    {
     "name": "stdout",
     "output_type": "stream",
     "text": [
      "        * \n",
      "      * * * \n",
      "    * * * * * \n",
      "  * * * * * * * \n",
      "* * * * * * * * * \n"
     ]
    }
   ],
   "source": [
    "rows = int(input(\"Enter one number=\"))\n",
    "k = 0\n",
    "\n",
    "for i in range (1,rows+1):\n",
    "    for space in range(1,(rows-i)+1):\n",
    "        print(end=\"  \")\n",
    "\n",
    "    while k!=(2*i-1):\n",
    "        print(\"* \",end=\"\")\n",
    "        k += 1\n",
    "    k = 0\n",
    "    print()"
   ]
  },
  {
   "cell_type": "code",
   "execution_count": 5,
   "id": "613da1c6-0a65-42c2-8392-4442fa96e520",
   "metadata": {},
   "outputs": [
    {
     "name": "stdin",
     "output_type": "stream",
     "text": [
      "Enter one number =  2\n"
     ]
    },
    {
     "name": "stdout",
     "output_type": "stream",
     "text": [
      "***\n",
      " *\n"
     ]
    }
   ],
   "source": [
    "num = int(input(\"Enter one number = \")) # take input from user\n",
    "\n",
    "for i in range(num,0,-1): # defined the range from given number and -1 for decrement\n",
    "    print(' '*(num-i)+'*'*(2*i-1)) \n",
    "# ' '*(x-i) for adding space in center align and '*'*(2*i-1) it gives correct number of star in inverted.\n",
    "\n",
    "# suppose i = 5 (2*5-1) = 9 It will print 9 star."
   ]
  },
  {
   "cell_type": "code",
   "execution_count": 7,
   "id": "505ca879-0851-48a0-966c-cef24a2f55b9",
   "metadata": {},
   "outputs": [
    {
     "name": "stdin",
     "output_type": "stream",
     "text": [
      "Please enter a number =  4\n"
     ]
    },
    {
     "name": "stdout",
     "output_type": "stream",
     "text": [
      "    1\n",
      "   232\n",
      "  34543\n",
      " 4567654\n"
     ]
    }
   ],
   "source": [
    "num = int(input(\"Please enter a number = \"))\n",
    "\n",
    "for i in range(1,num+1): # starting range from 1 to num+1\n",
    "    print(' '*(num-i),end=' ') # print space from alignment\n",
    "    for j in range(i,i*2): # it increses number starting from  i to i*2 that is i = 4 then it will print 4,5,6\n",
    "        print(j,end='')\n",
    "    for j in range(i*2-2,i-1,-1): # i*2-2 goes down to i that is i = 4 then print 5,4\n",
    "        print(j,end='')\n",
    "    print()    "
   ]
  },
  {
   "cell_type": "code",
   "execution_count": null,
   "id": "6a84ca49-c125-4289-8791-f9ef9f50e8cf",
   "metadata": {},
   "outputs": [],
   "source": []
  }
 ],
 "metadata": {
  "kernelspec": {
   "display_name": "Python 3 (ipykernel)",
   "language": "python",
   "name": "python3"
  },
  "language_info": {
   "codemirror_mode": {
    "name": "ipython",
    "version": 3
   },
   "file_extension": ".py",
   "mimetype": "text/x-python",
   "name": "python",
   "nbconvert_exporter": "python",
   "pygments_lexer": "ipython3",
   "version": "3.12.4"
  }
 },
 "nbformat": 4,
 "nbformat_minor": 5
}
