{
 "cells": [
  {
   "cell_type": "markdown",
   "id": "f3ed243b-998a-426c-a169-f2f0a84f600e",
   "metadata": {},
   "source": [
    "# Python basic Program preparation"
   ]
  },
  {
   "cell_type": "markdown",
   "id": "f0756f64-7270-4dac-b8e0-8b6cf3dca66c",
   "metadata": {},
   "source": [
    "1. Minimum of Three numbers tale 3 numbers as input from user and check which is the smallest number"
   ]
  },
  {
   "cell_type": "code",
   "execution_count": 29,
   "id": "01edf492-2ba1-4a79-a2d1-ea362b3f8284",
   "metadata": {},
   "outputs": [
    {
     "name": "stdin",
     "output_type": "stream",
     "text": [
      "Enter first number 5\n",
      "Enter second number 6\n",
      "Enter third number 1\n"
     ]
    },
    {
     "name": "stdout",
     "output_type": "stream",
     "text": [
      "Third number is smallest\n"
     ]
    }
   ],
   "source": [
    "number1 = int(input(\"Enter first number\"))\n",
    "number2 = int(input(\"Enter second number\"))\n",
    "number3 = int(input(\"Enter third number\"))\n",
    "\n",
    "if (number2>number1 and number3>number1):\n",
    "    print(\"First number is the smallest\")\n",
    "elif (number1>number2 and number3>number2):\n",
    "    print(\"Second number is the smallest\")\n",
    "elif (number1>number3 and number2>number3):\n",
    "    print(\"Third number is smallest\")\n",
    "else:\n",
    "    print(\"Dont know\")"
   ]
  },
  {
   "cell_type": "markdown",
   "id": "9f49beb4-4171-4165-b970-662e03067886",
   "metadata": {},
   "source": [
    "2. Check if a number is Prime number take input from the user."
   ]
  },
  {
   "cell_type": "code",
   "execution_count": 11,
   "id": "03be320a-32b4-4ee7-938b-8f7aa76697bf",
   "metadata": {},
   "outputs": [
    {
     "name": "stdin",
     "output_type": "stream",
     "text": [
      "Enter a number: 4\n"
     ]
    },
    {
     "name": "stdout",
     "output_type": "stream",
     "text": [
      "not a prime number\n"
     ]
    }
   ],
   "source": [
    "num = int(input(\"Enter a number:\"))\n",
    "prime = 1\n",
    "for x in range (2,num):\n",
    "  if(num % 2 == 0):\n",
    "      prime=2\n",
    "if(prime==1):\n",
    "    print(\"prime number\")\n",
    "else:\n",
    "    print(\"not a prime number\")\n",
    "\n",
    "\n",
    "\n"
   ]
  },
  {
   "cell_type": "markdown",
   "id": "441a4d0a-715f-461d-bb06-a04d1bd5a2ba",
   "metadata": {},
   "source": [
    "3. Count down timer- take the number as user input and count down the number till 10."
   ]
  },
  {
   "cell_type": "code",
   "execution_count": 1,
   "id": "f3357143-bf3f-43dd-925a-cfe47cdc3e6b",
   "metadata": {},
   "outputs": [
    {
     "name": "stdin",
     "output_type": "stream",
     "text": [
      "Enter one number= 5\n"
     ]
    },
    {
     "name": "stdout",
     "output_type": "stream",
     "text": [
      "5\n",
      "4\n",
      "3\n",
      "2\n",
      "1\n",
      "0\n"
     ]
    }
   ],
   "source": [
    "timer = int(input(\"Enter one number=\"))\n",
    "\n",
    "while timer >= 0:\n",
    "    print(timer)\n",
    "    timer -= 1"
   ]
  },
  {
   "cell_type": "markdown",
   "id": "ce38fca3-f524-4bb2-a607-8ce5418bbf75",
   "metadata": {},
   "source": [
    "4. Number pyramid take user input for number of rows and increment a number in each row."
   ]
  },
  {
   "cell_type": "code",
   "execution_count": 17,
   "id": "689964c0-d1de-4f06-a91d-f560b8396488",
   "metadata": {},
   "outputs": [
    {
     "name": "stdin",
     "output_type": "stream",
     "text": [
      "Enter the one number: 7\n"
     ]
    },
    {
     "name": "stdout",
     "output_type": "stream",
     "text": [
      "1\n",
      "12\n",
      "123\n",
      "1234\n",
      "12345\n",
      "123456\n",
      "1234567\n"
     ]
    }
   ],
   "source": [
    "n = int(input(\"Enter the one number:\"))\n",
    "\n",
    "for i in range(1,n+1):\n",
    "    for j in range(1,i+1):\n",
    "        print(j,end='')\n",
    "    print()"
   ]
  },
  {
   "cell_type": "code",
   "execution_count": 5,
   "id": "3fb19073-0e7e-4740-bbf5-807696f79485",
   "metadata": {},
   "outputs": [
    {
     "name": "stdin",
     "output_type": "stream",
     "text": [
      "Enter one number: 5\n"
     ]
    },
    {
     "name": "stdout",
     "output_type": "stream",
     "text": [
      "1\n",
      "1 2\n",
      "1 2 3\n",
      "1 2 3 4\n",
      "1 2 3 4 5\n"
     ]
    }
   ],
   "source": [
    "rows = int (input(\"Enter one number:\"))\n",
    "for i in range(1,rows+1):\n",
    "    print(*range(1,i+1)) # for unpacking the output pattern we are using here *"
   ]
  },
  {
   "cell_type": "markdown",
   "id": "ec8ead89-397c-4f05-ac3c-d5e7467299a3",
   "metadata": {},
   "source": [
    "5. Write a program that prints all prime numbers wthin a specified range provided by the user."
   ]
  },
  {
   "cell_type": "code",
   "execution_count": 5,
   "id": "0ded5213-31c4-470c-8a2f-ec0c8ba682c1",
   "metadata": {},
   "outputs": [
    {
     "name": "stdin",
     "output_type": "stream",
     "text": [
      "Enter one number= 7\n"
     ]
    },
    {
     "name": "stdout",
     "output_type": "stream",
     "text": [
      "2 prime number\n",
      "3 prime number\n",
      "4 not prime number\n",
      "5 prime number\n",
      "6 not prime number\n"
     ]
    }
   ],
   "source": [
    "number = int(input(\"Enter one number=\"))\n",
    "\n",
    "start = 0\n",
    "for i in range(2,number):\n",
    "    for j in range(2,i):\n",
    "        if i%j == 0:\n",
    "            start+=1\n",
    "        if start>0:\n",
    "            break\n",
    "    if start == 0:\n",
    "        print(i,\"prime number\")\n",
    "    else:\n",
    "        print(i,\"not prime number\")\n",
    "    start = 0"
   ]
  },
  {
   "cell_type": "markdown",
   "id": "c619431a-37f4-4fa6-95d7-9cb9341353eb",
   "metadata": {},
   "source": [
    "6. Write a program to calculate the sum of the first 'N' natural numbers where 'N' is provided by the user."
   ]
  },
  {
   "cell_type": "code",
   "execution_count": 13,
   "id": "c2b544b3-8177-4e87-bfba-f0c3f30c9dab",
   "metadata": {},
   "outputs": [
    {
     "name": "stdin",
     "output_type": "stream",
     "text": [
      "Enter a number= 8\n"
     ]
    },
    {
     "name": "stdout",
     "output_type": "stream",
     "text": [
      "Sum of natural numbers is 36\n"
     ]
    }
   ],
   "source": [
    "num = int(input(\"Enter a number=\"))\n",
    "start = 0\n",
    "for i in range(1,num+1):\n",
    "    start += i\n",
    "print(\"Sum of natural numbers is\",start)"
   ]
  },
  {
   "cell_type": "markdown",
   "id": "662c1414-0b72-41fc-92d7-5c1ac59d7003",
   "metadata": {},
   "source": [
    "7. Write a program that prints all even numbers two numbers provided by the user."
   ]
  },
  {
   "cell_type": "code",
   "execution_count": 18,
   "id": "e12905e3-c55d-45ca-84cd-83cdf8e46e44",
   "metadata": {},
   "outputs": [
    {
     "name": "stdin",
     "output_type": "stream",
     "text": [
      "Enter one number= 5\n"
     ]
    },
    {
     "name": "stdout",
     "output_type": "stream",
     "text": [
      "0\n",
      "2\n",
      "4\n"
     ]
    }
   ],
   "source": [
    "number = int(input(\"Enter one number=\"))\n",
    "\n",
    "\n",
    "for i in range(number):\n",
    "        if i%2 == 0:\n",
    "            print(i)\n",
    "        "
   ]
  },
  {
   "cell_type": "markdown",
   "id": "4b9cf75c-70d4-4b41-8f49-5f1487788626",
   "metadata": {},
   "source": [
    "8. Convert temperature from celsius to fahrenheit"
   ]
  },
  {
   "cell_type": "code",
   "execution_count": 22,
   "id": "d53d27b2-3a53-4df8-9194-212b580de635",
   "metadata": {},
   "outputs": [
    {
     "name": "stdin",
     "output_type": "stream",
     "text": [
      "Enter the temperature in celcius: 56\n"
     ]
    },
    {
     "name": "stdout",
     "output_type": "stream",
     "text": [
      "The temperature has converted into fahrenheit like= 132.8\n"
     ]
    }
   ],
   "source": [
    "count = int(input(\"Enter the temperature in celcius:\"))\n",
    "to_fah_temp = (9/5*count)+32\n",
    "print(\"The temperature has converted into fahrenheit like=\",to_fah_temp)"
   ]
  },
  {
   "cell_type": "markdown",
   "id": "b2e9db12-6961-4aa2-965c-2a7f2babdafa",
   "metadata": {},
   "source": [
    "9. Write a program to calculate the sum of the digits of a number provided by the user."
   ]
  },
  {
   "cell_type": "code",
   "execution_count": 31,
   "id": "dd10d266-9a77-4074-970b-509e8446ef21",
   "metadata": {},
   "outputs": [
    {
     "name": "stdin",
     "output_type": "stream",
     "text": [
      "enter one number= 45678\n"
     ]
    },
    {
     "name": "stdout",
     "output_type": "stream",
     "text": [
      "30\n"
     ]
    }
   ],
   "source": [
    "n=int(input(\"enter one number=\"))\n",
    "\n",
    "sum=0 # assume sum is 0\n",
    "while(n>0):\n",
    "     r = n%10\n",
    "     sum=int(sum+r)\n",
    "     n=n/10\n",
    "print(sum)"
   ]
  },
  {
   "cell_type": "markdown",
   "id": "c40ece33-7ee2-4888-abe2-ab874190fb0c",
   "metadata": {},
   "source": [
    "10. Calculate greatest common divisor"
   ]
  },
  {
   "cell_type": "code",
   "execution_count": 16,
   "id": "35d49a72-552e-4bf2-b225-998d3ce0edf6",
   "metadata": {},
   "outputs": [
    {
     "name": "stdin",
     "output_type": "stream",
     "text": [
      "Enter the first number= 56\n",
      "Enter the second number= 433\n"
     ]
    },
    {
     "name": "stdout",
     "output_type": "stream",
     "text": [
      "Greatest common divisor is =  1\n"
     ]
    }
   ],
   "source": [
    "num1 = int(input(\"Enter the first number=\"))\n",
    "num2 = int(input(\"Enter the second number=\"))\n",
    "\n",
    "if num1 < num2:\n",
    "    small_num = num1\n",
    "else:\n",
    "    small_num = num2\n",
    "for i in range(small_num,0,-1):\n",
    "    if(num1 % i == 0 and num2 % i == 0):\n",
    "        print(\"Greatest common divisor is = \",i)\n",
    "        break"
   ]
  },
  {
   "cell_type": "markdown",
   "id": "06483ac9-70ed-475b-8613-bc8afdde16d6",
   "metadata": {},
   "source": [
    "11. write a python program that counts the number of vowels in a given string"
   ]
  },
  {
   "cell_type": "code",
   "execution_count": 11,
   "id": "a5628773-6aac-4062-b9e1-2d82da3f96c9",
   "metadata": {},
   "outputs": [
    {
     "name": "stdin",
     "output_type": "stream",
     "text": [
      "Enter any word or any sentence: Rohan\n"
     ]
    },
    {
     "name": "stdout",
     "output_type": "stream",
     "text": [
      "Vowels present in a given string= 2\n"
     ]
    }
   ],
   "source": [
    "string = str(input(\"Enter any word or any sentence:\"))\n",
    "\n",
    "v = 0 # assume count of vowel is 0 \n",
    "for ch in string:\n",
    "    if ch in 'aeiouAEIOU':\n",
    "        v = v+1\n",
    "print(\"Vowels present in a given string=\",v)\n"
   ]
  },
  {
   "cell_type": "raw",
   "id": "2fbe2560-dc95-4712-8d93-37a30e164ba5",
   "metadata": {},
   "source": [
    "13. Inverted half  pyramid using \n",
    "*****\n",
    "****\n",
    "***\n",
    "**\n",
    "*"
   ]
  },
  {
   "cell_type": "code",
   "execution_count": 29,
   "id": "b06270ee-4ae0-4eb7-a85d-4274e9cb10f2",
   "metadata": {},
   "outputs": [
    {
     "name": "stdin",
     "output_type": "stream",
     "text": [
      "Enter one number: 5\n"
     ]
    },
    {
     "name": "stdout",
     "output_type": "stream",
     "text": [
      "*****\n",
      "****\n",
      "***\n",
      "**\n",
      "*\n"
     ]
    }
   ],
   "source": [
    "number = int(input(\"Enter one number:\"))\n",
    "\n",
    "for i in range(number,0,-1):\n",
    "    print(\"*\"*i)"
   ]
  },
  {
   "cell_type": "code",
   "execution_count": 5,
   "id": "b7a53cbc-e316-4cb2-8f82-4c73bc477ca1",
   "metadata": {},
   "outputs": [
    {
     "name": "stdin",
     "output_type": "stream",
     "text": [
      "Enter one number= 5\n"
     ]
    },
    {
     "name": "stdout",
     "output_type": "stream",
     "text": [
      "        * \n",
      "      * * * \n",
      "    * * * * * \n",
      "  * * * * * * * \n",
      "* * * * * * * * * \n"
     ]
    }
   ],
   "source": [
    "rows = int(input(\"Enter one number=\"))\n",
    "k = 0\n",
    "\n",
    "for i in range (1,rows+1):\n",
    "    for space in range(1,(rows-i)+1):\n",
    "        print(end=\"  \")\n",
    "\n",
    "    while k!=(2*i-1):\n",
    "        print(\"* \",end=\"\")\n",
    "        k += 1\n",
    "    k = 0\n",
    "    print()"
   ]
  },
  {
   "cell_type": "code",
   "execution_count": 5,
   "id": "613da1c6-0a65-42c2-8392-4442fa96e520",
   "metadata": {},
   "outputs": [
    {
     "name": "stdin",
     "output_type": "stream",
     "text": [
      "Enter one number =  2\n"
     ]
    },
    {
     "name": "stdout",
     "output_type": "stream",
     "text": [
      "***\n",
      " *\n"
     ]
    }
   ],
   "source": [
    "num = int(input(\"Enter one number = \")) # take input from user\n",
    "\n",
    "for i in range(num,0,-1): # defined the range from given number and -1 for decrement\n",
    "    print(' '*(num-i)+'*'*(2*i-1)) \n",
    "# ' '*(x-i) for adding space in center align and '*'*(2*i-1) it gives correct number of star in inverted.\n",
    "\n",
    "# suppose i = 5 (2*5-1) = 9 It will print 9 star."
   ]
  },
  {
   "cell_type": "code",
   "execution_count": 7,
   "id": "505ca879-0851-48a0-966c-cef24a2f55b9",
   "metadata": {},
   "outputs": [
    {
     "name": "stdin",
     "output_type": "stream",
     "text": [
      "Please enter a number =  4\n"
     ]
    },
    {
     "name": "stdout",
     "output_type": "stream",
     "text": [
      "    1\n",
      "   232\n",
      "  34543\n",
      " 4567654\n"
     ]
    }
   ],
   "source": [
    "num = int(input(\"Please enter a number = \"))\n",
    "\n",
    "for i in range(1,num+1): # starting range from 1 to num+1\n",
    "    print(' '*(num-i),end=' ') # print space from alignment\n",
    "    for j in range(i,i*2): # it increses number starting from  i to i*2 that is i = 4 then it will print 4,5,6\n",
    "        print(j,end='')\n",
    "    for j in range(i*2-2,i-1,-1): # i*2-2 goes down to i that is i = 4 then print 5,4\n",
    "        print(j,end='')\n",
    "    print()    "
   ]
  },
  {
   "cell_type": "code",
   "execution_count": 1,
   "id": "6a84ca49-c125-4289-8791-f9ef9f50e8cf",
   "metadata": {},
   "outputs": [
    {
     "name": "stdout",
     "output_type": "stream",
     "text": [
      "      A \n",
      "     B B \n",
      "    C C C \n",
      "   D D D D \n",
      "  E E E E E \n",
      " F F F F F F \n"
     ]
    }
   ],
   "source": [
    "m=6\n",
    "for i in range(65,71):\n",
    "    m-=1\n",
    "    \n",
    "    print(\" \"*m,end=\" \")\n",
    "    for k in range(65,i+1):\n",
    "        print(chr(i),end=\" \")\n",
    "    print()"
   ]
  },
  {
   "cell_type": "code",
   "execution_count": 3,
   "id": "3e50c1d5-cdc1-4554-8dc9-9fffc20c15c2",
   "metadata": {},
   "outputs": [
    {
     "name": "stdout",
     "output_type": "stream",
     "text": [
      "      A \n",
      "     A B \n",
      "    A B C \n",
      "   A B C D \n",
      "  A B C D E \n",
      " A B C D E F \n"
     ]
    }
   ],
   "source": [
    "m=6\n",
    "for i in range(65,71):\n",
    "    m-=1\n",
    "    \n",
    "    print(\" \"*m,end=\" \")\n",
    "    for k in range(65,i+1):\n",
    "        print(chr(k),end=\" \")\n",
    "    print()"
   ]
  },
  {
   "cell_type": "markdown",
   "id": "dbcd3542-1c9d-421c-ac6d-fbb36fa7802c",
   "metadata": {},
   "source": [
    "1.Take user input of a string and print the reverse of a string"
   ]
  },
  {
   "cell_type": "code",
   "execution_count": 2,
   "id": "c1e9d26b-6d68-4d86-8fb9-97ee1f16ac7c",
   "metadata": {},
   "outputs": [
    {
     "name": "stdin",
     "output_type": "stream",
     "text": [
      "Enter string =  God will make sure my life will be fine\n"
     ]
    },
    {
     "name": "stdout",
     "output_type": "stream",
     "text": [
      "Reversed string =  enif eb lliw efil ym erus ekam lliw doG\n"
     ]
    }
   ],
   "source": [
    "sentence = input(\"Enter string = \")\n",
    "print(\"Reversed string = \",sentence[::-1])"
   ]
  },
  {
   "cell_type": "markdown",
   "id": "9d5c604e-40f5-4455-93b5-b58200be0d40",
   "metadata": {},
   "source": [
    "2.Print squares of all even numbers from 1 to 10"
   ]
  },
  {
   "cell_type": "code",
   "execution_count": 5,
   "id": "c03419ee-471d-4dfb-b230-47ba594949d5",
   "metadata": {},
   "outputs": [
    {
     "name": "stdout",
     "output_type": "stream",
     "text": [
      "Square is = 4\n",
      "Square is = 16\n",
      "Square is = 36\n",
      "Square is = 64\n",
      "Square is = 100\n"
     ]
    }
   ],
   "source": [
    "for i in range(1,11):\n",
    "    if i % 2 == 0:\n",
    "        print(f\"Square is = {i**2}\")"
   ]
  },
  {
   "cell_type": "markdown",
   "id": "e5f32581-af91-421b-89c5-29ab20352741",
   "metadata": {},
   "source": [
    "3.Print all lowercase letters in a string. Take user input of the string."
   ]
  },
  {
   "cell_type": "code",
   "execution_count": 8,
   "id": "dd031fa2-ddc5-45cc-a0ad-71ff46647f32",
   "metadata": {},
   "outputs": [
    {
     "name": "stdin",
     "output_type": "stream",
     "text": [
      "enter any sentence =  Mohini\n"
     ]
    },
    {
     "name": "stdout",
     "output_type": "stream",
     "text": [
      "Lowercase letters are : ['o', 'h', 'i', 'n', 'i']\n"
     ]
    }
   ],
   "source": [
    "sentence = input(\"enter any sentence = \")\n",
    "lowercase = [char for char in sentence if char.islower()]\n",
    "print(\"Lowercase letters are :\",lowercase)"
   ]
  },
  {
   "cell_type": "markdown",
   "id": "c62918f6-cd08-49c2-a39d-3eed6292988d",
   "metadata": {},
   "source": [
    "4.Print factorial of a number using while loop"
   ]
  },
  {
   "cell_type": "code",
   "execution_count": 14,
   "id": "25911e0b-35e4-4bc0-a15a-4631ee7f89a4",
   "metadata": {},
   "outputs": [
    {
     "name": "stdin",
     "output_type": "stream",
     "text": [
      "Enter number =  4\n"
     ]
    },
    {
     "name": "stdout",
     "output_type": "stream",
     "text": [
      "factorial =  24\n"
     ]
    }
   ],
   "source": [
    "num =  int(input(\"Enter number = \"))\n",
    "fact = 1\n",
    "i = 1\n",
    "while i <= num:\n",
    "    fact *= i\n",
    "    i += 1\n",
    "print(f\"factorial = \",fact)"
   ]
  },
  {
   "cell_type": "markdown",
   "id": "8275969e-b776-4501-adb9-c0043f1aade5",
   "metadata": {},
   "source": [
    "5.print characters of a string one by one using while loop"
   ]
  },
  {
   "cell_type": "code",
   "execution_count": 19,
   "id": "65f86d03-4483-40d8-80cf-a931148c5fbc",
   "metadata": {},
   "outputs": [
    {
     "name": "stdin",
     "output_type": "stream",
     "text": [
      "Enter string =  mohini\n"
     ]
    },
    {
     "name": "stdout",
     "output_type": "stream",
     "text": [
      "m\n",
      "o\n",
      "h\n",
      "i\n",
      "n\n",
      "i\n"
     ]
    }
   ],
   "source": [
    "string = input(\"Enter string = \")\n",
    "i = 0\n",
    "while i <len(string):\n",
    "    print(string[i])\n",
    "    i+=1\n",
    "    "
   ]
  },
  {
   "cell_type": "markdown",
   "id": "be7da412-68b3-4605-a9c4-a3994ddd94f5",
   "metadata": {},
   "source": [
    "6.print first 5 multiples of 3"
   ]
  },
  {
   "cell_type": "code",
   "execution_count": 23,
   "id": "38dcd855-50ba-4c8f-96ea-3ec048b084f3",
   "metadata": {},
   "outputs": [
    {
     "name": "stdout",
     "output_type": "stream",
     "text": [
      "3\n",
      "6\n",
      "9\n",
      "12\n",
      "15\n"
     ]
    }
   ],
   "source": [
    "i =1 \n",
    "while i<=5:\n",
    "    print(3*i)\n",
    "    i+=1\n",
    "    "
   ]
  },
  {
   "cell_type": "markdown",
   "id": "17761e55-ad7d-4d36-b087-5bbf07b57df6",
   "metadata": {},
   "source": [
    "7. print the cube of all numbers from 1 to 5"
   ]
  },
  {
   "cell_type": "code",
   "execution_count": 32,
   "id": "5c128fbb-eb54-4976-9cda-86c30e6b2c8d",
   "metadata": {},
   "outputs": [
    {
     "name": "stdout",
     "output_type": "stream",
     "text": [
      "Cube of 1 is =  1\n",
      "Cube of 2 is =  8\n",
      "Cube of 3 is =  27\n",
      "Cube of 4 is =  64\n",
      "Cube of 5 is =  125\n"
     ]
    }
   ],
   "source": [
    "for i in range(1,6):\n",
    "    print(f\"Cube of {i} is = \",i**3)"
   ]
  },
  {
   "cell_type": "markdown",
   "id": "ba8b3fc9-b32c-42ca-86b3-3ab6d855fd55",
   "metadata": {},
   "source": [
    "8. add numbers from 1 to 50 and print the total"
   ]
  },
  {
   "cell_type": "code",
   "execution_count": 35,
   "id": "eb2b9842-a353-418e-bb8d-16f78c0a61cb",
   "metadata": {},
   "outputs": [
    {
     "name": "stdout",
     "output_type": "stream",
     "text": [
      "1275\n"
     ]
    }
   ],
   "source": [
    "total = sum(range(1,51))\n",
    "print(total)"
   ]
  },
  {
   "cell_type": "markdown",
   "id": "cdaad48a-0486-4435-b03a-39be8ea2500d",
   "metadata": {},
   "source": [
    "9. calculate the sum of numbers from 1 to 100"
   ]
  },
  {
   "cell_type": "code",
   "execution_count": 38,
   "id": "7581666a-cc2d-4a15-8c8b-f027048f5738",
   "metadata": {},
   "outputs": [
    {
     "name": "stdout",
     "output_type": "stream",
     "text": [
      "sum of numbers from 1 to 100 is 5050\n"
     ]
    }
   ],
   "source": [
    "total = sum(range(1,101))\n",
    "print(\"sum of numbers from 1 to 100 is\",total)"
   ]
  },
  {
   "cell_type": "markdown",
   "id": "cb554380-285f-4856-afd3-4f124cef112e",
   "metadata": {},
   "source": [
    "10. given a 3 letter string, classify its pattern:\n",
    "- AAA if all letters same\n",
    "- ABA if outer same \n",
    "- ABC if all different"
   ]
  },
  {
   "cell_type": "code",
   "execution_count": 10,
   "id": "5bca5b46-51dc-42b6-a122-dfb2b7e0c2a4",
   "metadata": {},
   "outputs": [
    {
     "name": "stdin",
     "output_type": "stream",
     "text": [
      "enter string =  mca\n"
     ]
    },
    {
     "name": "stdout",
     "output_type": "stream",
     "text": [
      "ABC\n"
     ]
    }
   ],
   "source": [
    "string = input('enter string = ')\n",
    "if string[0]==string[1]==string[2]:\n",
    "    print(\"AAA\")\n",
    "elif string[0]==string[2]:\n",
    "    print(\"ABA\")\n",
    "else:\n",
    "    print(\"ABC\")\n"
   ]
  },
  {
   "cell_type": "markdown",
   "id": "e371e54b-9cc2-40dc-8817-6a12b9e83202",
   "metadata": {},
   "source": [
    "11. remove duplicates from a string while preserving original order"
   ]
  },
  {
   "cell_type": "code",
   "execution_count": 13,
   "id": "21615a6a-b7e5-471c-8963-da2b66b0a12e",
   "metadata": {},
   "outputs": [
    {
     "name": "stdin",
     "output_type": "stream",
     "text": [
      "enter string =  mohini\n"
     ]
    },
    {
     "name": "stdout",
     "output_type": "stream",
     "text": [
      "mohin\n"
     ]
    }
   ],
   "source": [
    "string = input('enter string = ')\n",
    "res = ''.join(dict.fromkeys(string))\n",
    "print(res)"
   ]
  },
  {
   "cell_type": "markdown",
   "id": "e54b2062-ef9c-4608-8a75-bfc0f9d327da",
   "metadata": {},
   "source": [
    "12. from a list of words, find all that read the same when reversed and are also valid in reverse"
   ]
  },
  {
   "cell_type": "code",
   "execution_count": 97,
   "id": "33b078f4-4b16-4628-a52c-938a2451f2f2",
   "metadata": {},
   "outputs": [
    {
     "name": "stdout",
     "output_type": "stream",
     "text": [
      "['stressed', 'live', 'evil', 'desserts', 'part', 'trap']\n"
     ]
    }
   ],
   "source": [
    "mirror_word = ['stressed','live','evil','desserts','team','meat','flower','part','trap','man']\n",
    "l = []\n",
    "for word in mirror_word:\n",
    "    reversed_word = word[::-1] # to reverse a string\n",
    "    if word == reversed_word or reversed_word in mirror_word:\n",
    "        l.append(word)\n",
    "print(l)\n",
    "\n",
    "    "
   ]
  },
  {
   "cell_type": "markdown",
   "id": "49baecb2-65ef-4bad-b1d6-b1837807e7dd",
   "metadata": {},
   "source": [
    "13. write a program to find the most frequent character in string"
   ]
  },
  {
   "cell_type": "code",
   "execution_count": 21,
   "id": "78531276-7bfd-41ce-9fac-71f992e78c86",
   "metadata": {},
   "outputs": [
    {
     "name": "stdin",
     "output_type": "stream",
     "text": [
      "enter string =  mohini\n"
     ]
    },
    {
     "name": "stdout",
     "output_type": "stream",
     "text": [
      "i\n"
     ]
    }
   ],
   "source": [
    "from collections import Counter\n",
    "\n",
    "string = input('enter string = ')\n",
    "counter = Counter(string)\n",
    "most_freq_char = counter.most_common(1)[0][0]\n",
    "print(most_freq_char)"
   ]
  },
  {
   "cell_type": "markdown",
   "id": "f3a4ca26-f8ec-4621-a6ae-2033fe727436",
   "metadata": {},
   "source": [
    "14. write a program to check if two strings are rotations of each other"
   ]
  },
  {
   "cell_type": "code",
   "execution_count": 101,
   "id": "4998fa40-2a7c-4c8b-a3b7-bb814159df9f",
   "metadata": {},
   "outputs": [
    {
     "name": "stdin",
     "output_type": "stream",
     "text": [
      "enter string =  mohini\n",
      "second string =  mohini\n"
     ]
    },
    {
     "name": "stdout",
     "output_type": "stream",
     "text": [
      "rotation of each other\n"
     ]
    }
   ],
   "source": [
    "s1 = input('enter string = ')\n",
    "s2 = input('second string = ')\n",
    "\n",
    "if len(s1) == len(s2) and s2 in s1+s1:\n",
    "    \n",
    "    print('rotation of each other')\n",
    "else:\n",
    "    print('no rotation')"
   ]
  },
  {
   "cell_type": "markdown",
   "id": "f244f44d-2644-4600-a2b8-e54bedce4175",
   "metadata": {},
   "source": [
    "15. write a program to check right-angled  triangle using only side lengths"
   ]
  },
  {
   "cell_type": "code",
   "execution_count": 34,
   "id": "e45d321b-4e81-4e8c-888c-909690f0c028",
   "metadata": {},
   "outputs": [
    {
     "name": "stdin",
     "output_type": "stream",
     "text": [
      "enter side 1 =  4\n",
      "enter side 2 =  5\n",
      "enter side 3 =  3\n"
     ]
    },
    {
     "name": "stdout",
     "output_type": "stream",
     "text": [
      "it is an right angled triangle\n"
     ]
    }
   ],
   "source": [
    "s1 = float(input('enter side 1 = '))\n",
    "s2 = float(input('enter side 2 = '))\n",
    "s3 = float(input('enter side 3 = '))\n",
    "sides = sorted([s1,s2,s3])\n",
    "if sides[0]**2 + sides[1]**2 == sides[2]**2:\n",
    "    print('it is an right angled triangle')\n",
    "else:\n",
    "    print('not right angled triangle')"
   ]
  },
  {
   "cell_type": "code",
   "execution_count": null,
   "id": "64f80ffe-3d8a-4f57-b19c-f7cd8c4f027a",
   "metadata": {},
   "outputs": [],
   "source": []
  }
 ],
 "metadata": {
  "kernelspec": {
   "display_name": "Python 3 (ipykernel)",
   "language": "python",
   "name": "python3"
  },
  "language_info": {
   "codemirror_mode": {
    "name": "ipython",
    "version": 3
   },
   "file_extension": ".py",
   "mimetype": "text/x-python",
   "name": "python",
   "nbconvert_exporter": "python",
   "pygments_lexer": "ipython3",
   "version": "3.12.4"
  }
 },
 "nbformat": 4,
 "nbformat_minor": 5
}
