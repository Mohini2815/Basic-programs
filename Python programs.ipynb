{
 "cells": [
  {
   "cell_type": "markdown",
   "id": "1f80876e-5dfe-4096-a513-3e9af2b7146b",
   "metadata": {},
   "source": [
    "1. Develop a program to track inventory of items in a store(CRUD operations on a dictinary)\n",
    "\n",
    "**What is CRUD operations**\n",
    "\n",
    "C = create\n",
    "R = read\n",
    "U = update\n",
    "D = delete"
   ]
  },
  {
   "cell_type": "code",
   "execution_count": 11,
   "id": "36df8208-30c0-4dc1-846f-ea9550ff63bf",
   "metadata": {},
   "outputs": [
    {
     "name": "stdout",
     "output_type": "stream",
     "text": [
      "\n",
      "Inventory Management System\n",
      "1. Add item to inventory\n",
      "2. View item details\n",
      "3. View all items in inventory\n",
      "4. Update item details\n",
      "5. Delete item from inventory\n",
      "6. Exit\n"
     ]
    },
    {
     "name": "stdin",
     "output_type": "stream",
     "text": [
      "Enter your choice:  1\n",
      "Enter item name:  apple\n",
      "Enter quantity:  20\n",
      "Enter price:  100\n"
     ]
    },
    {
     "name": "stdout",
     "output_type": "stream",
     "text": [
      "Item 'apple' added to the inventory.\n",
      "\n",
      "Inventory Management System\n",
      "1. Add item to inventory\n",
      "2. View item details\n",
      "3. View all items in inventory\n",
      "4. Update item details\n",
      "5. Delete item from inventory\n",
      "6. Exit\n"
     ]
    },
    {
     "name": "stdin",
     "output_type": "stream",
     "text": [
      "Enter your choice:  6\n"
     ]
    }
   ],
   "source": [
    "class Inventory:\n",
    "    def __init__(self):\n",
    "        self.items = {}\n",
    "\n",
    "    def create(self, item_name, quantity, price):\n",
    "        if item_name in self.items:\n",
    "            print(\"Item already exists in the inventory.\")\n",
    "        else:\n",
    "            self.items[item_name] = {\"quantity\": quantity, \"price\": price}\n",
    "            print(f\"Item '{item_name}' added to the inventory.\")\n",
    "\n",
    "    def read(self, item_name=None):\n",
    "        if item_name:\n",
    "            if item_name in self.items:\n",
    "                print(f\"Item: {item_name}, Quantity: {self.items[item_name]['quantity']}, Price: {self.items[item_name]['price']}\")\n",
    "            else:\n",
    "                print(f\"Item '{item_name}' not found in the inventory.\")\n",
    "        else:\n",
    "            for item, details in self.items.items():\n",
    "                print(f\"Item: {item}, Quantity: {details['quantity']}, Price: {details['price']}\")\n",
    "\n",
    "    def update(self, item_name, quantity=None, price=None):\n",
    "        if item_name in self.items:\n",
    "            if quantity:\n",
    "                self.items[item_name][\"quantity\"] = quantity\n",
    "            if price:\n",
    "                self.items[item_name][\"price\"] = price\n",
    "            print(f\"Item '{item_name}' updated in the inventory.\")\n",
    "        else:\n",
    "            print(f\"Item '{item_name}' not found in the inventory.\")\n",
    "\n",
    "    def delete(self, item_name):\n",
    "        if item_name in self.items:\n",
    "            del self.items[item_name]\n",
    "            print(f\"Item '{item_name}' deleted from the inventory.\")\n",
    "        else:\n",
    "            print(f\"Item '{item_name}' not found in the inventory.\")\n",
    "\n",
    "def main():\n",
    "    inventory = Inventory()\n",
    "\n",
    "    while True:\n",
    "        print(\"\\nInventory Management System\")\n",
    "        print(\"1. Add item to inventory\")\n",
    "        print(\"2. View item details\")\n",
    "        print(\"3. View all items in inventory\")\n",
    "        print(\"4. Update item details\")\n",
    "        print(\"5. Delete item from inventory\")\n",
    "        print(\"6. Exit\")\n",
    "\n",
    "        choice = input(\"Enter your choice: \")\n",
    "\n",
    "        if choice == \"1\":\n",
    "            item_name = input(\"Enter item name: \")\n",
    "            quantity = int(input(\"Enter quantity: \"))\n",
    "            price = float(input(\"Enter price: \"))\n",
    "            inventory.create(item_name, quantity, price)\n",
    "        elif choice == \"2\":\n",
    "            item_name = input(\"Enter item name: \")\n",
    "            inventory.read(item_name)\n",
    "        elif choice == \"3\":\n",
    "            inventory.read()\n",
    "        elif choice == \"4\":\n",
    "            item_name = input(\"Enter item name: \")\n",
    "            quantity = input(\"Enter new quantity (press enter to skip): \")\n",
    "            price = input(\"Enter new price (press enter to skip): \")\n",
    "            quantity = int(quantity) if quantity else None\n",
    "            price = float(price) if price else None\n",
    "            inventory.update(item_name, quantity, price)\n",
    "        elif choice == \"5\":\n",
    "            item_name = input(\"Enter item name: \")\n",
    "            inventory.delete(item_name)\n",
    "        elif choice == \"6\":\n",
    "            break\n",
    "        else:\n",
    "            print(\"Invalid choice. Please try again.\")\n",
    "\n",
    "if __name__ == \"__main__\":\n",
    "    main()"
   ]
  },
  {
   "cell_type": "markdown",
   "id": "bf634adb-9fd4-41d0-b29e-104cdc405687",
   "metadata": {},
   "source": [
    "\n",
    "\n",
    "2. Convert a string of integers (e.g., \"1,2,3\") into a list of integers and back to a string."
   ]
  },
  {
   "cell_type": "code",
   "execution_count": 14,
   "id": "8dd3b96a-bdda-4191-9431-a5b78b77f31e",
   "metadata": {},
   "outputs": [
    {
     "name": "stdout",
     "output_type": "stream",
     "text": [
      "Input String: 1,2,3,4,5\n",
      "List of Integers: [1, 2, 3, 4, 5]\n",
      "Output String: 1,2,3,4,5\n"
     ]
    }
   ],
   "source": [
    "# Conversion Functions\n",
    "\n",
    "def string_to_list(input_string):\n",
    "    \"\"\"\n",
    "    Convert a string of integers into a list of integers.\n",
    "    \n",
    "    Args:\n",
    "        input_string (str): A string of integers separated by commas.\n",
    "    \n",
    "    Returns:\n",
    "        list: A list of integers.\n",
    "    \"\"\"\n",
    "    return [int(num) for num in input_string.split(\",\")]\n",
    "\n",
    "def list_to_string(input_list):\n",
    "    \"\"\"\n",
    "    Convert a list of integers into a string of integers.\n",
    "    \n",
    "    Args:\n",
    "        input_list (list): A list of integers.\n",
    "    \n",
    "    Returns:\n",
    "        str: A string of integers separated by commas.\n",
    "    \"\"\"\n",
    "    return \",\".join(map(str, input_list))\n",
    "\n",
    "# Example usage\n",
    "input_string = \"1,2,3,4,5\"\n",
    "print(\"Input String:\", input_string)\n",
    "\n",
    "# Convert string to list\n",
    "num_list = string_to_list(input_string)\n",
    "print(\"List of Integers:\", num_list)\n",
    "\n",
    "# Convert list back to string\n",
    "output_string = list_to_string(num_list)\n",
    "print(\"Output String:\", output_string)"
   ]
  },
  {
   "cell_type": "markdown",
   "id": "c1d020d6-16cd-4a3b-b34c-eef34bcb62db",
   "metadata": {},
   "source": [
    "\n",
    "3. Create a simple expense tracker where users can add, view, and delete expenses."
   ]
  },
  {
   "cell_type": "code",
   "execution_count": 16,
   "id": "df0a79d9-0659-474b-aefd-7cf100cdb99d",
   "metadata": {},
   "outputs": [
    {
     "name": "stdout",
     "output_type": "stream",
     "text": [
      "\n",
      "Expense Tracker\n",
      "1. Add Expense\n",
      "2. View Expenses\n",
      "3. Delete Expense\n",
      "4. Update Expense\n",
      "5. Exit\n"
     ]
    },
    {
     "name": "stdin",
     "output_type": "stream",
     "text": [
      "Enter your choice:  1\n",
      "Enter expense name:  25000\n",
      "Enter expense amount:  25000\n"
     ]
    },
    {
     "name": "stdout",
     "output_type": "stream",
     "text": [
      "Expense '25000' added successfully.\n",
      "\n",
      "Expense Tracker\n",
      "1. Add Expense\n",
      "2. View Expenses\n",
      "3. Delete Expense\n",
      "4. Update Expense\n",
      "5. Exit\n"
     ]
    },
    {
     "name": "stdin",
     "output_type": "stream",
     "text": [
      "Enter your choice:  5\n"
     ]
    }
   ],
   "source": [
    "class ExpenseTracker:\n",
    "    def __init__(self):\n",
    "        self.expenses = {}\n",
    "\n",
    "    def add_expense(self, name, amount):\n",
    "        if name in self.expenses:\n",
    "            print(\"Expense already exists. Please update instead.\")\n",
    "        else:\n",
    "            self.expenses[name] = amount\n",
    "            print(f\"Expense '{name}' added successfully.\")\n",
    "\n",
    "    def view_expenses(self):\n",
    "        if not self.expenses:\n",
    "            print(\"No expenses added yet.\")\n",
    "        else:\n",
    "            print(\"Expenses:\")\n",
    "            for name, amount in self.expenses.items():\n",
    "                print(f\"{name}: ${amount:.2f}\")\n",
    "\n",
    "    def delete_expense(self, name):\n",
    "        if name in self.expenses:\n",
    "            del self.expenses[name]\n",
    "            print(f\"Expense '{name}' deleted successfully.\")\n",
    "        else:\n",
    "            print(f\"Expense '{name}' not found.\")\n",
    "\n",
    "    def update_expense(self, name, amount):\n",
    "        if name in self.expenses:\n",
    "            self.expenses[name] = amount\n",
    "            print(f\"Expense '{name}' updated successfully.\")\n",
    "        else:\n",
    "            print(f\"Expense '{name}' not found.\")\n",
    "\n",
    "def main():\n",
    "    tracker = ExpenseTracker()\n",
    "\n",
    "    while True:\n",
    "        print(\"\\nExpense Tracker\")\n",
    "        print(\"1. Add Expense\")\n",
    "        print(\"2. View Expenses\")\n",
    "        print(\"3. Delete Expense\")\n",
    "        print(\"4. Update Expense\")\n",
    "        print(\"5. Exit\")\n",
    "\n",
    "        choice = input(\"Enter your choice: \")\n",
    "\n",
    "        if choice == \"1\":\n",
    "            name = input(\"Enter expense name: \")\n",
    "            amount = float(input(\"Enter expense amount: \"))\n",
    "            tracker.add_expense(name, amount)\n",
    "        elif choice == \"2\":\n",
    "            tracker.view_expenses()\n",
    "        elif choice == \"3\":\n",
    "            name = input(\"Enter expense name to delete: \")\n",
    "            tracker.delete_expense(name)\n",
    "        elif choice == \"4\":\n",
    "            name = input(\"Enter expense name to update: \")\n",
    "            amount = float(input(\"Enter new expense amount: \"))\n",
    "            tracker.update_expense(name, amount)\n",
    "        elif choice == \"5\":\n",
    "            break\n",
    "        else:\n",
    "            print(\"Invalid choice. Please try again.\")\n",
    "\n",
    "if __name__ == \"__main__\":\n",
    "    main()\n"
   ]
  },
  {
   "cell_type": "markdown",
   "id": "5b15c689-404d-46f5-99a0-3dc35420b181",
   "metadata": {},
   "source": [
    "4. write a program which will find all such numbers which are divisible by 7 but are not a multiple of 5"
   ]
  },
  {
   "cell_type": "code",
   "execution_count": 9,
   "id": "cad74b83-0849-44a4-bf7e-7ca235ce856e",
   "metadata": {},
   "outputs": [
    {
     "name": "stdout",
     "output_type": "stream",
     "text": [
      "Numbers dvisible by 7 but not multiple of 5:\n",
      "[7, 14, 21, 28, 42, 49, 56, 63, 77, 84, 91, 98]\n"
     ]
    }
   ],
   "source": [
    "def find_numbers():\n",
    "    numbers=[]\n",
    "    for i in range(1,100):\n",
    "        if i % 7 == 0 and i % 5 != 0:\n",
    "            numbers.append(i)\n",
    "    return numbers\n",
    "\n",
    "numbers=find_numbers() \n",
    "print(\"Numbers dvisible by 7 but not multiple of 5:\")\n",
    "print(numbers)"
   ]
  },
  {
   "cell_type": "markdown",
   "id": "9efe0d98-f01f-4d5f-a8d4-b88a71cb2222",
   "metadata": {},
   "source": [
    "5. write a program that accepts a sequence of whitespaces separated words as a input and prints the words after removing all duplicate words and sorting them alphanumerically"
   ]
  },
  {
   "cell_type": "code",
   "execution_count": 13,
   "id": "c3929b67-e376-4a0a-be3d-ebe1d142657c",
   "metadata": {},
   "outputs": [
    {
     "name": "stdin",
     "output_type": "stream",
     "text": [
      "Enter a sequence of whitespaces-separated words: mohini is my name\n"
     ]
    },
    {
     "name": "stdout",
     "output_type": "stream",
     "text": [
      "Sorted unique words:\n",
      "['is', 'mohini', 'my', 'name']\n"
     ]
    }
   ],
   "source": [
    "def process_words():\n",
    "    user_input=input(\"Enter a sequence of whitespaces-separated words:\")\n",
    "    words=user_input.split()\n",
    "    unique_words=set(words)\n",
    "    sorted_words=sorted(list(unique_words))\n",
    "    print(\"Sorted unique words:\")\n",
    "    print(sorted_words)\n",
    "\n",
    "process_words()"
   ]
  },
  {
   "cell_type": "markdown",
   "id": "a5a15c85-3244-42ab-8cbf-c44b03ae403c",
   "metadata": {},
   "source": [
    "6. write a function to count the frequency of each character in a given string"
   ]
  },
  {
   "cell_type": "code",
   "execution_count": 17,
   "id": "9f84d9bb-231c-4b95-9eee-909e967cb7f4",
   "metadata": {},
   "outputs": [
    {
     "name": "stdout",
     "output_type": "stream",
     "text": [
      "{'M': 2, 'y': 1, ' ': 3, 'n': 2, 'a': 1, 'm': 1, 'e': 1, 'i': 3, 's': 1, 'o': 1, 'h': 1}\n"
     ]
    }
   ],
   "source": [
    "def count_char_frequency(input_string):\n",
    "    frequency_dict={}\n",
    "    for char in input_string:\n",
    "        if char in frequency_dict:\n",
    "            frequency_dict[char]+=1\n",
    "        else:\n",
    "            frequency_dict[char]=1\n",
    "    return frequency_dict\n",
    " \n",
    "#test the function\n",
    "input_str=\"My name is Mohini\"\n",
    "print(count_char_frequency(input_str))"
   ]
  },
  {
   "cell_type": "markdown",
   "id": "7041ff0e-9148-4538-b913-878e112e807d",
   "metadata": {},
   "source": [
    "7. write a program to read a csv file and print the contents line by line"
   ]
  },
  {
   "cell_type": "code",
   "execution_count": 20,
   "id": "cd55fa7f-61da-4a0c-adf5-6dbefe31fab0",
   "metadata": {},
   "outputs": [
    {
     "data": {
      "text/html": [
       "<div>\n",
       "<style scoped>\n",
       "    .dataframe tbody tr th:only-of-type {\n",
       "        vertical-align: middle;\n",
       "    }\n",
       "\n",
       "    .dataframe tbody tr th {\n",
       "        vertical-align: top;\n",
       "    }\n",
       "\n",
       "    .dataframe thead th {\n",
       "        text-align: right;\n",
       "    }\n",
       "</style>\n",
       "<table border=\"1\" class=\"dataframe\">\n",
       "  <thead>\n",
       "    <tr style=\"text-align: right;\">\n",
       "      <th></th>\n",
       "      <th>name</th>\n",
       "      <th>age</th>\n",
       "    </tr>\n",
       "  </thead>\n",
       "  <tbody>\n",
       "    <tr>\n",
       "      <th>0</th>\n",
       "      <td>mohini</td>\n",
       "      <td>19</td>\n",
       "    </tr>\n",
       "    <tr>\n",
       "      <th>1</th>\n",
       "      <td>neha</td>\n",
       "      <td>20</td>\n",
       "    </tr>\n",
       "    <tr>\n",
       "      <th>2</th>\n",
       "      <td>khushi</td>\n",
       "      <td>21</td>\n",
       "    </tr>\n",
       "    <tr>\n",
       "      <th>3</th>\n",
       "      <td>diya</td>\n",
       "      <td>22</td>\n",
       "    </tr>\n",
       "    <tr>\n",
       "      <th>4</th>\n",
       "      <td>sita</td>\n",
       "      <td>23</td>\n",
       "    </tr>\n",
       "  </tbody>\n",
       "</table>\n",
       "</div>"
      ],
      "text/plain": [
       "     name  age\n",
       "0  mohini   19\n",
       "1    neha   20\n",
       "2  khushi   21\n",
       "3    diya   22\n",
       "4    sita   23"
      ]
     },
     "execution_count": 20,
     "metadata": {},
     "output_type": "execute_result"
    }
   ],
   "source": [
    "import pandas as pd\n",
    "file_read=pd.read_csv(\"C:\\\\Users\\\\mohin\\\\Desktop\\\\prog.csv\")\n",
    "\n",
    "file_read"
   ]
  },
  {
   "cell_type": "markdown",
   "id": "11d4c0d1-4505-4f9f-ba3e-91e4332c8762",
   "metadata": {},
   "source": [
    "8. Implement a function to generate all permutations of a list"
   ]
  },
  {
   "cell_type": "code",
   "execution_count": 24,
   "id": "7f4d065c-9f8c-41e3-8a9f-9c1d1f782b1d",
   "metadata": {},
   "outputs": [
    {
     "name": "stdout",
     "output_type": "stream",
     "text": [
      "[[1, 2, 3], [1, 3, 2], [2, 1, 3], [2, 3, 1], [3, 1, 2], [3, 2, 1]]\n"
     ]
    }
   ],
   "source": [
    "def generate_permutations(input_list):\n",
    "    #base case: if the list has only one element,return a list containing only that element\n",
    "    if len(input_list)==1:\n",
    "        return[input_list]\n",
    "    #initialize an empty list to store the permutations\n",
    "    permutations=[]\n",
    "    #iterate over each element in the input list\n",
    "    for i,element in enumerate(input_list):\n",
    "        #create a new list that contains all elements except the current element\n",
    "        remaining_elements=input_list[:i]+input_list[i+1:]\n",
    "        #recursively generate permutations of the remaining elements\n",
    "        for permutation in generate_permutations(remaining_elements):\n",
    "            #add the current element to the beginning of each permutation\n",
    "            permutations.append([element]+permutation)\n",
    "#return  the list of permutations\n",
    "    return permutations\n",
    "#test the function\n",
    "input_list=[1,2,3]\n",
    "print(generate_permutations(input_list))"
   ]
  },
  {
   "cell_type": "markdown",
   "id": "fc79cf2b-52a1-4e69-9f1f-a0a7e43227cc",
   "metadata": {},
   "source": [
    "9. Reverse a sting without using built-in functions"
   ]
  },
  {
   "cell_type": "code",
   "execution_count": 27,
   "id": "00632b8d-1f72-482f-bb6a-9661f8afb89c",
   "metadata": {},
   "outputs": [
    {
     "name": "stdout",
     "output_type": "stream",
     "text": [
      "Original String:\n",
      "Reversed String:\n"
     ]
    },
    {
     "data": {
      "text/plain": [
       "'noonretfA dooG'"
      ]
     },
     "execution_count": 27,
     "metadata": {},
     "output_type": "execute_result"
    }
   ],
   "source": [
    "def reverse_string(s):\n",
    "    reversed_s=''\n",
    "    for char in s:\n",
    "        reversed_s=char+reversed_s\n",
    "    return reversed_s\n",
    "\n",
    "#test the function\n",
    "s=\"Good Afternoon\"\n",
    "print(\"Original String:\")\n",
    "print(\"Reversed String:\")\n",
    "reverse_string(s)"
   ]
  },
  {
   "cell_type": "markdown",
   "id": "3453b3b6-0699-4cac-86eb-a75a0ffd87c6",
   "metadata": {},
   "source": [
    "10. Rotate the elements of a  list (eg,[1,2,3,4] becomes[4,1,2,3])"
   ]
  },
  {
   "cell_type": "code",
   "execution_count": 30,
   "id": "80a2bd6d-feae-4a2b-9332-452a3b668c23",
   "metadata": {},
   "outputs": [
    {
     "name": "stdout",
     "output_type": "stream",
     "text": [
      "Original list: [1, 2, 3, 4]\n",
      "Rotated list: [4, 1, 2, 3]\n"
     ]
    }
   ],
   "source": [
    "def rotate_list(list):\n",
    "    return lst[-1:]+lst[:-1]\n",
    "#test the function\n",
    "lst=[1,2,3,4]\n",
    "print(\"Original list:\",lst)\n",
    "print(\"Rotated list:\",rotate_list(lst))"
   ]
  },
  {
   "cell_type": "markdown",
   "id": "5a38f299-b581-4b8e-ad28-1ce18d9ffafb",
   "metadata": {},
   "source": [
    "11. to merge two dictionaries , summing the values of common keys"
   ]
  },
  {
   "cell_type": "code",
   "execution_count": 34,
   "id": "7bd5676c-7be3-4937-aa4d-09a6d2e72477",
   "metadata": {},
   "outputs": [
    {
     "name": "stdout",
     "output_type": "stream",
     "text": [
      "Dictionary1: {'a': '10', 'b': '20'}\n",
      "Dictionary2: {'b': '44', 'c': '55'}\n",
      "Merged Dictionary: {'a': '10', 'b': '2044', 'c': '55'}\n"
     ]
    }
   ],
   "source": [
    "#function\n",
    "def merge_dictionaries(dict1,dict2):\n",
    "    merged_dict={**dict1}\n",
    "    for key,value in dict2.items():\n",
    "        if key  in merged_dict:\n",
    "            merged_dict[key]+=value\n",
    "        else:\n",
    "            merged_dict[key]=value\n",
    "    return merged_dict\n",
    "#test the function\n",
    "dict1={'a':'10','b':'20'}\n",
    "dict2={'b':'44','c':'55'}\n",
    "\n",
    "print(\"Dictionary1:\",dict1)\n",
    "print(\"Dictionary2:\",dict2)\n",
    "print(\"Merged Dictionary:\",merge_dictionaries(dict1,dict2))"
   ]
  },
  {
   "cell_type": "markdown",
   "id": "7a4cb976-30fe-4a40-9809-6283ad7de586",
   "metadata": {},
   "source": [
    "12. generate the fibonacci sequence up to n numbers"
   ]
  },
  {
   "cell_type": "code",
   "execution_count": 37,
   "id": "95343a8a-6c26-4f42-a4cc-cb2e9bc6f909",
   "metadata": {},
   "outputs": [
    {
     "name": "stdin",
     "output_type": "stream",
     "text": [
      "Enter the number of terms: 10\n"
     ]
    },
    {
     "name": "stdout",
     "output_type": "stream",
     "text": [
      "Fibonacci sequence up to 10 terms\n",
      "[0, 1, 1, 2, 3, 5, 8, 13, 21, 34]\n"
     ]
    }
   ],
   "source": [
    "def fibonacci(n):\n",
    "    fib_sequence=[0,1]\n",
    "    while len(fib_sequence)<n:\n",
    "        fib_sequence.append(fib_sequence[-1]+fib_sequence[-2])\n",
    "    return fib_sequence[:n]\n",
    "\n",
    "n=int(input(\"Enter the number of terms:\"))\n",
    "print(\"Fibonacci sequence up to\",n,\"terms\")\n",
    "print(fibonacci(n))"
   ]
  },
  {
   "cell_type": "markdown",
   "id": "56e92164-3584-43cc-938c-e254814ec699",
   "metadata": {},
   "source": [
    "13. program to count trailing zeros in a factorial"
   ]
  },
  {
   "cell_type": "code",
   "execution_count": 40,
   "id": "75c0f6b4-3cbb-4476-859e-10e51555c057",
   "metadata": {},
   "outputs": [
    {
     "name": "stdin",
     "output_type": "stream",
     "text": [
      "Enter a number: 28\n"
     ]
    },
    {
     "name": "stdout",
     "output_type": "stream",
     "text": [
      "Trailing zeros in 28 !: 6\n"
     ]
    }
   ],
   "source": [
    "def count_trailing_zeros(n):\n",
    "    count=0\n",
    "    i=5\n",
    "    while n//i>=1:\n",
    "        count+=n//i\n",
    "        i*=5\n",
    "    return count\n",
    "\n",
    "n=int(input(\"Enter a number:\"))\n",
    "print(\"Trailing zeros in\",n,\"!:\",count_trailing_zeros(n))"
   ]
  },
  {
   "cell_type": "markdown",
   "id": "cf9bb75f-d1bf-4c30-b7fe-80899a32be80",
   "metadata": {},
   "source": [
    "14. implementation of a password generator with rules for length, special characters and numbers."
   ]
  },
  {
   "cell_type": "code",
   "execution_count": 11,
   "id": "6c5c4f0b-8a09-4314-89f4-9fed79d72eb8",
   "metadata": {},
   "outputs": [
    {
     "name": "stdout",
     "output_type": "stream",
     "text": [
      "Generated password :  aVJDn2Yw}={\"@^0I\n"
     ]
    }
   ],
   "source": [
    "import random\n",
    "import string\n",
    "\n",
    "def generate_password(length = 22, use_uppercase = True, use_numbers = True, use_special_chars = True):\n",
    "        \"\"\"\n",
    "            generate a password with specified rules.\n",
    "\n",
    "            Args:\n",
    "                length (int): password length. defaults to 12\n",
    "                use_uppercase (bool): include uppercase letters. defaults to True\n",
    "                use_numbers (bool): include numbers. defaults to True\n",
    "                use_special_chars (bool): include special characters. defaults to True\n",
    "\n",
    "            Returns:\n",
    "                str: Generate password.\n",
    "        \"\"\"\n",
    "        # define character sets\n",
    "        lowercase = string.ascii_lowercase # password have small case letter\n",
    "        uppercase = string.ascii_uppercase # atleast one letter is capital\n",
    "        digits = string.digits # password should digit\n",
    "        special_chars = string.punctuation # for special character (@,!,*)\n",
    "\n",
    "        # combine character sets based on rules\n",
    "        chars = lowercase\n",
    "        if use_uppercase:\n",
    "            chars += uppercase\n",
    "        if use_numbers:\n",
    "            chars += digits\n",
    "        if use_special_chars:\n",
    "            chars += special_chars\n",
    "\n",
    "        # password includes at least one charater from each set\n",
    "        password = []\n",
    "        if use_uppercase:\n",
    "            password.append(random.choice(uppercase))\n",
    "        if use_numbers:\n",
    "            password.append(random.choice(digits))\n",
    "        if use_special_chars:\n",
    "            password.append(random.choice(special_chars))\n",
    "\n",
    "        for _ in range(length - len(password)):\n",
    "            password.append(random.choice(chars))\n",
    "\n",
    "        random.shuffle(password) # shuffle for take list of character and arrange them randomly\n",
    "\n",
    "        return ''.join(password)\n",
    "\n",
    "password = generate_password(length = 16,use_uppercase = True, use_numbers = True, use_special_chars = True)\n",
    "print('Generated password : ',password)"
   ]
  },
  {
   "cell_type": "markdown",
   "id": "d3281a4e-8bed-4e74-b761-3831305a702d",
   "metadata": {},
   "source": [
    "15. develop a function to calculate the Levenshtein distance (edit distance) between two strings"
   ]
  },
  {
   "cell_type": "code",
   "execution_count": 3,
   "id": "0abd008e-2be0-4d21-9c3f-2fcb19e41e2a",
   "metadata": {},
   "outputs": [
    {
     "name": "stdout",
     "output_type": "stream",
     "text": [
      "6\n",
      "5\n"
     ]
    }
   ],
   "source": [
    "def levenshtein_distance(string1,string2):\n",
    "    m, n = len(string1), len(string2)\n",
    "    dp = [[0 for j in range(n+1)] for i in range(m+1)]\n",
    "\n",
    "    # initializing base case\n",
    "    for i in range(m+1):\n",
    "        dp[i][0] = i # dp is row and column\n",
    "    for j in range(n+1):\n",
    "        dp[0][j] = j\n",
    "\n",
    "    # edit distance\n",
    "    for i in range(1, m+1):\n",
    "        for j in range(1,n+1):\n",
    "            if string1[i-1] == string2[j-1]:\n",
    "                dp[i][j] = dp[i-1][j-1]\n",
    "            else:\n",
    "                dp[i][j] = min(dp[i-1][j] + 1, # deletion\n",
    "                              dp[i][j-1]+1, # insertion\n",
    "                              dp[i-1][j-1]+1) # substitution\n",
    "    return dp[m][n]\n",
    "\n",
    "# test cases\n",
    "string1 = \"mohini\"\n",
    "string2 = \"argade\"\n",
    "print(levenshtein_distance(string1,string2))\n",
    "\n",
    "\n",
    "string1 = \"mona\"\n",
    "string2 = \"argade\"\n",
    "print(levenshtein_distance(string1,string2))\n",
    "\n"
   ]
  },
  {
   "cell_type": "markdown",
   "id": "2766ce03-7887-469d-bf14-c13f5627d727",
   "metadata": {},
   "source": [
    "16. write a python program to check if string is a palindrome"
   ]
  },
  {
   "cell_type": "code",
   "execution_count": 12,
   "id": "563dc28f-0235-405b-baf0-07fcd05d34af",
   "metadata": {},
   "outputs": [
    {
     "name": "stdout",
     "output_type": "stream",
     "text": [
      "'45' is not palindrome\n",
      "'bhargavi' is not palindrome\n",
      "'gauri' is not palindrome\n"
     ]
    }
   ],
   "source": [
    "def is_palindrome(s):\n",
    "    \"\"\"\n",
    "    check if a string is a palindrome\n",
    "\n",
    "    Args:\n",
    "        s(str): Input string\n",
    "\n",
    "    Returns:\n",
    "        bool : true if the string is a palindrome\n",
    "    \"\"\"\n",
    "\n",
    "    s = ''.join(c for c in s if c.isalnum()).lower() # remove non-alphanumeric characters and convert to lowercase\n",
    "    return s == s[::-1] # compare the string with its reverse\n",
    "\n",
    "# example usage\n",
    "strings = ['45','bhargavi','gauri']\n",
    "\n",
    "for s in strings:\n",
    "    if is_palindrome(s):\n",
    "        print(f\"{s}' is a palindrome\")\n",
    "    else:\n",
    "        print(f\"'{s}' is not palindrome\")\n",
    "    "
   ]
  },
  {
   "cell_type": "markdown",
   "id": "85b41a2b-a777-48e9-8518-ce10cc0bfe60",
   "metadata": {},
   "source": [
    "17. python program to find the second largest number in a list without using built-in functions"
   ]
  },
  {
   "cell_type": "code",
   "execution_count": 19,
   "id": "f8c10596-e2bb-4e4a-87a3-2370425b1fa3",
   "metadata": {},
   "outputs": [
    {
     "name": "stdout",
     "output_type": "stream",
     "text": [
      "second largest number in the list is:34\n"
     ]
    }
   ],
   "source": [
    "def find_second_largest(n):\n",
    "    \"\"\"\n",
    "\n",
    "    find the second largest number in a list\n",
    "\n",
    "    Args:\n",
    "        n(list): a list of numbers\n",
    "    returns:\n",
    "        int : the second largest number in the list. if no second largest number exists, returns none\n",
    "    \"\"\"\n",
    "    # check if the list has less than 2 elements\n",
    "    if len(n) < 2:\n",
    "        return None\n",
    "\n",
    "    # initialize max and second_max variables\n",
    "    max_num = second_max = float('-inf')\n",
    "\n",
    "    # iterate through the list\n",
    "    for n in n:\n",
    "        if n > max_num:\n",
    "            second_max = max_num\n",
    "            max_num = n\n",
    "        elif n > second_max and n != max_num:\n",
    "            second_max = n\n",
    "\n",
    "    # check second largest is in the list\n",
    "    if second_max == float('-inf'):\n",
    "        return None\n",
    "    else:\n",
    "        return second_max\n",
    "\n",
    "# example\n",
    "numbers = [12,11,4,31,1,4,34,322]\n",
    "\n",
    "second_largest = find_second_largest(numbers)\n",
    "if second_largest is not None:\n",
    "    print(f\"second largest number in the list is:{second_largest}\")\n",
    "\n",
    "else:\n",
    "    print('no number exists')"
   ]
  },
  {
   "cell_type": "markdown",
   "id": "7e9ec779-9efd-493e-a567-8436309d9550",
   "metadata": {},
   "source": [
    "18. write a python program to find the longest word in a given sentence and its length"
   ]
  },
  {
   "cell_type": "code",
   "execution_count": 2,
   "id": "4838b699-02d0-4587-9cad-08c8d2f17f19",
   "metadata": {},
   "outputs": [
    {
     "name": "stdout",
     "output_type": "stream",
     "text": [
      "mohini\n"
     ]
    }
   ],
   "source": [
    "str1 = 'my name is mohini'\n",
    "\n",
    "# split the sentence into words\n",
    "words = str1.split()\n",
    "\n",
    "# find the longest word\n",
    "res = max(words, key=len) # max for find maximum length\n",
    "\n",
    "print(res)"
   ]
  },
  {
   "cell_type": "markdown",
   "id": "f7abbea5-d5b3-493c-88fa-8c74b6c6f616",
   "metadata": {},
   "source": [
    "19. write a python program to find all unique subsets of a given list of numbers"
   ]
  },
  {
   "cell_type": "code",
   "execution_count": 5,
   "id": "0222f49b-c34d-4711-a95e-866b97c45b08",
   "metadata": {},
   "outputs": [
    {
     "name": "stdout",
     "output_type": "stream",
     "text": [
      "Unique subsets:\n",
      "[]\n",
      "[1]\n",
      "[2]\n",
      "[1, 2]\n",
      "[3]\n",
      "[1, 3]\n",
      "[2, 3]\n",
      "[1, 2, 3]\n"
     ]
    }
   ],
   "source": [
    "#Write a Python program to find all unique subsets of a given list of numbers\n",
    "def find_unique_subsets(nums):\n",
    "    \"\"\"\n",
    "    Find all unique subsets of a given list of numbers.\n",
    "\n",
    "    Args:\n",
    "        nums (list): A list of numbers.\n",
    "\n",
    "    Returns:\n",
    "        list: A list of lists, where each sublist is a unique subset of the input list.\n",
    "    \"\"\"\n",
    "\n",
    "    # result list with an empty subset\n",
    "    result = [[]]\n",
    "\n",
    "    # Iterate through the input list\n",
    "    for num in nums:\n",
    "        # Calculate the length of the current result list\n",
    "        n = len(result)\n",
    "\n",
    "        # Iterate through the current result list\n",
    "        for i in range(n):\n",
    "            # Create a new subset by appending the current number to an existing subset\n",
    "            new_subset = result[i] + [num]\n",
    "\n",
    "            # Add the new subset to the result list if it's not already present\n",
    "            if new_subset not in result:\n",
    "                result.append(new_subset)\n",
    "\n",
    "    return result\n",
    "\n",
    "# Example usage:\n",
    "numbers = [1, 2, 3]\n",
    "unique_subsets = find_unique_subsets(numbers)\n",
    "\n",
    "print(\"Unique subsets:\")\n",
    "for subset in unique_subsets:\n",
    "    print(subset)\n"
   ]
  },
  {
   "cell_type": "markdown",
   "id": "5bfbc4be-3b66-4a7f-9c80-354917e80346",
   "metadata": {},
   "source": [
    "20. Filter a DataFrame to include only rows where a certain column's value is above the 75th percentile.\n",
    "\n",
    "\n"
   ]
  },
  {
   "cell_type": "code",
   "execution_count": 10,
   "id": "0262da20-7b8d-43ab-a4d6-450c005befbc",
   "metadata": {},
   "outputs": [
    {
     "name": "stdout",
     "output_type": "stream",
     "text": [
      "      Values\n",
      "0   1.764052\n",
      "2   0.978738\n",
      "3   2.240893\n",
      "4   1.867558\n",
      "6   0.950088\n",
      "11  1.454274\n",
      "12  0.761038\n",
      "16  1.494079\n",
      "22  0.864436\n",
      "24  2.269755\n",
      "28  1.532779\n",
      "29  1.469359\n",
      "36  1.230291\n",
      "37  1.202380\n",
      "43  1.950775\n",
      "47  0.777490\n",
      "72  1.139401\n",
      "81  0.900826\n",
      "84  1.488252\n",
      "85  1.895889\n",
      "86  1.178780\n",
      "89  1.054452\n",
      "91  1.222445\n",
      "93  0.976639\n",
      "97  1.785870\n"
     ]
    }
   ],
   "source": [
    "#Filter a DataFrame to include only rows where a certain column's value is above the 75th percentile.\n",
    "import pandas as pd\n",
    "import numpy as np\n",
    "\n",
    "# Create a DataFrame\n",
    "np.random.seed(0) # create random number,index start with 0 index\n",
    "data = np.random.randn(100) #create array of random number\n",
    "df = pd.DataFrame(data, columns=['Values'])\n",
    "\n",
    "# Calculate the 75th percentile\n",
    "percentile_75 = df['Values'].quantile(0.75)\n",
    "\n",
    "# Filter the DataFrame to include only rows above the 75th percentile\n",
    "filtered_df = df[df['Values'] > percentile_75]\n",
    "\n",
    "print(filtered_df)\n",
    "\n"
   ]
  },
  {
   "cell_type": "markdown",
   "id": "26985e1f-4cf8-49b7-abd0-09a88f9b89e8",
   "metadata": {},
   "source": [
    "21. Write a program to find the eigenvalues and eigenvectors of a 2x2 matrix using NumPy."
   ]
  },
  {
   "cell_type": "code",
   "execution_count": 13,
   "id": "1acdc05c-5e0b-4379-bbe2-33aa9c462593",
   "metadata": {},
   "outputs": [
    {
     "name": "stdout",
     "output_type": "stream",
     "text": [
      "Matrix A:\n",
      "[[1 2]\n",
      " [3 4]]\n",
      "\n",
      "Eigenvalues:\n",
      "[-0.37228132  5.37228132]\n",
      "\n",
      "Eigenvectors:\n",
      "[[-0.82456484 -0.41597356]\n",
      " [ 0.56576746 -0.90937671]]\n",
      "\n",
      "Verifying eigenvalue equation for λ = -0.3722813232690143:\n",
      "Ax:\n",
      "[ 0.30697009 -0.21062466]\n",
      "λx:\n",
      "[ 0.30697009 -0.21062466]\n",
      "\n",
      "Verifying eigenvalue equation for λ = 5.372281323269014:\n",
      "Ax:\n",
      "[-2.23472698 -4.88542751]\n",
      "λx:\n",
      "[-2.23472698 -4.88542751]\n"
     ]
    }
   ],
   "source": [
    "\n",
    "import numpy as np\n",
    "\n",
    "# Define a 2x2 matrix\n",
    "A = np.array([[1, 2], [3, 4]])\n",
    "\n",
    "# Calculate the eigenvalues and eigenvectors\n",
    "eigenvalues, eigenvectors = np.linalg.eig(A) # to return value in square array\n",
    "\n",
    "# Print the results\n",
    "print(\"Matrix A:\")\n",
    "print(A)\n",
    "print(\"\\nEigenvalues:\")\n",
    "print(eigenvalues)\n",
    "print(\"\\nEigenvectors:\")\n",
    "print(eigenvectors)\n",
    "\n",
    "# Verify the eigenvalue equation (Ax = λx)\n",
    "for i, eigenvalue in enumerate(eigenvalues):\n",
    "    eigenvector = eigenvectors[:, i]\n",
    "    print(f\"\\nVerifying eigenvalue equation for λ = {eigenvalue}:\")\n",
    "    print(\"Ax:\")  # Ax  (A is eignvector) \n",
    "    print(np.dot(A, eigenvector))\n",
    "    print(\"λx:\") \n",
    "    print(eigenvalue * eigenvector)\n",
    "\n"
   ]
  },
  {
   "cell_type": "markdown",
   "id": "51bf2fac-6244-464d-a34e-8e3a42c8ecd1",
   "metadata": {},
   "source": [
    "22. write a program to find the longest word in a given sentence and its length"
   ]
  },
  {
   "cell_type": "code",
   "execution_count": 4,
   "id": "4f5c33e4-464b-43c2-b7bf-ffce3291054d",
   "metadata": {},
   "outputs": [
    {
     "name": "stdout",
     "output_type": "stream",
     "text": [
      "mohini\n"
     ]
    }
   ],
   "source": [
    "s = 'mohini is my name'\n",
    "\n",
    "# split the sentence into words\n",
    "words = s.split()\n",
    "\n",
    "# find the longest word\n",
    "res = max(words,key=len) # max for find maximum length\n",
    "\n",
    "print(res)"
   ]
  },
  {
   "cell_type": "markdown",
   "id": "e877774b-eff2-4e2b-80da-0db87df10d44",
   "metadata": {},
   "source": [
    "23. check if the string contains @ and make sure @ comes before. ensure both are not at the start or end."
   ]
  },
  {
   "cell_type": "code",
   "execution_count": 7,
   "id": "648ea5ba-99d3-49be-a841-e9656cfe33c8",
   "metadata": {},
   "outputs": [
    {
     "name": "stdout",
     "output_type": "stream",
     "text": [
      "invalid email\n"
     ]
    }
   ],
   "source": [
    "def validate_email(string):\n",
    "    # check if the string contains both '@' and '.'\n",
    "    if '@' not in string or '.' not in string:\n",
    "        return False # return false if either '@' or '.' is missing\n",
    "\n",
    "    # find the index of '@' and the last occurrence of '.'\n",
    "    at_index = string.index('@')\n",
    "    dot_index = string.rindex('.')\n",
    "# rindex() - returns the highest index of a specified value in a string.\n",
    "    # check if '@' or '.' is at the start or end of the string\n",
    "    if at_index == 0 or at_index == len(string) - 1:\n",
    "        return False # '@' cannot be at the start or end\n",
    "    if dot_index == 0 or dot_index == len(string) - 1:\n",
    "        return False # '.' cannot be at the start or end \n",
    "    # check if '@' comes before '.'\n",
    "    if at_index > dot_index:\n",
    "        return False # '@' must come before '.'\n",
    "    # if all checks pass, return True\n",
    "    return True\n",
    "\n",
    "mail = 'mohinigmail.com'\n",
    "if validate_email(mail):\n",
    "    print('valid email')\n",
    "else:\n",
    "    print('invalid email')"
   ]
  },
  {
   "cell_type": "markdown",
   "id": "e132d553-1b69-49fc-adf4-3168c9f56fbb",
   "metadata": {},
   "source": [
    "24. take the first string as the starting prefix. compare its characters one-by-one with the rest of the strings. stop when characters dont match."
   ]
  },
  {
   "cell_type": "code",
   "execution_count": 5,
   "id": "5d1803ea-7ab8-43c5-b1ef-6b48e962ec10",
   "metadata": {},
   "outputs": [
    {
     "name": "stdout",
     "output_type": "stream",
     "text": [
      "\n"
     ]
    }
   ],
   "source": [
    "def longest_common_prefix(string):\n",
    "    # check if the input list is empty\n",
    "    return \"\"\n",
    "    # take the first string as the starting prefix\n",
    "    prefix = string[0]\n",
    "    # iterate through the rest of the strings\n",
    "    for s in string[1:]:\n",
    "        # initialize an index to track the matching\n",
    "        i = 0\n",
    "        # compare characters one-by-one\n",
    "        while i < len(s) and i < len(prefix) and s[i] == prefix[i]:\n",
    "            i+=1\n",
    "        # update the prefix to the matched characters\n",
    "        prefix = prefix[:i]\n",
    "    # return the longest common prefix\n",
    "    return prefix\n",
    "strings = ['mohini','mona','mina']\n",
    "print(longest_common_prefix(strings))"
   ]
  },
  {
   "cell_type": "markdown",
   "id": "6037eadb-586f-4ebd-8da2-1a4ac2b3ddce",
   "metadata": {},
   "source": [
    "3. convert the string into a list of characters. loop through each index i.\n",
    "pick another index j using math (like(i*3+7)% length).swap characters back into a string"
   ]
  },
  {
   "cell_type": "code",
   "execution_count": 1,
   "id": "8792ba9b-c6a3-4bea-8ebe-9c52d7101cfc",
   "metadata": {},
   "outputs": [
    {
     "name": "stdout",
     "output_type": "stream",
     "text": [
      "original string mohini\n",
      "scrambled string oinmih\n"
     ]
    }
   ],
   "source": [
    "def scramble_string(s):\n",
    "    # convert the string into a list of charactes \n",
    "    char_list = list(s)\n",
    "    length = len(s)\n",
    "    # loop through each index i\n",
    "    for i in range(length):\n",
    "        # pick another index j using a mathematical formula\n",
    "        j = (i*3+7)% length\n",
    "        # swap charcaters at i and j\n",
    "        char_list[i],char_list[j] = char_list[j],char_list[i]\n",
    "    # combine the characters back into a string\n",
    "    return ''.join(char_list)\n",
    "org_string = 'mohini'\n",
    "scramble_string = scramble_string(org_string)\n",
    "print('original string',org_string)\n",
    "print('scrambled string',scramble_string)"
   ]
  },
  {
   "cell_type": "markdown",
   "id": "9f82f568-799b-40e3-9df7-a56aade68945",
   "metadata": {},
   "source": [
    "4. go through the string count consecutive repeated characters. add the character + count to the result"
   ]
  },
  {
   "cell_type": "code",
   "execution_count": 5,
   "id": "bd9af1fc-e8a9-476f-b182-c9eea15a9cdd",
   "metadata": {},
   "outputs": [
    {
     "name": "stdout",
     "output_type": "stream",
     "text": [
      "original string =  aaaabmmmm\n",
      "compressed string =  m4\n"
     ]
    }
   ],
   "source": [
    "def compress_string(s):\n",
    "    result = ''\n",
    "    count = 1\n",
    "    # loop through the string \n",
    "    for i in range(1,len(s)):\n",
    "        # check if the current character is the same as the previous one\n",
    "        if s[i] == s[i-1]:\n",
    "            count += 1 # increment the count\n",
    "        else:\n",
    "            # add the character and count to the result\n",
    "            result += s[-1] + str(count)\n",
    "\n",
    "            return result\n",
    "org_string = 'aaaabmmmm'\n",
    "compressed_string = compress_string(org_string)\n",
    "print('original string = ',org_string)\n",
    "print('compressed string = ',compressed_string)"
   ]
  },
  {
   "cell_type": "markdown",
   "id": "f48befae-4fdc-43f1-aa8c-2b6046b9a226",
   "metadata": {},
   "source": [
    "5. loop through each character. use.isupper() and .islower() to count"
   ]
  },
  {
   "cell_type": "code",
   "execution_count": 12,
   "id": "b8e2921e-e0b0-42f5-8ac1-a6129a2efdc1",
   "metadata": {},
   "outputs": [
    {
     "name": "stdout",
     "output_type": "stream",
     "text": [
      "uppercase =  6\n",
      "lowercase =  8\n"
     ]
    }
   ],
   "source": [
    "def count_case(s):\n",
    "    # initialize counters for uppercase and lowercase letters\n",
    "    uppercase_count = 0\n",
    "    lowercase_count = 0\n",
    "    # loop through each character in the string\n",
    "    for char in s:\n",
    "        # check if the character is uppercase\n",
    "        if char.isupper():\n",
    "            uppercase_count += 1 # increment the uppercase counter\n",
    "        # check if the character is lowercase\n",
    "        elif char.islower():\n",
    "            lowercase_count += 1 # increment the lowercase counter\n",
    "    # return the counts\n",
    "    return uppercase_count,lowercase_count\n",
    "\n",
    "s = 'my name is MOHINI'\n",
    "uppercase,lowercase = count_case(s)\n",
    "print('uppercase = ',uppercase)\n",
    "print('lowercase = ',lowercase)"
   ]
  },
  {
   "cell_type": "code",
   "execution_count": null,
   "id": "d2980126-99a0-4182-955f-9dc50abe7118",
   "metadata": {},
   "outputs": [],
   "source": []
  }
 ],
 "metadata": {
  "kernelspec": {
   "display_name": "Python 3 (ipykernel)",
   "language": "python",
   "name": "python3"
  },
  "language_info": {
   "codemirror_mode": {
    "name": "ipython",
    "version": 3
   },
   "file_extension": ".py",
   "mimetype": "text/x-python",
   "name": "python",
   "nbconvert_exporter": "python",
   "pygments_lexer": "ipython3",
   "version": "3.12.4"
  }
 },
 "nbformat": 4,
 "nbformat_minor": 5
}
