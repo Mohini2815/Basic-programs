{
 "cells": [
  {
   "cell_type": "code",
   "execution_count": 81,
   "id": "c9a3ebe8-f301-437e-8aaf-20191ee973db",
   "metadata": {},
   "outputs": [],
   "source": [
    "import pandas as pd\n",
    "import numpy as np"
   ]
  },
  {
   "cell_type": "code",
   "execution_count": 82,
   "id": "5b384ef9-a148-4505-a5d1-647525ad6d40",
   "metadata": {},
   "outputs": [],
   "source": [
    "data = {\n",
    "    'order_id':[1001,1002,1003,1004,1005,1006,1007],\n",
    "    'order_date':['2023-01-15','2023-01-18','2023-02-10','2023-02-20','2023-03-05','2023-03-15','2023-03-25'],\n",
    "    'customer_name':['Alice','Bob','Charlie','Alice','Eve','Frank','Grace'],\n",
    "    'Region':['North','South','East','North','South','East','West'],\n",
    "    'category':['Furniture','Technology','Office supplier','Furniture','Technology','Office supplier','Furniture'],\n",
    "    'Product_name':['chair','laptop','paper','table','monitor','stapler','sofa'],\n",
    "    'sales':[250,1200,80,450,900,30,670],\n",
    "    'quantity':[2,1,10,1,2,20,1],\n",
    "    'Revenue':[500.0,1200.0,800.0,450.0,np.nan,600.0,670.0]\n",
    "}\n",
    "df = pd.DataFrame(data)"
   ]
  },
  {
   "cell_type": "code",
   "execution_count": 83,
   "id": "db200121-973a-44f2-a151-f292acc983b6",
   "metadata": {},
   "outputs": [
    {
     "data": {
      "text/plain": [
       "{'order_id': [1001, 1002, 1003, 1004, 1005, 1006, 1007],\n",
       " 'order_date': ['2023-01-15',\n",
       "  '2023-01-18',\n",
       "  '2023-02-10',\n",
       "  '2023-02-20',\n",
       "  '2023-03-05',\n",
       "  '2023-03-15',\n",
       "  '2023-03-25'],\n",
       " 'customer_name': ['Alice',\n",
       "  'Bob',\n",
       "  'Charlie',\n",
       "  'Alice',\n",
       "  'Eve',\n",
       "  'Frank',\n",
       "  'Grace'],\n",
       " 'Region': ['North', 'South', 'East', 'North', 'South', 'East', 'West'],\n",
       " 'category': ['Furniture',\n",
       "  'Technology',\n",
       "  'Office supplier',\n",
       "  'Furniture',\n",
       "  'Technology',\n",
       "  'Office supplier',\n",
       "  'Furniture'],\n",
       " 'Product_name': ['chair',\n",
       "  'laptop',\n",
       "  'paper',\n",
       "  'table',\n",
       "  'monitor',\n",
       "  'stapler',\n",
       "  'sofa'],\n",
       " 'sales': [250, 1200, 80, 450, 900, 30, 670],\n",
       " 'quantity': [2, 1, 10, 1, 2, 20, 1],\n",
       " 'Revenue': [500.0, 1200.0, 800.0, 450.0, nan, 600.0, 670.0]}"
      ]
     },
     "execution_count": 83,
     "metadata": {},
     "output_type": "execute_result"
    }
   ],
   "source": [
    "data"
   ]
  },
  {
   "cell_type": "markdown",
   "id": "07d5998e-1d17-4717-b56b-c77944f4fde7",
   "metadata": {},
   "source": [
    "1. How does apply() differ from map() and applymap()? When would you use each?\n",
    "- apply() function can used for complex operations and function applies along the axis of a Dataframe whereas map() function applies cuntion to a series element wise and applymap() is also applies element wise to a series.\n",
    "---------------------------------------------------------------------------------------------------------------------------------------------------------"
   ]
  },
  {
   "cell_type": "markdown",
   "id": "3c67bf31-4b6e-4cc4-812d-28decfa295eb",
   "metadata": {},
   "source": [
    "2. Interpret the describe() method table for this dataset"
   ]
  },
  {
   "cell_type": "code",
   "execution_count": 86,
   "id": "7441224a-6f70-491a-aa91-2ac197f2b1c3",
   "metadata": {},
   "outputs": [
    {
     "data": {
      "text/html": [
       "<div>\n",
       "<style scoped>\n",
       "    .dataframe tbody tr th:only-of-type {\n",
       "        vertical-align: middle;\n",
       "    }\n",
       "\n",
       "    .dataframe tbody tr th {\n",
       "        vertical-align: top;\n",
       "    }\n",
       "\n",
       "    .dataframe thead th {\n",
       "        text-align: right;\n",
       "    }\n",
       "</style>\n",
       "<table border=\"1\" class=\"dataframe\">\n",
       "  <thead>\n",
       "    <tr style=\"text-align: right;\">\n",
       "      <th></th>\n",
       "      <th>order_id</th>\n",
       "      <th>sales</th>\n",
       "      <th>quantity</th>\n",
       "      <th>Revenue</th>\n",
       "    </tr>\n",
       "  </thead>\n",
       "  <tbody>\n",
       "    <tr>\n",
       "      <th>count</th>\n",
       "      <td>7.000000</td>\n",
       "      <td>7.000000</td>\n",
       "      <td>7.000000</td>\n",
       "      <td>6.000000</td>\n",
       "    </tr>\n",
       "    <tr>\n",
       "      <th>mean</th>\n",
       "      <td>1004.000000</td>\n",
       "      <td>511.428571</td>\n",
       "      <td>5.285714</td>\n",
       "      <td>703.333333</td>\n",
       "    </tr>\n",
       "    <tr>\n",
       "      <th>std</th>\n",
       "      <td>2.160247</td>\n",
       "      <td>435.944514</td>\n",
       "      <td>7.250616</td>\n",
       "      <td>273.252020</td>\n",
       "    </tr>\n",
       "    <tr>\n",
       "      <th>min</th>\n",
       "      <td>1001.000000</td>\n",
       "      <td>30.000000</td>\n",
       "      <td>1.000000</td>\n",
       "      <td>450.000000</td>\n",
       "    </tr>\n",
       "    <tr>\n",
       "      <th>25%</th>\n",
       "      <td>1002.500000</td>\n",
       "      <td>165.000000</td>\n",
       "      <td>1.000000</td>\n",
       "      <td>525.000000</td>\n",
       "    </tr>\n",
       "    <tr>\n",
       "      <th>50%</th>\n",
       "      <td>1004.000000</td>\n",
       "      <td>450.000000</td>\n",
       "      <td>2.000000</td>\n",
       "      <td>635.000000</td>\n",
       "    </tr>\n",
       "    <tr>\n",
       "      <th>75%</th>\n",
       "      <td>1005.500000</td>\n",
       "      <td>785.000000</td>\n",
       "      <td>6.000000</td>\n",
       "      <td>767.500000</td>\n",
       "    </tr>\n",
       "    <tr>\n",
       "      <th>max</th>\n",
       "      <td>1007.000000</td>\n",
       "      <td>1200.000000</td>\n",
       "      <td>20.000000</td>\n",
       "      <td>1200.000000</td>\n",
       "    </tr>\n",
       "  </tbody>\n",
       "</table>\n",
       "</div>"
      ],
      "text/plain": [
       "          order_id        sales   quantity      Revenue\n",
       "count     7.000000     7.000000   7.000000     6.000000\n",
       "mean   1004.000000   511.428571   5.285714   703.333333\n",
       "std       2.160247   435.944514   7.250616   273.252020\n",
       "min    1001.000000    30.000000   1.000000   450.000000\n",
       "25%    1002.500000   165.000000   1.000000   525.000000\n",
       "50%    1004.000000   450.000000   2.000000   635.000000\n",
       "75%    1005.500000   785.000000   6.000000   767.500000\n",
       "max    1007.000000  1200.000000  20.000000  1200.000000"
      ]
     },
     "execution_count": 86,
     "metadata": {},
     "output_type": "execute_result"
    }
   ],
   "source": [
    "df.describe()"
   ]
  },
  {
   "cell_type": "markdown",
   "id": "3be65358-7882-427e-b74e-27cdc373febe",
   "metadata": {},
   "source": [
    "- order_id\n",
    "    - there are total 7 orders have been placed.\n",
    "    - average order id is 1004.\n",
    "    - maximum order id is 1007 and minimum id is 1001\n",
    "- sales\n",
    "    - Total sales count is 7.\n",
    "    - The average sales are present around 511.428.\n",
    "    - With standard deviation of 435.944 shows variation in sales\n",
    "    - Minimum sales present with 30 count while maximum sales have placed with count of 1200.\n",
    "- quantity\n",
    "    - Total 7 quantity count is present in the dataset.\n",
    "    - Average quantity of products has purchased by customers around 5.2857\n",
    "    - 7.25 standard deviation shows customers purchased more products.\n",
    "---------------------------------------------------------------------------------------------------------------------------------------------------------"
   ]
  },
  {
   "cell_type": "markdown",
   "id": "da7ed053-73d4-40c2-9cce-84f89990bcb9",
   "metadata": {},
   "source": [
    "3. Group the sales by 'Region' and calculate the average 'Sales'"
   ]
  },
  {
   "cell_type": "code",
   "execution_count": 89,
   "id": "a87e8f68-0a47-406a-9e3d-68811fe2b7c4",
   "metadata": {},
   "outputs": [
    {
     "name": "stdout",
     "output_type": "stream",
     "text": [
      "Average of sales =  511.42857142857144\n"
     ]
    }
   ],
   "source": [
    "# average of sales\n",
    "avg = df['sales'].mean()\n",
    "print('Average of sales = ',avg)"
   ]
  },
  {
   "cell_type": "code",
   "execution_count": 90,
   "id": "65f8c57d-bb30-45f7-bec9-abae2c7e6737",
   "metadata": {},
   "outputs": [
    {
     "data": {
      "text/plain": [
       "Region\n",
       "East      110\n",
       "North     700\n",
       "South    2100\n",
       "West      670\n",
       "Name: sales, dtype: int64"
      ]
     },
     "execution_count": 90,
     "metadata": {},
     "output_type": "execute_result"
    }
   ],
   "source": [
    "grouped_sales = df.groupby('Region')['sales'].sum()\n",
    "grouped_sales"
   ]
  },
  {
   "cell_type": "markdown",
   "id": "d26bdaea-737f-46db-8265-6ba9711051eb",
   "metadata": {},
   "source": [
    "---------------------------------------------------------------------------------------------------------------------------------------------------------"
   ]
  },
  {
   "cell_type": "markdown",
   "id": "22828a22-060e-49d7-b03d-c37963b063f6",
   "metadata": {},
   "source": [
    "4. Fill missing values in the 'Revenue' column.\n"
   ]
  },
  {
   "cell_type": "code",
   "execution_count": 93,
   "id": "1cc93056-2aa3-4736-bb8e-6cabfd52ed73",
   "metadata": {},
   "outputs": [
    {
     "data": {
      "text/plain": [
       "0     500.0\n",
       "1    1200.0\n",
       "2     800.0\n",
       "3     450.0\n",
       "4       0.0\n",
       "5     600.0\n",
       "6     670.0\n",
       "Name: Revenue, dtype: float64"
      ]
     },
     "execution_count": 93,
     "metadata": {},
     "output_type": "execute_result"
    }
   ],
   "source": [
    "df['Revenue'].fillna(0)"
   ]
  },
  {
   "cell_type": "markdown",
   "id": "8a7bcaee-e7be-4cc4-8591-9fb078575719",
   "metadata": {},
   "source": [
    "---------------------------------------------------------------------------------------------------------------------------------------------------------"
   ]
  },
  {
   "cell_type": "markdown",
   "id": "ee8d9eb1-3aba-4fe8-a934-313575184e0c",
   "metadata": {},
   "source": [
    "5. Extract 'Year', 'Month', and 'Day of Week' from the 'Order Date' column"
   ]
  },
  {
   "cell_type": "code",
   "execution_count": 96,
   "id": "07b3ae12-8f82-4317-8773-9047b7b1cc7c",
   "metadata": {},
   "outputs": [
    {
     "data": {
      "text/plain": [
       "0    2023\n",
       "1    2023\n",
       "2    2023\n",
       "3    2023\n",
       "4    2023\n",
       "5    2023\n",
       "6    2023\n",
       "Name: year, dtype: int32"
      ]
     },
     "execution_count": 96,
     "metadata": {},
     "output_type": "execute_result"
    }
   ],
   "source": [
    "df['order_date'] = pd.to_datetime(df['order_date'])\n",
    "# extract year\n",
    "df['year'] = df['order_date'].dt.year\n",
    "df['year']"
   ]
  },
  {
   "cell_type": "code",
   "execution_count": 97,
   "id": "8c7dcaab-6c36-4486-8ecf-eb48f717cd98",
   "metadata": {},
   "outputs": [
    {
     "data": {
      "text/plain": [
       "0    1\n",
       "1    1\n",
       "2    2\n",
       "3    2\n",
       "4    3\n",
       "5    3\n",
       "6    3\n",
       "Name: month, dtype: int32"
      ]
     },
     "execution_count": 97,
     "metadata": {},
     "output_type": "execute_result"
    }
   ],
   "source": [
    "# extract month\n",
    "df['month'] = df['order_date'].dt.month\n",
    "df['month']"
   ]
  },
  {
   "cell_type": "code",
   "execution_count": 98,
   "id": "ba5bea0f-e243-435c-b84e-1ebf2eef6865",
   "metadata": {},
   "outputs": [
    {
     "data": {
      "text/plain": [
       "0    15\n",
       "1    18\n",
       "2    10\n",
       "3    20\n",
       "4     5\n",
       "5    15\n",
       "6    25\n",
       "Name: day, dtype: int32"
      ]
     },
     "execution_count": 98,
     "metadata": {},
     "output_type": "execute_result"
    }
   ],
   "source": [
    "# extract day of week\n",
    "df['day'] = df['order_date'].dt.day\n",
    "df['day']"
   ]
  },
  {
   "cell_type": "markdown",
   "id": "ec812df0-09e2-4f0f-ae2c-1ed6256befd0",
   "metadata": {},
   "source": [
    "---------------------------------------------------------------------------------------------------------------------------------------------------------"
   ]
  },
  {
   "cell_type": "markdown",
   "id": "3ec3f8ac-5ab0-44f6-828f-93e8f9649223",
   "metadata": {},
   "source": [
    "6. Create a new column 'Performance': - 'High' if Sales > 1000 - 'Medium' if 500 <= Sales <=\n",
    "1000 - 'Low' if Sales < 500"
   ]
  },
  {
   "cell_type": "code",
   "execution_count": 101,
   "id": "9ae963d6-1316-48b4-892a-351e16b6a09a",
   "metadata": {},
   "outputs": [
    {
     "data": {
      "text/plain": [
       "0       Low\n",
       "1      High\n",
       "2       Low\n",
       "3       Low\n",
       "4    Medium\n",
       "5       Low\n",
       "6    Medium\n",
       "Name: Performance, dtype: object"
      ]
     },
     "execution_count": 101,
     "metadata": {},
     "output_type": "execute_result"
    }
   ],
   "source": [
    "df['Performance'] = df['sales'].apply(lambda x:'High' if x > 1000 else ('Medium' if x >=500 else 'Low'))\n",
    "df['Performance']"
   ]
  },
  {
   "cell_type": "markdown",
   "id": "0e8f1360-42cb-4c9f-b34d-cc867c64c10b",
   "metadata": {},
   "source": [
    "---------------------------------------------------------------------------------------------------------------------------------------------------------"
   ]
  },
  {
   "cell_type": "markdown",
   "id": "119fb779-cb39-4285-b971-b05fc0ea63aa",
   "metadata": {},
   "source": [
    "7. Return the 'Product Name' and 'Sales' where Category is 'Furniture' and Sales > 400.\n"
   ]
  },
  {
   "cell_type": "code",
   "execution_count": 104,
   "id": "4e239914-b9ad-4e7a-8850-5647baa4be57",
   "metadata": {},
   "outputs": [
    {
     "data": {
      "text/html": [
       "<div>\n",
       "<style scoped>\n",
       "    .dataframe tbody tr th:only-of-type {\n",
       "        vertical-align: middle;\n",
       "    }\n",
       "\n",
       "    .dataframe tbody tr th {\n",
       "        vertical-align: top;\n",
       "    }\n",
       "\n",
       "    .dataframe thead th {\n",
       "        text-align: right;\n",
       "    }\n",
       "</style>\n",
       "<table border=\"1\" class=\"dataframe\">\n",
       "  <thead>\n",
       "    <tr style=\"text-align: right;\">\n",
       "      <th></th>\n",
       "      <th>Product_name</th>\n",
       "      <th>sales</th>\n",
       "    </tr>\n",
       "  </thead>\n",
       "  <tbody>\n",
       "    <tr>\n",
       "      <th>3</th>\n",
       "      <td>table</td>\n",
       "      <td>450</td>\n",
       "    </tr>\n",
       "    <tr>\n",
       "      <th>6</th>\n",
       "      <td>sofa</td>\n",
       "      <td>670</td>\n",
       "    </tr>\n",
       "  </tbody>\n",
       "</table>\n",
       "</div>"
      ],
      "text/plain": [
       "  Product_name  sales\n",
       "3        table    450\n",
       "6         sofa    670"
      ]
     },
     "execution_count": 104,
     "metadata": {},
     "output_type": "execute_result"
    }
   ],
   "source": [
    "df.loc[(df['category'] == 'Furniture') & (df['sales'] > 400),['Product_name','sales']]"
   ]
  },
  {
   "cell_type": "markdown",
   "id": "b3f343cb-1228-49f5-9c7f-27f6a8005fc5",
   "metadata": {},
   "source": [
    "---------------------------------------------------------------------------------------------------------------------------------------------------------"
   ]
  },
  {
   "cell_type": "markdown",
   "id": "8e036915-da98-4aca-a147-5f590913c2dd",
   "metadata": {},
   "source": [
    "8. Create 2 one dimensional arrays and generate their dot product.\n"
   ]
  },
  {
   "cell_type": "code",
   "execution_count": 107,
   "id": "e3f1d5cd-223f-4038-bc55-f27433209fd1",
   "metadata": {},
   "outputs": [
    {
     "name": "stdout",
     "output_type": "stream",
     "text": [
      "[1 2 3 4 5 6]\n",
      "[11 22 33 11  2  3]\n",
      "226\n"
     ]
    }
   ],
   "source": [
    "a = np.array([1,2,3,4,5,6])\n",
    "print(a)\n",
    "b = np.array([11,22,33,11,2,3])\n",
    "print(b)\n",
    "print(np.dot(a,b))"
   ]
  },
  {
   "cell_type": "markdown",
   "id": "bbe5211a-df80-48fb-967a-6369ac77ea99",
   "metadata": {},
   "source": [
    "---------------------------------------------------------------------------------------------------------------------------------------------------------"
   ]
  },
  {
   "cell_type": "markdown",
   "id": "7ca03747-c006-4963-be52-85644d02c5bf",
   "metadata": {},
   "source": [
    "9. Sort by 'Order Date' and calculate a 3 order rolling average of 'Sales'.\n"
   ]
  },
  {
   "cell_type": "code",
   "execution_count": 110,
   "id": "21ba16b5-ac36-4672-bf75-a6082706abc5",
   "metadata": {},
   "outputs": [
    {
     "data": {
      "text/html": [
       "<div>\n",
       "<style scoped>\n",
       "    .dataframe tbody tr th:only-of-type {\n",
       "        vertical-align: middle;\n",
       "    }\n",
       "\n",
       "    .dataframe tbody tr th {\n",
       "        vertical-align: top;\n",
       "    }\n",
       "\n",
       "    .dataframe thead th {\n",
       "        text-align: right;\n",
       "    }\n",
       "</style>\n",
       "<table border=\"1\" class=\"dataframe\">\n",
       "  <thead>\n",
       "    <tr style=\"text-align: right;\">\n",
       "      <th></th>\n",
       "      <th>order_id</th>\n",
       "      <th>order_date</th>\n",
       "      <th>customer_name</th>\n",
       "      <th>Region</th>\n",
       "      <th>category</th>\n",
       "      <th>Product_name</th>\n",
       "      <th>sales</th>\n",
       "      <th>quantity</th>\n",
       "      <th>Revenue</th>\n",
       "      <th>year</th>\n",
       "      <th>month</th>\n",
       "      <th>day</th>\n",
       "      <th>Performance</th>\n",
       "    </tr>\n",
       "  </thead>\n",
       "  <tbody>\n",
       "    <tr>\n",
       "      <th>0</th>\n",
       "      <td>1001</td>\n",
       "      <td>2023-01-15</td>\n",
       "      <td>Alice</td>\n",
       "      <td>North</td>\n",
       "      <td>Furniture</td>\n",
       "      <td>chair</td>\n",
       "      <td>250</td>\n",
       "      <td>2</td>\n",
       "      <td>500.0</td>\n",
       "      <td>2023</td>\n",
       "      <td>1</td>\n",
       "      <td>15</td>\n",
       "      <td>Low</td>\n",
       "    </tr>\n",
       "    <tr>\n",
       "      <th>1</th>\n",
       "      <td>1002</td>\n",
       "      <td>2023-01-18</td>\n",
       "      <td>Bob</td>\n",
       "      <td>South</td>\n",
       "      <td>Technology</td>\n",
       "      <td>laptop</td>\n",
       "      <td>1200</td>\n",
       "      <td>1</td>\n",
       "      <td>1200.0</td>\n",
       "      <td>2023</td>\n",
       "      <td>1</td>\n",
       "      <td>18</td>\n",
       "      <td>High</td>\n",
       "    </tr>\n",
       "    <tr>\n",
       "      <th>2</th>\n",
       "      <td>1003</td>\n",
       "      <td>2023-02-10</td>\n",
       "      <td>Charlie</td>\n",
       "      <td>East</td>\n",
       "      <td>Office supplier</td>\n",
       "      <td>paper</td>\n",
       "      <td>80</td>\n",
       "      <td>10</td>\n",
       "      <td>800.0</td>\n",
       "      <td>2023</td>\n",
       "      <td>2</td>\n",
       "      <td>10</td>\n",
       "      <td>Low</td>\n",
       "    </tr>\n",
       "    <tr>\n",
       "      <th>3</th>\n",
       "      <td>1004</td>\n",
       "      <td>2023-02-20</td>\n",
       "      <td>Alice</td>\n",
       "      <td>North</td>\n",
       "      <td>Furniture</td>\n",
       "      <td>table</td>\n",
       "      <td>450</td>\n",
       "      <td>1</td>\n",
       "      <td>450.0</td>\n",
       "      <td>2023</td>\n",
       "      <td>2</td>\n",
       "      <td>20</td>\n",
       "      <td>Low</td>\n",
       "    </tr>\n",
       "    <tr>\n",
       "      <th>4</th>\n",
       "      <td>1005</td>\n",
       "      <td>2023-03-05</td>\n",
       "      <td>Eve</td>\n",
       "      <td>South</td>\n",
       "      <td>Technology</td>\n",
       "      <td>monitor</td>\n",
       "      <td>900</td>\n",
       "      <td>2</td>\n",
       "      <td>NaN</td>\n",
       "      <td>2023</td>\n",
       "      <td>3</td>\n",
       "      <td>5</td>\n",
       "      <td>Medium</td>\n",
       "    </tr>\n",
       "    <tr>\n",
       "      <th>5</th>\n",
       "      <td>1006</td>\n",
       "      <td>2023-03-15</td>\n",
       "      <td>Frank</td>\n",
       "      <td>East</td>\n",
       "      <td>Office supplier</td>\n",
       "      <td>stapler</td>\n",
       "      <td>30</td>\n",
       "      <td>20</td>\n",
       "      <td>600.0</td>\n",
       "      <td>2023</td>\n",
       "      <td>3</td>\n",
       "      <td>15</td>\n",
       "      <td>Low</td>\n",
       "    </tr>\n",
       "    <tr>\n",
       "      <th>6</th>\n",
       "      <td>1007</td>\n",
       "      <td>2023-03-25</td>\n",
       "      <td>Grace</td>\n",
       "      <td>West</td>\n",
       "      <td>Furniture</td>\n",
       "      <td>sofa</td>\n",
       "      <td>670</td>\n",
       "      <td>1</td>\n",
       "      <td>670.0</td>\n",
       "      <td>2023</td>\n",
       "      <td>3</td>\n",
       "      <td>25</td>\n",
       "      <td>Medium</td>\n",
       "    </tr>\n",
       "  </tbody>\n",
       "</table>\n",
       "</div>"
      ],
      "text/plain": [
       "   order_id order_date customer_name Region         category Product_name  \\\n",
       "0      1001 2023-01-15         Alice  North        Furniture        chair   \n",
       "1      1002 2023-01-18           Bob  South       Technology       laptop   \n",
       "2      1003 2023-02-10       Charlie   East  Office supplier        paper   \n",
       "3      1004 2023-02-20         Alice  North        Furniture        table   \n",
       "4      1005 2023-03-05           Eve  South       Technology      monitor   \n",
       "5      1006 2023-03-15         Frank   East  Office supplier      stapler   \n",
       "6      1007 2023-03-25         Grace   West        Furniture         sofa   \n",
       "\n",
       "   sales  quantity  Revenue  year  month  day Performance  \n",
       "0    250         2    500.0  2023      1   15         Low  \n",
       "1   1200         1   1200.0  2023      1   18        High  \n",
       "2     80        10    800.0  2023      2   10         Low  \n",
       "3    450         1    450.0  2023      2   20         Low  \n",
       "4    900         2      NaN  2023      3    5      Medium  \n",
       "5     30        20    600.0  2023      3   15         Low  \n",
       "6    670         1    670.0  2023      3   25      Medium  "
      ]
     },
     "execution_count": 110,
     "metadata": {},
     "output_type": "execute_result"
    }
   ],
   "source": [
    "# convert order date to datetime\n",
    "df['order_date'] = pd.to_datetime(df['order_date'])\n",
    "\n",
    "df.sort_values(by='order_date')"
   ]
  },
  {
   "cell_type": "code",
   "execution_count": 111,
   "id": "2ff51ab6-2084-4079-b738-e97395d75502",
   "metadata": {},
   "outputs": [
    {
     "name": "stdout",
     "output_type": "stream",
     "text": [
      "   order_id order_date customer_name Region         category Product_name  \\\n",
      "0      1001 2023-01-15         Alice  North        Furniture        chair   \n",
      "1      1002 2023-01-18           Bob  South       Technology       laptop   \n",
      "2      1003 2023-02-10       Charlie   East  Office supplier        paper   \n",
      "3      1004 2023-02-20         Alice  North        Furniture        table   \n",
      "4      1005 2023-03-05           Eve  South       Technology      monitor   \n",
      "5      1006 2023-03-15         Frank   East  Office supplier      stapler   \n",
      "6      1007 2023-03-25         Grace   West        Furniture         sofa   \n",
      "\n",
      "   sales  quantity  Revenue  year  month  day Performance  rolling_average  \n",
      "0    250         2    500.0  2023      1   15         Low              NaN  \n",
      "1   1200         1   1200.0  2023      1   18        High              NaN  \n",
      "2     80        10    800.0  2023      2   10         Low       510.000000  \n",
      "3    450         1    450.0  2023      2   20         Low       576.666667  \n",
      "4    900         2      NaN  2023      3    5      Medium       476.666667  \n",
      "5     30        20    600.0  2023      3   15         Low       460.000000  \n",
      "6    670         1    670.0  2023      3   25      Medium       533.333333  \n"
     ]
    }
   ],
   "source": [
    "# calculate rolling average \n",
    "df['rolling_average'] = df['sales'].rolling(3).mean()\n",
    "print(df)"
   ]
  },
  {
   "cell_type": "markdown",
   "id": "ce2cdd2e-e459-476e-85e5-a41198dc2aae",
   "metadata": {},
   "source": [
    "---------------------------------------------------------------------------------------------------------------------------------------------------------"
   ]
  },
  {
   "cell_type": "markdown",
   "id": "d6999fc5-81f8-42a9-af88-82cf041e2786",
   "metadata": {},
   "source": [
    "10. For each 'Category', calculate: - Total Sales - Total Quantity - Average Revenue\n"
   ]
  },
  {
   "cell_type": "code",
   "execution_count": 114,
   "id": "bafb1a78-3e93-4c98-9bd2-b8e7d9cb36c7",
   "metadata": {},
   "outputs": [
    {
     "name": "stdout",
     "output_type": "stream",
     "text": [
      "          category  sales  quantity  Revenue\n",
      "0        Furniture   1370         4    540.0\n",
      "1  Office supplier    110        30    700.0\n",
      "2       Technology   2100         3   1200.0\n"
     ]
    }
   ],
   "source": [
    "category_calculation = df.groupby('category').agg({\n",
    "    'sales':'sum',\n",
    "    'quantity':'sum',\n",
    "    'Revenue':'mean'\n",
    "}).reset_index()\n",
    "print(category_calculation)"
   ]
  },
  {
   "cell_type": "markdown",
   "id": "563fc2e1-fb9e-4820-8341-948280eb640c",
   "metadata": {},
   "source": [
    "11. Detect outliers in the 'Quantity' column using the IQR method.\n"
   ]
  },
  {
   "cell_type": "code",
   "execution_count": 116,
   "id": "e5e194cf-19c6-4cca-aee3-1b6a64287a0c",
   "metadata": {},
   "outputs": [
    {
     "data": {
      "text/plain": [
       "1.0"
      ]
     },
     "execution_count": 116,
     "metadata": {},
     "output_type": "execute_result"
    }
   ],
   "source": [
    "q1 = df['quantity'].quantile(0.25)\n",
    "q1"
   ]
  },
  {
   "cell_type": "code",
   "execution_count": 117,
   "id": "b7acad1d-eaac-4226-a645-05b14a4bbc67",
   "metadata": {},
   "outputs": [
    {
     "data": {
      "text/plain": [
       "6.0"
      ]
     },
     "execution_count": 117,
     "metadata": {},
     "output_type": "execute_result"
    }
   ],
   "source": [
    "q3 = df['quantity'].quantile(0.75)\n",
    "q3"
   ]
  },
  {
   "cell_type": "code",
   "execution_count": 118,
   "id": "3ef08394-030b-4f7d-852a-a7f5478a1d28",
   "metadata": {},
   "outputs": [
    {
     "data": {
      "text/plain": [
       "5.0"
      ]
     },
     "execution_count": 118,
     "metadata": {},
     "output_type": "execute_result"
    }
   ],
   "source": [
    "iqr = q3 - q1\n",
    "iqr"
   ]
  },
  {
   "cell_type": "code",
   "execution_count": 119,
   "id": "21f937e5-0871-49b0-9bc9-7969355e34a3",
   "metadata": {},
   "outputs": [
    {
     "data": {
      "text/plain": [
       "13.5"
      ]
     },
     "execution_count": 119,
     "metadata": {},
     "output_type": "execute_result"
    }
   ],
   "source": [
    "upperlimit = q3 + 1.5 *iqr\n",
    "upperlimit"
   ]
  },
  {
   "cell_type": "code",
   "execution_count": 120,
   "id": "13ba3c55-371f-4403-a2a4-24fda2bf812e",
   "metadata": {},
   "outputs": [
    {
     "data": {
      "text/plain": [
       "-6.5"
      ]
     },
     "execution_count": 120,
     "metadata": {},
     "output_type": "execute_result"
    }
   ],
   "source": [
    "lowerlimit = q1 - 1.5 *iqr\n",
    "lowerlimit"
   ]
  },
  {
   "cell_type": "code",
   "execution_count": 121,
   "id": "5fb8f62b-bff2-48d6-a959-00d7917c824e",
   "metadata": {},
   "outputs": [
    {
     "data": {
      "text/html": [
       "<div>\n",
       "<style scoped>\n",
       "    .dataframe tbody tr th:only-of-type {\n",
       "        vertical-align: middle;\n",
       "    }\n",
       "\n",
       "    .dataframe tbody tr th {\n",
       "        vertical-align: top;\n",
       "    }\n",
       "\n",
       "    .dataframe thead th {\n",
       "        text-align: right;\n",
       "    }\n",
       "</style>\n",
       "<table border=\"1\" class=\"dataframe\">\n",
       "  <thead>\n",
       "    <tr style=\"text-align: right;\">\n",
       "      <th></th>\n",
       "      <th>order_id</th>\n",
       "      <th>order_date</th>\n",
       "      <th>customer_name</th>\n",
       "      <th>Region</th>\n",
       "      <th>category</th>\n",
       "      <th>Product_name</th>\n",
       "      <th>sales</th>\n",
       "      <th>quantity</th>\n",
       "      <th>Revenue</th>\n",
       "      <th>year</th>\n",
       "      <th>month</th>\n",
       "      <th>day</th>\n",
       "      <th>Performance</th>\n",
       "      <th>rolling_average</th>\n",
       "    </tr>\n",
       "  </thead>\n",
       "  <tbody>\n",
       "    <tr>\n",
       "      <th>5</th>\n",
       "      <td>1006</td>\n",
       "      <td>2023-03-15</td>\n",
       "      <td>Frank</td>\n",
       "      <td>East</td>\n",
       "      <td>Office supplier</td>\n",
       "      <td>stapler</td>\n",
       "      <td>30</td>\n",
       "      <td>20</td>\n",
       "      <td>600.0</td>\n",
       "      <td>2023</td>\n",
       "      <td>3</td>\n",
       "      <td>15</td>\n",
       "      <td>Low</td>\n",
       "      <td>460.0</td>\n",
       "    </tr>\n",
       "  </tbody>\n",
       "</table>\n",
       "</div>"
      ],
      "text/plain": [
       "   order_id order_date customer_name Region         category Product_name  \\\n",
       "5      1006 2023-03-15         Frank   East  Office supplier      stapler   \n",
       "\n",
       "   sales  quantity  Revenue  year  month  day Performance  rolling_average  \n",
       "5     30        20    600.0  2023      3   15         Low            460.0  "
      ]
     },
     "execution_count": 121,
     "metadata": {},
     "output_type": "execute_result"
    }
   ],
   "source": [
    "df[df['quantity']>upperlimit]"
   ]
  },
  {
   "cell_type": "code",
   "execution_count": 122,
   "id": "7a3aed5c-8315-4d6f-a3b3-4563177ea79f",
   "metadata": {},
   "outputs": [
    {
     "data": {
      "text/html": [
       "<div>\n",
       "<style scoped>\n",
       "    .dataframe tbody tr th:only-of-type {\n",
       "        vertical-align: middle;\n",
       "    }\n",
       "\n",
       "    .dataframe tbody tr th {\n",
       "        vertical-align: top;\n",
       "    }\n",
       "\n",
       "    .dataframe thead th {\n",
       "        text-align: right;\n",
       "    }\n",
       "</style>\n",
       "<table border=\"1\" class=\"dataframe\">\n",
       "  <thead>\n",
       "    <tr style=\"text-align: right;\">\n",
       "      <th></th>\n",
       "      <th>order_id</th>\n",
       "      <th>order_date</th>\n",
       "      <th>customer_name</th>\n",
       "      <th>Region</th>\n",
       "      <th>category</th>\n",
       "      <th>Product_name</th>\n",
       "      <th>sales</th>\n",
       "      <th>quantity</th>\n",
       "      <th>Revenue</th>\n",
       "      <th>year</th>\n",
       "      <th>month</th>\n",
       "      <th>day</th>\n",
       "      <th>Performance</th>\n",
       "      <th>rolling_average</th>\n",
       "    </tr>\n",
       "  </thead>\n",
       "  <tbody>\n",
       "  </tbody>\n",
       "</table>\n",
       "</div>"
      ],
      "text/plain": [
       "Empty DataFrame\n",
       "Columns: [order_id, order_date, customer_name, Region, category, Product_name, sales, quantity, Revenue, year, month, day, Performance, rolling_average]\n",
       "Index: []"
      ]
     },
     "execution_count": 122,
     "metadata": {},
     "output_type": "execute_result"
    }
   ],
   "source": [
    "df[df['quantity']<lowerlimit]"
   ]
  },
  {
   "cell_type": "markdown",
   "id": "2eae2d91-4816-41dd-8763-0d9e9455ac71",
   "metadata": {},
   "source": [
    "---------------------------------------------------------------------------------------------------------------------------------------------------------"
   ]
  },
  {
   "cell_type": "markdown",
   "id": "ea10fa57-4a83-483e-8150-c82dbcef9c38",
   "metadata": {},
   "source": [
    "12. Use a custom function with apply() to categorize 'Quantity' as: 'Bulk' if Quantity >= 10,\n",
    "'Single' if Quantity == 1, else 'Few'\n"
   ]
  },
  {
   "cell_type": "code",
   "execution_count": 125,
   "id": "5f51a189-06b3-43f6-b3da-b0e7b222c83f",
   "metadata": {},
   "outputs": [
    {
     "name": "stdout",
     "output_type": "stream",
     "text": [
      "Few\n",
      "Single\n",
      "Bulk\n",
      "Single\n",
      "Few\n",
      "Bulk\n",
      "Single\n"
     ]
    },
    {
     "data": {
      "text/plain": [
       "0    None\n",
       "1    None\n",
       "2    None\n",
       "3    None\n",
       "4    None\n",
       "5    None\n",
       "6    None\n",
       "Name: category, dtype: object"
      ]
     },
     "execution_count": 125,
     "metadata": {},
     "output_type": "execute_result"
    }
   ],
   "source": [
    "def categorized_qty(qty):\n",
    "    if qty >= 10:\n",
    "        print('Bulk')\n",
    "    elif qty == 1:\n",
    "        print('Single')\n",
    "    else:\n",
    "        print('Few')\n",
    "df['category'] = df['quantity'].apply(categorized_qty)\n",
    "df['category']"
   ]
  },
  {
   "cell_type": "markdown",
   "id": "5f6471d0-b426-4d5a-a3d6-43a434bbdffe",
   "metadata": {},
   "source": [
    "---------------------------------------------------------------------------------------------------------------------------------------------------------\n",
    "13. Find all rows where 'Customer Name' starts with the letter 'A' or 'C'."
   ]
  },
  {
   "cell_type": "code",
   "execution_count": 127,
   "id": "4153ed01-2a9f-4927-be6c-e5c7dc3fbe84",
   "metadata": {},
   "outputs": [
    {
     "data": {
      "text/html": [
       "<div>\n",
       "<style scoped>\n",
       "    .dataframe tbody tr th:only-of-type {\n",
       "        vertical-align: middle;\n",
       "    }\n",
       "\n",
       "    .dataframe tbody tr th {\n",
       "        vertical-align: top;\n",
       "    }\n",
       "\n",
       "    .dataframe thead th {\n",
       "        text-align: right;\n",
       "    }\n",
       "</style>\n",
       "<table border=\"1\" class=\"dataframe\">\n",
       "  <thead>\n",
       "    <tr style=\"text-align: right;\">\n",
       "      <th></th>\n",
       "      <th>order_id</th>\n",
       "      <th>order_date</th>\n",
       "      <th>customer_name</th>\n",
       "      <th>Region</th>\n",
       "      <th>category</th>\n",
       "      <th>Product_name</th>\n",
       "      <th>sales</th>\n",
       "      <th>quantity</th>\n",
       "      <th>Revenue</th>\n",
       "      <th>year</th>\n",
       "      <th>month</th>\n",
       "      <th>day</th>\n",
       "      <th>Performance</th>\n",
       "      <th>rolling_average</th>\n",
       "    </tr>\n",
       "  </thead>\n",
       "  <tbody>\n",
       "    <tr>\n",
       "      <th>0</th>\n",
       "      <td>1001</td>\n",
       "      <td>2023-01-15</td>\n",
       "      <td>Alice</td>\n",
       "      <td>North</td>\n",
       "      <td>None</td>\n",
       "      <td>chair</td>\n",
       "      <td>250</td>\n",
       "      <td>2</td>\n",
       "      <td>500.0</td>\n",
       "      <td>2023</td>\n",
       "      <td>1</td>\n",
       "      <td>15</td>\n",
       "      <td>Low</td>\n",
       "      <td>NaN</td>\n",
       "    </tr>\n",
       "    <tr>\n",
       "      <th>3</th>\n",
       "      <td>1004</td>\n",
       "      <td>2023-02-20</td>\n",
       "      <td>Alice</td>\n",
       "      <td>North</td>\n",
       "      <td>None</td>\n",
       "      <td>table</td>\n",
       "      <td>450</td>\n",
       "      <td>1</td>\n",
       "      <td>450.0</td>\n",
       "      <td>2023</td>\n",
       "      <td>2</td>\n",
       "      <td>20</td>\n",
       "      <td>Low</td>\n",
       "      <td>576.666667</td>\n",
       "    </tr>\n",
       "  </tbody>\n",
       "</table>\n",
       "</div>"
      ],
      "text/plain": [
       "   order_id order_date customer_name Region category Product_name  sales  \\\n",
       "0      1001 2023-01-15         Alice  North     None        chair    250   \n",
       "3      1004 2023-02-20         Alice  North     None        table    450   \n",
       "\n",
       "   quantity  Revenue  year  month  day Performance  rolling_average  \n",
       "0         2    500.0  2023      1   15         Low              NaN  \n",
       "3         1    450.0  2023      2   20         Low       576.666667  "
      ]
     },
     "execution_count": 127,
     "metadata": {},
     "output_type": "execute_result"
    }
   ],
   "source": [
    "df[df['customer_name'].str.startswith('A')]"
   ]
  },
  {
   "cell_type": "code",
   "execution_count": 128,
   "id": "e2fa9324-99f2-4ee9-a489-277b70d86bcd",
   "metadata": {},
   "outputs": [
    {
     "data": {
      "text/html": [
       "<div>\n",
       "<style scoped>\n",
       "    .dataframe tbody tr th:only-of-type {\n",
       "        vertical-align: middle;\n",
       "    }\n",
       "\n",
       "    .dataframe tbody tr th {\n",
       "        vertical-align: top;\n",
       "    }\n",
       "\n",
       "    .dataframe thead th {\n",
       "        text-align: right;\n",
       "    }\n",
       "</style>\n",
       "<table border=\"1\" class=\"dataframe\">\n",
       "  <thead>\n",
       "    <tr style=\"text-align: right;\">\n",
       "      <th></th>\n",
       "      <th>order_id</th>\n",
       "      <th>order_date</th>\n",
       "      <th>customer_name</th>\n",
       "      <th>Region</th>\n",
       "      <th>category</th>\n",
       "      <th>Product_name</th>\n",
       "      <th>sales</th>\n",
       "      <th>quantity</th>\n",
       "      <th>Revenue</th>\n",
       "      <th>year</th>\n",
       "      <th>month</th>\n",
       "      <th>day</th>\n",
       "      <th>Performance</th>\n",
       "      <th>rolling_average</th>\n",
       "    </tr>\n",
       "  </thead>\n",
       "  <tbody>\n",
       "    <tr>\n",
       "      <th>2</th>\n",
       "      <td>1003</td>\n",
       "      <td>2023-02-10</td>\n",
       "      <td>Charlie</td>\n",
       "      <td>East</td>\n",
       "      <td>None</td>\n",
       "      <td>paper</td>\n",
       "      <td>80</td>\n",
       "      <td>10</td>\n",
       "      <td>800.0</td>\n",
       "      <td>2023</td>\n",
       "      <td>2</td>\n",
       "      <td>10</td>\n",
       "      <td>Low</td>\n",
       "      <td>510.0</td>\n",
       "    </tr>\n",
       "  </tbody>\n",
       "</table>\n",
       "</div>"
      ],
      "text/plain": [
       "   order_id order_date customer_name Region category Product_name  sales  \\\n",
       "2      1003 2023-02-10       Charlie   East     None        paper     80   \n",
       "\n",
       "   quantity  Revenue  year  month  day Performance  rolling_average  \n",
       "2        10    800.0  2023      2   10         Low            510.0  "
      ]
     },
     "execution_count": 128,
     "metadata": {},
     "output_type": "execute_result"
    }
   ],
   "source": [
    "df[df['customer_name'].str.startswith('C')]"
   ]
  },
  {
   "cell_type": "code",
   "execution_count": null,
   "id": "0108659b-6288-4314-9bca-747be6a3c562",
   "metadata": {},
   "outputs": [],
   "source": []
  }
 ],
 "metadata": {
  "kernelspec": {
   "display_name": "Python 3 (ipykernel)",
   "language": "python",
   "name": "python3"
  },
  "language_info": {
   "codemirror_mode": {
    "name": "ipython",
    "version": 3
   },
   "file_extension": ".py",
   "mimetype": "text/x-python",
   "name": "python",
   "nbconvert_exporter": "python",
   "pygments_lexer": "ipython3",
   "version": "3.12.4"
  }
 },
 "nbformat": 4,
 "nbformat_minor": 5
}
