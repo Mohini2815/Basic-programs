{
 "cells": [
  {
   "cell_type": "markdown",
   "id": "e4173d8e-894a-426b-bf55-dd50c93c4a86",
   "metadata": {},
   "source": [
    "# **Functions**"
   ]
  },
  {
   "cell_type": "markdown",
   "id": "2b2f1a53-a975-4dbe-8b87-3633313248b0",
   "metadata": {},
   "source": [
    "- function is used for reuseability\n",
    "- managable and organized the code\n",
    "- breaking larger program to smaller block of code\n",
    "\n",
    "**Definition** - a function is a block of code that is organized reusable to perform a single related action\n",
    "\n",
    "- def - keyword used to declare a function.\n",
    "- function name is unique, descriptive, ideally reflecting what a fucntion does\n",
    "- parameter - variable to hold values passed into the function\n",
    "- **syntax** - def funt_name(parameter)\n",
    "  - eg def initial(x,y)\n",
    "- return - output a valuw from the function\n",
    "\n",
    "**a function without a return statement automatically return *none* .**\n",
    "- syntax :\n",
    "\n",
    "  def function_name(parameter):\n",
    "\n",
    "      # code//\n",
    "\n",
    "  return (o/p)\n",
    "\n",
    "- **calling a function** :\n",
    "  - syntax : function_name(argument)\n",
    "  - eg initial(20,10)\n",
    "  - To execute the function call the fucntion by its name and pass necessary argument.\n",
    "\n",
    "- **parameter** : parameters are variable which are defined in the funtion declaration and they are used as placeholder to store the value that you pass into the function.\n",
    "- **argument**(actual value) : arguments are actual value or data used to a function\n",
    "    - Type of Arguments :\n",
    "\n",
    "           1 : positional\n",
    "           2 : keyword\n",
    "           3 : variable length\n",
    "           4 : default\n",
    "   - **Positional argument** : these argument are include in the proper positions order. The first positinal argument needs to match the first parameter declared un fucntion\n",
    "   - **keyword argument** : keyword argument are passed to the function by explicitly specifying the name of the parameter regardless  of their position. you can also skip optional parameter and specify those you want\n",
    "\n",
    "     -- eg. def area_rectangle(l,w)\n",
    "\n",
    "            area_rectangle(4,2)\n",
    "   - **variable length argument**(multiple value pass) :\n",
    "\n",
    "     -- *args -> allows a function to take any number of positional arguments\n",
    "\n",
    "     -- **kwargs -> allows a function to accept any number of keyword argument(argument provided by a key-value pair)\n",
    "\n",
    "     -- above argument accept variable length argument\n",
    "\n",
    "# built in function\n",
    "- built in function in python are function which are ready to use without importing aby module.\n",
    "- There are functions perform the task they are designed for by calling them directly.\n",
    "\n",
    "1. **print** - to display the information -- eg.print(\"hello\")\n",
    "2. **input()** - to take input from user. (by default it is string) until user specified its data type.\n",
    "\n",
    "               -- eg. a = input(\"Enter any value\")\n",
    "\n",
    "                       print(a)\n",
    "3. **len** - return the number of item in a list, string etc.\n",
    "\n",
    "            -- name = \"mohini\"\n",
    "\n",
    "               length = len(name) # output = 5\n",
    "\n",
    "4. **type()** : it return the data type of a variable\n",
    "\n",
    "            -- a = 10\n",
    "\n",
    "               pint(type(a))\n",
    "5. **sum()** - return the addition of all items.\n",
    "\n",
    "            a = [\"1\",\"2\",\"3\",\"4\"]\n",
    "\n",
    "           result=sum(a)\n",
    "\n",
    "           print(result)\n",
    "6. **min()/max()** - to find minimum item from the list\n",
    "\n",
    "            x = [1,2,3,4]\n",
    "\n",
    "            print(min(x))\n",
    "\n",
    "            print(max(x)) - to find maximum item in the list\n",
    "\n",
    "7. **sorted()** - return a sorted version of a list\n",
    "- print(sorted(a))\n",
    "8. **range()** - create a sequence of numbers.\n",
    "  - for i in range(2,10):\n",
    "\n",
    "     print(i)\n",
    "**parameters** - \n",
    "- **start** - starting number of range\n",
    "- **stop** - ending number of the range\n",
    "- **step up/step down** - increament / decrement within the range\n",
    "\n",
    "9. **map()** - to modify each item in a list\n",
    "   - syntax = map(function,iterable)\n",
    "   - eg. def multi(x):\n",
    "\n",
    "         return x * x\n",
    "\n",
    "         num = [2,4,6,8]\n",
    "\n",
    "         res = map(multi,num)\n",
    "\n",
    "         print(list(res))\n",
    "\n",
    "10.**filter()** - to filter out items from a list based on condition\n",
    "   - syntax = filter(function,iterable)\n",
    "   - eg. def even(x):\n",
    "\n",
    "             return x%2 == 0\n",
    "\n",
    "         num = [2,1,5,6]\n",
    "\n",
    "         res = filter(even,num)\n",
    "\n",
    "         print(list(res))\n",
    "\n",
    "11.**reduce()** - to combine all items in a list into a single result value\n",
    "   - syntax = reduce(function,iterable)\n",
    "\n",
    "12.**lambda()** - (anonymous function) - a lambda is a tiny function written in one line without name\n",
    "   - syntax = lambda argument:expression\n",
    "   - eg. add = lambda x : x+x\n",
    "\n",
    "         print(add(2))\n",
    "\n",
    "13.**enumerate()** - used to loop through a list and also know the index of each item\n",
    "   - syntax = enumerate(iterable,start = 0)\n",
    "   - eg. a = [1,2,3,4,5]\n",
    "\n",
    "         for index,num in enumerate(a):\n",
    "\n",
    "             print(index,num)\n",
    "\n",
    "14.**recursive function(function calling itself)** - a recursive function is a function that call itself to solve smaller part of the same problem.\n",
    "   - syntax = def function_name(): # base condition(stop,recursion)\n",
    "\n",
    "                                   # recursive call\n",
    "   - eg. def factorial(n):\n",
    "\n",
    "         if n == 1:\n",
    "\n",
    "             return 1\n",
    "\n",
    "         else:\n",
    "\n",
    "             return n * factorial(n-1)\n",
    "\n",
    "     print(factorial(5))"
   ]
  },
  {
   "cell_type": "code",
   "execution_count": 3,
   "id": "181057fd-9616-45ab-a75d-891722ac0fe1",
   "metadata": {},
   "outputs": [
    {
     "name": "stdin",
     "output_type": "stream",
     "text": [
      "Enter length =  56\n",
      "Enter width =  34\n"
     ]
    },
    {
     "name": "stdout",
     "output_type": "stream",
     "text": [
      "area of rectangle is  1904\n"
     ]
    }
   ],
   "source": [
    "# area of rectangle\n",
    "def rectangle(): # defined a function\n",
    "    length = int(input(\"Enter length = \"))\n",
    "    width = int(input(\"Enter width = \"))\n",
    "    return length * width\n",
    "area = rectangle() # calling a function\n",
    "print(\"area of rectangle is \",area)"
   ]
  },
  {
   "cell_type": "code",
   "execution_count": 5,
   "id": "01183f83-e40a-4b28-8eec-961dfdb439c9",
   "metadata": {},
   "outputs": [
    {
     "name": "stdout",
     "output_type": "stream",
     "text": [
      "Name:mohini,Age:21\n"
     ]
    }
   ],
   "source": [
    "# keyword argument\n",
    "def info(name,age):\n",
    "    print(f\"Name:{name},Age:{age}\")\n",
    "info(name=\"mohini\",age=21)"
   ]
  },
  {
   "cell_type": "code",
   "execution_count": 7,
   "id": "b012460f-11d2-477c-8c75-1fa1a7d474c1",
   "metadata": {},
   "outputs": [
    {
     "name": "stdout",
     "output_type": "stream",
     "text": [
      "mohini\n",
      "bhargavi\n",
      "gauri\n"
     ]
    }
   ],
   "source": [
    "# variable length argument\n",
    "def info(*names): # (*) for args\n",
    "    for name in names:\n",
    "        print(name)\n",
    "info(\"mohini\",\"bhargavi\",\"gauri\")"
   ]
  },
  {
   "cell_type": "code",
   "execution_count": 11,
   "id": "aa499d54-a944-4522-ab74-8d9769e09edb",
   "metadata": {},
   "outputs": [
    {
     "name": "stdout",
     "output_type": "stream",
     "text": [
      "First name is mohini and last name is argade\n",
      "First name is mohini and last name is argade\n"
     ]
    }
   ],
   "source": [
    "def info(**kwargs): # ** for kwargs to take keyword argument\n",
    "    for first,last in kwargs.items():\n",
    "        print(f\"First name is {kwargs['first']} and last name is {kwargs['last']}\")\n",
    "info(first=\"mohini\",last=\"argade\")"
   ]
  },
  {
   "cell_type": "code",
   "execution_count": 19,
   "id": "f0771209-d743-47e9-b813-9c563bd597d5",
   "metadata": {},
   "outputs": [
    {
     "name": "stdout",
     "output_type": "stream",
     "text": [
      "First is mohini\n",
      "Last is argade\n"
     ]
    }
   ],
   "source": [
    "def info(**kwargs): # ** for kwargs to take keyword argument\n",
    "    for key,value in kwargs.items():\n",
    "        print(f\"{key.capitalize()} is {value}\") # capitalize used for to make first letter capital\n",
    "info(first=\"mohini\",last=\"argade\")"
   ]
  },
  {
   "cell_type": "code",
   "execution_count": 21,
   "id": "fefecf89-660f-438c-851b-cd9d35177422",
   "metadata": {},
   "outputs": [
    {
     "name": "stdin",
     "output_type": "stream",
     "text": [
      "Enter name mohini\n"
     ]
    },
    {
     "name": "stdout",
     "output_type": "stream",
     "text": [
      "Hello good morning!! {'mohini'}\n"
     ]
    }
   ],
   "source": [
    "# define greet function that take user name as input\n",
    "def greet(user):\n",
    "    print(f\"Hello good morning!!\",{user})\n",
    "user = input(\"Enter name\")\n",
    "greet(user)"
   ]
  },
  {
   "cell_type": "code",
   "execution_count": 23,
   "id": "dd892420-06cc-49a2-9d08-7ab18baeeca7",
   "metadata": {},
   "outputs": [
    {
     "name": "stdin",
     "output_type": "stream",
     "text": [
      "number 1 =  56\n",
      "number 2 =  34\n"
     ]
    },
    {
     "name": "stdout",
     "output_type": "stream",
     "text": [
      "90\n"
     ]
    }
   ],
   "source": [
    "# write a function to add two numbers\n",
    "a = int(input(\"number 1 = \"))\n",
    "b = int(input(\"number 2 = \"))\n",
    "def add(a,b):\n",
    "    return a + b\n",
    "ans = a + b\n",
    "print(ans)"
   ]
  },
  {
   "cell_type": "code",
   "execution_count": 29,
   "id": "d1e0cbaa-f297-48c4-9d0f-a4ac73905a04",
   "metadata": {},
   "outputs": [
    {
     "name": "stdin",
     "output_type": "stream",
     "text": [
      "Enter number 45\n"
     ]
    },
    {
     "name": "stdout",
     "output_type": "stream",
     "text": [
      "factorial of number is 119622220865480194561963161495657715064383733760000000000\n"
     ]
    }
   ],
   "source": [
    "# write a function to find factorial of a number\n",
    "def factorial(num):\n",
    "    if num == 1:\n",
    "        return 1\n",
    "    else:\n",
    "        return num * factorial(num-1)\n",
    "number = int(input(\"Enter number\"))\n",
    "print(\"factorial of number is\",factorial(number))"
   ]
  },
  {
   "cell_type": "code",
   "execution_count": 31,
   "id": "b3c73c94-7824-4425-9205-be4a60f453bb",
   "metadata": {},
   "outputs": [
    {
     "name": "stdout",
     "output_type": "stream",
     "text": [
      "100\n"
     ]
    }
   ],
   "source": [
    "# define a function that return the result of raising the base to the exponent without using ** operator\n",
    "def powerof(base,exponent): \n",
    "    count = 1 # initial count\n",
    "    for n in range(exponent):\n",
    "        count *= base\n",
    "    return count\n",
    "print(powerof(10,2))"
   ]
  },
  {
   "cell_type": "code",
   "execution_count": null,
   "id": "9136c9f8-3b25-4d59-a546-9f9d130e0de1",
   "metadata": {},
   "outputs": [],
   "source": []
  }
 ],
 "metadata": {
  "kernelspec": {
   "display_name": "Python 3 (ipykernel)",
   "language": "python",
   "name": "python3"
  },
  "language_info": {
   "codemirror_mode": {
    "name": "ipython",
    "version": 3
   },
   "file_extension": ".py",
   "mimetype": "text/x-python",
   "name": "python",
   "nbconvert_exporter": "python",
   "pygments_lexer": "ipython3",
   "version": "3.12.4"
  }
 },
 "nbformat": 4,
 "nbformat_minor": 5
}
