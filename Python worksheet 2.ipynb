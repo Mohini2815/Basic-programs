{
 "cells": [
  {
   "cell_type": "markdown",
   "id": "605bfd41-3aa5-4452-aa27-ad6e4a5eae59",
   "metadata": {},
   "source": [
    "1. How do you read only specific columns from a CSV?\n",
    "\n",
    "**ans** - To read specific columns from a CSV file use **usecols** parameter in read_csv function\n",
    "- syntax : pd.read_csv(filepath,usecols = column_name)"
   ]
  },
  {
   "cell_type": "code",
   "execution_count": 4,
   "id": "51c777a9-adef-4900-869a-c1cf11d16ebf",
   "metadata": {},
   "outputs": [],
   "source": [
    "import pandas as pd\n",
    "df = pd.read_csv(\"C:\\\\Users\\\\mohin\\\\Downloads\\\\student_dataset.csv\")"
   ]
  },
  {
   "cell_type": "code",
   "execution_count": 6,
   "id": "e2b9e97c-c194-4893-87bc-46c32ef61185",
   "metadata": {},
   "outputs": [
    {
     "data": {
      "text/html": [
       "<div>\n",
       "<style scoped>\n",
       "    .dataframe tbody tr th:only-of-type {\n",
       "        vertical-align: middle;\n",
       "    }\n",
       "\n",
       "    .dataframe tbody tr th {\n",
       "        vertical-align: top;\n",
       "    }\n",
       "\n",
       "    .dataframe thead th {\n",
       "        text-align: right;\n",
       "    }\n",
       "</style>\n",
       "<table border=\"1\" class=\"dataframe\">\n",
       "  <thead>\n",
       "    <tr style=\"text-align: right;\">\n",
       "      <th></th>\n",
       "      <th>StudentID</th>\n",
       "      <th>Name</th>\n",
       "      <th>Gender</th>\n",
       "      <th>Course</th>\n",
       "      <th>Age</th>\n",
       "      <th>Marks</th>\n",
       "      <th>Grade</th>\n",
       "      <th>City</th>\n",
       "    </tr>\n",
       "  </thead>\n",
       "  <tbody>\n",
       "    <tr>\n",
       "      <th>0</th>\n",
       "      <td>2001</td>\n",
       "      <td>Isha</td>\n",
       "      <td>Female</td>\n",
       "      <td>Data Science</td>\n",
       "      <td>27</td>\n",
       "      <td>82</td>\n",
       "      <td>F</td>\n",
       "      <td>Bangalore</td>\n",
       "    </tr>\n",
       "    <tr>\n",
       "      <th>1</th>\n",
       "      <td>2002</td>\n",
       "      <td>Aarav</td>\n",
       "      <td>Female</td>\n",
       "      <td>Data Science</td>\n",
       "      <td>27</td>\n",
       "      <td>42</td>\n",
       "      <td>A</td>\n",
       "      <td>Hyderabad</td>\n",
       "    </tr>\n",
       "    <tr>\n",
       "      <th>2</th>\n",
       "      <td>2003</td>\n",
       "      <td>Vivaan</td>\n",
       "      <td>Male</td>\n",
       "      <td>Web Development</td>\n",
       "      <td>24</td>\n",
       "      <td>98</td>\n",
       "      <td>B</td>\n",
       "      <td>Kolkata</td>\n",
       "    </tr>\n",
       "    <tr>\n",
       "      <th>3</th>\n",
       "      <td>2004</td>\n",
       "      <td>Sanya</td>\n",
       "      <td>Female</td>\n",
       "      <td>Web Development</td>\n",
       "      <td>23</td>\n",
       "      <td>52</td>\n",
       "      <td>A</td>\n",
       "      <td>Hyderabad</td>\n",
       "    </tr>\n",
       "    <tr>\n",
       "      <th>4</th>\n",
       "      <td>2005</td>\n",
       "      <td>Anaya</td>\n",
       "      <td>Female</td>\n",
       "      <td>Web Development</td>\n",
       "      <td>28</td>\n",
       "      <td>51</td>\n",
       "      <td>A</td>\n",
       "      <td>Hyderabad</td>\n",
       "    </tr>\n",
       "    <tr>\n",
       "      <th>...</th>\n",
       "      <td>...</td>\n",
       "      <td>...</td>\n",
       "      <td>...</td>\n",
       "      <td>...</td>\n",
       "      <td>...</td>\n",
       "      <td>...</td>\n",
       "      <td>...</td>\n",
       "      <td>...</td>\n",
       "    </tr>\n",
       "    <tr>\n",
       "      <th>145</th>\n",
       "      <td>2146</td>\n",
       "      <td>Anaya</td>\n",
       "      <td>Male</td>\n",
       "      <td>Cloud Computing</td>\n",
       "      <td>19</td>\n",
       "      <td>44</td>\n",
       "      <td>B</td>\n",
       "      <td>Bangalore</td>\n",
       "    </tr>\n",
       "    <tr>\n",
       "      <th>146</th>\n",
       "      <td>2147</td>\n",
       "      <td>Meera</td>\n",
       "      <td>Female</td>\n",
       "      <td>AI &amp; ML</td>\n",
       "      <td>18</td>\n",
       "      <td>57</td>\n",
       "      <td>D</td>\n",
       "      <td>Hyderabad</td>\n",
       "    </tr>\n",
       "    <tr>\n",
       "      <th>147</th>\n",
       "      <td>2148</td>\n",
       "      <td>Kabir</td>\n",
       "      <td>Female</td>\n",
       "      <td>Cloud Computing</td>\n",
       "      <td>21</td>\n",
       "      <td>92</td>\n",
       "      <td>F</td>\n",
       "      <td>Bangalore</td>\n",
       "    </tr>\n",
       "    <tr>\n",
       "      <th>148</th>\n",
       "      <td>2149</td>\n",
       "      <td>Sanya</td>\n",
       "      <td>Female</td>\n",
       "      <td>Cyber Security</td>\n",
       "      <td>26</td>\n",
       "      <td>60</td>\n",
       "      <td>D</td>\n",
       "      <td>Delhi</td>\n",
       "    </tr>\n",
       "    <tr>\n",
       "      <th>149</th>\n",
       "      <td>2150</td>\n",
       "      <td>Diya</td>\n",
       "      <td>Female</td>\n",
       "      <td>AI &amp; ML</td>\n",
       "      <td>24</td>\n",
       "      <td>44</td>\n",
       "      <td>F</td>\n",
       "      <td>Delhi</td>\n",
       "    </tr>\n",
       "  </tbody>\n",
       "</table>\n",
       "<p>150 rows × 8 columns</p>\n",
       "</div>"
      ],
      "text/plain": [
       "     StudentID    Name  Gender           Course  Age  Marks Grade       City\n",
       "0         2001    Isha  Female     Data Science   27     82     F  Bangalore\n",
       "1         2002   Aarav  Female     Data Science   27     42     A  Hyderabad\n",
       "2         2003  Vivaan    Male  Web Development   24     98     B    Kolkata\n",
       "3         2004   Sanya  Female  Web Development   23     52     A  Hyderabad\n",
       "4         2005   Anaya  Female  Web Development   28     51     A  Hyderabad\n",
       "..         ...     ...     ...              ...  ...    ...   ...        ...\n",
       "145       2146   Anaya    Male  Cloud Computing   19     44     B  Bangalore\n",
       "146       2147   Meera  Female          AI & ML   18     57     D  Hyderabad\n",
       "147       2148   Kabir  Female  Cloud Computing   21     92     F  Bangalore\n",
       "148       2149   Sanya  Female   Cyber Security   26     60     D      Delhi\n",
       "149       2150    Diya  Female          AI & ML   24     44     F      Delhi\n",
       "\n",
       "[150 rows x 8 columns]"
      ]
     },
     "execution_count": 6,
     "metadata": {},
     "output_type": "execute_result"
    }
   ],
   "source": [
    "df"
   ]
  },
  {
   "cell_type": "code",
   "execution_count": 16,
   "id": "8ef53232-542a-4ea6-b711-abaf9dbc4906",
   "metadata": {},
   "outputs": [
    {
     "data": {
      "text/html": [
       "<div>\n",
       "<style scoped>\n",
       "    .dataframe tbody tr th:only-of-type {\n",
       "        vertical-align: middle;\n",
       "    }\n",
       "\n",
       "    .dataframe tbody tr th {\n",
       "        vertical-align: top;\n",
       "    }\n",
       "\n",
       "    .dataframe thead th {\n",
       "        text-align: right;\n",
       "    }\n",
       "</style>\n",
       "<table border=\"1\" class=\"dataframe\">\n",
       "  <thead>\n",
       "    <tr style=\"text-align: right;\">\n",
       "      <th></th>\n",
       "      <th>Name</th>\n",
       "    </tr>\n",
       "  </thead>\n",
       "  <tbody>\n",
       "    <tr>\n",
       "      <th>0</th>\n",
       "      <td>Isha</td>\n",
       "    </tr>\n",
       "    <tr>\n",
       "      <th>1</th>\n",
       "      <td>Aarav</td>\n",
       "    </tr>\n",
       "    <tr>\n",
       "      <th>2</th>\n",
       "      <td>Vivaan</td>\n",
       "    </tr>\n",
       "    <tr>\n",
       "      <th>3</th>\n",
       "      <td>Sanya</td>\n",
       "    </tr>\n",
       "    <tr>\n",
       "      <th>4</th>\n",
       "      <td>Anaya</td>\n",
       "    </tr>\n",
       "    <tr>\n",
       "      <th>...</th>\n",
       "      <td>...</td>\n",
       "    </tr>\n",
       "    <tr>\n",
       "      <th>145</th>\n",
       "      <td>Anaya</td>\n",
       "    </tr>\n",
       "    <tr>\n",
       "      <th>146</th>\n",
       "      <td>Meera</td>\n",
       "    </tr>\n",
       "    <tr>\n",
       "      <th>147</th>\n",
       "      <td>Kabir</td>\n",
       "    </tr>\n",
       "    <tr>\n",
       "      <th>148</th>\n",
       "      <td>Sanya</td>\n",
       "    </tr>\n",
       "    <tr>\n",
       "      <th>149</th>\n",
       "      <td>Diya</td>\n",
       "    </tr>\n",
       "  </tbody>\n",
       "</table>\n",
       "<p>150 rows × 1 columns</p>\n",
       "</div>"
      ],
      "text/plain": [
       "       Name\n",
       "0      Isha\n",
       "1     Aarav\n",
       "2    Vivaan\n",
       "3     Sanya\n",
       "4     Anaya\n",
       "..      ...\n",
       "145   Anaya\n",
       "146   Meera\n",
       "147   Kabir\n",
       "148   Sanya\n",
       "149    Diya\n",
       "\n",
       "[150 rows x 1 columns]"
      ]
     },
     "execution_count": 16,
     "metadata": {},
     "output_type": "execute_result"
    }
   ],
   "source": [
    "# here we read specific column which is 'name'\n",
    "df = pd.read_csv(\"C:\\\\Users\\\\mohin\\\\Downloads\\\\student_dataset.csv\",usecols = [1]) # you can use '[column1]' rather than using [1]\n",
    "df"
   ]
  },
  {
   "cell_type": "markdown",
   "id": "17e67b89-c7fd-43c2-b9ec-30efca6e49d6",
   "metadata": {},
   "source": [
    "---------------------------------------------------------------------------------------------------------------------------------------------------------"
   ]
  },
  {
   "cell_type": "markdown",
   "id": "fdd722c5-b4a4-484c-a782-8c8f68174967",
   "metadata": {},
   "source": [
    "2. What is the purpose of .eval() in pandas ? When would you use it?\n",
    "\n",
    "**ans** - .eval() method is used to evaluate a string as a Python expression dataframe or Series. It allows you to perform complex operations on your data using a string-based syntax.\n",
    "\n",
    "- when to use .eval() function\n",
    "    - when you need to perform complex filtering or calculations on your data.\n",
    "    - when you want to avoid creating intermediate results and improve performance."
   ]
  },
  {
   "cell_type": "code",
   "execution_count": 20,
   "id": "797e918c-18c3-40ac-8751-1683384160dd",
   "metadata": {},
   "outputs": [
    {
     "data": {
      "text/html": [
       "<div>\n",
       "<style scoped>\n",
       "    .dataframe tbody tr th:only-of-type {\n",
       "        vertical-align: middle;\n",
       "    }\n",
       "\n",
       "    .dataframe tbody tr th {\n",
       "        vertical-align: top;\n",
       "    }\n",
       "\n",
       "    .dataframe thead th {\n",
       "        text-align: right;\n",
       "    }\n",
       "</style>\n",
       "<table border=\"1\" class=\"dataframe\">\n",
       "  <thead>\n",
       "    <tr style=\"text-align: right;\">\n",
       "      <th></th>\n",
       "      <th>A</th>\n",
       "      <th>B</th>\n",
       "    </tr>\n",
       "  </thead>\n",
       "  <tbody>\n",
       "    <tr>\n",
       "      <th>0</th>\n",
       "      <td>11</td>\n",
       "      <td>44</td>\n",
       "    </tr>\n",
       "    <tr>\n",
       "      <th>1</th>\n",
       "      <td>22</td>\n",
       "      <td>55</td>\n",
       "    </tr>\n",
       "    <tr>\n",
       "      <th>2</th>\n",
       "      <td>33</td>\n",
       "      <td>66</td>\n",
       "    </tr>\n",
       "  </tbody>\n",
       "</table>\n",
       "</div>"
      ],
      "text/plain": [
       "    A   B\n",
       "0  11  44\n",
       "1  22  55\n",
       "2  33  66"
      ]
     },
     "execution_count": 20,
     "metadata": {},
     "output_type": "execute_result"
    }
   ],
   "source": [
    "df = pd.DataFrame({\n",
    "    'A':[11,22,33],\n",
    "    'B':[44,55,66]\n",
    "})\n",
    "df"
   ]
  },
  {
   "cell_type": "code",
   "execution_count": 24,
   "id": "bad3298d-454f-453a-a04d-3b6d25e1b72d",
   "metadata": {},
   "outputs": [
    {
     "data": {
      "text/plain": [
       "0    55\n",
       "1    77\n",
       "2    99\n",
       "dtype: int64"
      ]
     },
     "execution_count": 24,
     "metadata": {},
     "output_type": "execute_result"
    }
   ],
   "source": [
    "df.eval('A+B')"
   ]
  },
  {
   "cell_type": "markdown",
   "id": "f886e89d-a26c-4747-82d9-435e08261457",
   "metadata": {},
   "source": [
    "---------------------------------------------------------------------------------------------------------------------------------------------------------"
   ]
  },
  {
   "cell_type": "markdown",
   "id": "88b6422f-960d-4f6b-b479-69d18d1e5272",
   "metadata": {},
   "source": [
    "3. What is the difference between str.replace() and str.extract()? Explain along with example.\n",
    "\n",
    "**ans** - \n",
    "1. **str.replace()**\n",
    "- replaces a specified substring with another substring in a string column\n",
    "- returns a new series with the replaced values."
   ]
  },
  {
   "cell_type": "code",
   "execution_count": 27,
   "id": "3f0e4d46-b261-49e2-8fdb-104699c03f1d",
   "metadata": {},
   "outputs": [
    {
     "data": {
      "text/html": [
       "<div>\n",
       "<style scoped>\n",
       "    .dataframe tbody tr th:only-of-type {\n",
       "        vertical-align: middle;\n",
       "    }\n",
       "\n",
       "    .dataframe tbody tr th {\n",
       "        vertical-align: top;\n",
       "    }\n",
       "\n",
       "    .dataframe thead th {\n",
       "        text-align: right;\n",
       "    }\n",
       "</style>\n",
       "<table border=\"1\" class=\"dataframe\">\n",
       "  <thead>\n",
       "    <tr style=\"text-align: right;\">\n",
       "      <th></th>\n",
       "      <th>text</th>\n",
       "    </tr>\n",
       "  </thead>\n",
       "  <tbody>\n",
       "    <tr>\n",
       "      <th>0</th>\n",
       "      <td>Good morning</td>\n",
       "    </tr>\n",
       "    <tr>\n",
       "      <th>1</th>\n",
       "      <td>Good night</td>\n",
       "    </tr>\n",
       "  </tbody>\n",
       "</table>\n",
       "</div>"
      ],
      "text/plain": [
       "           text\n",
       "0  Good morning\n",
       "1    Good night"
      ]
     },
     "execution_count": 27,
     "metadata": {},
     "output_type": "execute_result"
    }
   ],
   "source": [
    "df = pd.DataFrame({\n",
    "    'text':['Good morning','Good night']\n",
    "})\n",
    "df"
   ]
  },
  {
   "cell_type": "code",
   "execution_count": 31,
   "id": "5d46fda5-dc57-413d-ace9-573340772d33",
   "metadata": {},
   "outputs": [
    {
     "name": "stdout",
     "output_type": "stream",
     "text": [
      "0    Happy morning\n",
      "1      Happy night\n",
      "Name: text, dtype: object\n"
     ]
    }
   ],
   "source": [
    "res = df['text'].str.replace('Good','Happy')\n",
    "print(res)"
   ]
  },
  {
   "cell_type": "markdown",
   "id": "61efc70c-a551-47f8-90bf-b88f635e85ef",
   "metadata": {},
   "source": [
    "2. **str.extract()**\n",
    "- extracts a specified pattern from a string column using regular expressions.\n",
    "- returns a new series or dataframe with the extracted values."
   ]
  },
  {
   "cell_type": "markdown",
   "id": "3d786706-5a1b-4a64-bedc-323f54ad2da8",
   "metadata": {},
   "source": [
    "---------------------------------------------------------------------------------------------------------------------------------------------------------"
   ]
  },
  {
   "cell_type": "markdown",
   "id": "9a667d5f-9624-4e1e-b31b-9003d43ae824",
   "metadata": {},
   "source": [
    "4. How to handle Time Series data in Pandas  ?  explain all the methods.\n",
    "\n",
    "**ans** - pandas provide several methods to handle time series data as follows,\n",
    "1. **creating a time series** - you can create a time series by specifying a date range and values."
   ]
  },
  {
   "cell_type": "code",
   "execution_count": 39,
   "id": "ed5d24f8-8413-4f5d-83f5-04e016cd2497",
   "metadata": {},
   "outputs": [
    {
     "data": {
      "text/plain": [
       "DatetimeIndex(['2025-01-01', '2025-01-02', '2025-01-03', '2025-01-04',\n",
       "               '2025-01-05', '2025-01-06', '2025-01-07', '2025-01-08',\n",
       "               '2025-01-09', '2025-01-10'],\n",
       "              dtype='datetime64[ns]', freq='D')"
      ]
     },
     "execution_count": 39,
     "metadata": {},
     "output_type": "execute_result"
    }
   ],
   "source": [
    "date_range = pd.date_range('2025-01-01','2025-01-10')\n",
    "date_range"
   ]
  },
  {
   "cell_type": "markdown",
   "id": "f60bc655-a6cd-4d04-913a-805e9a0b90b8",
   "metadata": {},
   "source": [
    "2. **Converting strings to DateTime** - you can convert string columns to datetime format using pd.to _datetime()\n",
    "- df['date_range'] = pd.to_datetime(df['date_range'])"
   ]
  },
  {
   "cell_type": "markdown",
   "id": "a8dd3c49-661b-4117-93bd-1356fc2cbc52",
   "metadata": {},
   "source": [
    "3. **Setting DateTime index** - you can set a datetime column as the index of a Dateframe\n",
    "- df.set_index('date',inplace = True)"
   ]
  },
  {
   "cell_type": "markdown",
   "id": "c1fcc3da-4bed-4995-9d03-8fbbdc36a0ca",
   "metadata": {},
   "source": [
    "4. **Resampling window calculations** - you can perform rolling window calculations using **rolling()**\n",
    "- ts.rolling(window = 3).mean - will calculate rolling mean with a window size of 3 \n",
    "\n",
    "5. **Resampling time series** - you can resample a time series to a different frequency using **resample()**\n",
    "- ts.resample('M').mean() - will resample to monthly frequency and calculate mean\n",
    "\n",
    "6. **Shifting time series** - can shift a time series by a specified number of periods using **shift()**\n",
    "- ts.shift(1) - will shift the time series by 1 period\n",
    "\n",
    "7. **Time series plotting** - can plot time series data using **plot()**\n",
    "- ts.plot()\n",
    "\n",
    "8. **Handling missing values** - can handle missing values in time series data using **fillna()** or **interpolate()**\n",
    "- ts.fillna(ts.mean) - fill missing values with mean\n",
    "- ts.interpolate() - interpolate missing values\n",
    "\n",
    "9. **Time series decomposition** - can decomposes a time series into trend, seasonality and residuals using **seasonal_decompose()**\n"
   ]
  },
  {
   "cell_type": "code",
   "execution_count": 51,
   "id": "e92ea56f-034f-4296-978f-d336bfbf5bb2",
   "metadata": {},
   "outputs": [
    {
     "data": {
      "text/plain": [
       "'\\nfrom statsmodels.tsa.seasonal import seasonal_decompose\\ndecomposition = seasonal_decompose(ts)\\n'"
      ]
     },
     "execution_count": 51,
     "metadata": {},
     "output_type": "execute_result"
    }
   ],
   "source": [
    "\"\"\"\n",
    "from statsmodels.tsa.seasonal import seasonal_decompose\n",
    "decomposition = seasonal_decompose(ts)\n",
    "\"\"\""
   ]
  },
  {
   "cell_type": "markdown",
   "id": "c49e800a-5b2d-4174-ae74-57036935c56c",
   "metadata": {},
   "source": [
    "10. **Time series forecasting** "
   ]
  },
  {
   "cell_type": "markdown",
   "id": "e8cd1514-f6b2-46d4-acd9-ca90a2d47e2f",
   "metadata": {},
   "source": [
    "--------------------------------------------------------------------------------------------------------------------------------------------------------"
   ]
  },
  {
   "cell_type": "markdown",
   "id": "f22e0ba7-e502-4016-a979-39b2f1f21eff",
   "metadata": {},
   "source": [
    "5. Explain methods related to date and time.\n",
    "\n",
    "**ans** - \n",
    "1. pd.to_datetime():\n",
    "- converts a string or other format to a datetime object."
   ]
  },
  {
   "cell_type": "code",
   "execution_count": 59,
   "id": "c0533a42-ee74-4f15-a3de-69b06b458759",
   "metadata": {},
   "outputs": [
    {
     "data": {
      "text/plain": [
       "Timestamp('2023-01-01 00:00:00')"
      ]
     },
     "execution_count": 59,
     "metadata": {},
     "output_type": "execute_result"
    }
   ],
   "source": [
    "import pandas as pd\n",
    "date_string = '2023-01-01'\n",
    "date_object = pd.to_datetime(date_string)\n",
    "date_object"
   ]
  },
  {
   "cell_type": "markdown",
   "id": "a59274bb-a00d-4f67-9ace-cd09d6df0d48",
   "metadata": {},
   "source": [
    "2. dt.date:\n",
    "- extracts the date part from a datetime object\n",
    "- df['date'] = df['datetime'].dt.date\n",
    "\n",
    "3. dt.time:\n",
    "- extracts the time part from a datetime object.\n",
    "- df['time'] = df['datetime'].dt.time\n",
    "\n",
    "4. dt.year,dt.month,dt.day\n",
    "- extracts the year, month or day from datetime object.\n",
    "\n",
    "5. dt.hour,dt.minute,dt.second\n",
    "- extracts the hour,minute or second from a datetime object\n",
    "\n",
    "6. dt.weekday\n",
    "- returns the day of the week as an integer(monday = 0 and sunday = 6)\n",
    "\n",
    "7. dt.isocalender\n",
    "- returns the ISO year, week and weekday\n",
    "\n",
    "8. pd.date_range()\n"
   ]
  },
  {
   "cell_type": "code",
   "execution_count": 72,
   "id": "d064354b-c9c1-40a3-8852-6e3a9fd94c0e",
   "metadata": {},
   "outputs": [
    {
     "data": {
      "text/plain": [
       "DatetimeIndex(['2023-01-01', '2023-01-02', '2023-01-03', '2023-01-04',\n",
       "               '2023-01-05', '2023-01-06', '2023-01-07', '2023-01-08',\n",
       "               '2023-01-09', '2023-01-10', '2023-01-11', '2023-01-12',\n",
       "               '2023-01-13', '2023-01-14', '2023-01-15', '2023-01-16',\n",
       "               '2023-01-17', '2023-01-18', '2023-01-19', '2023-01-20',\n",
       "               '2023-01-21', '2023-01-22', '2023-01-23', '2023-01-24',\n",
       "               '2023-01-25', '2023-01-26', '2023-01-27', '2023-01-28',\n",
       "               '2023-01-29', '2023-01-30', '2023-01-31'],\n",
       "              dtype='datetime64[ns]', freq='D')"
      ]
     },
     "execution_count": 72,
     "metadata": {},
     "output_type": "execute_result"
    }
   ],
   "source": [
    "pd.date_range('2023-01-01','2023-01-31')"
   ]
  },
  {
   "cell_type": "markdown",
   "id": "3e448e8a-88d1-48d7-a4a9-77fbde276867",
   "metadata": {},
   "source": [
    "9. pd.period_range()- creates a period range with a specified frequency."
   ]
  },
  {
   "cell_type": "code",
   "execution_count": 86,
   "id": "0acc6c68-6a21-4b1b-9611-dc9b95c5d2dd",
   "metadata": {},
   "outputs": [
    {
     "data": {
      "text/plain": [
       "PeriodIndex(['2023-01', '2023-02', '2023-03', '2023-04', '2023-05', '2023-06',\n",
       "             '2023-07', '2023-08', '2023-09', '2023-10', '2023-11', '2023-12'],\n",
       "            dtype='period[M]')"
      ]
     },
     "execution_count": 86,
     "metadata": {},
     "output_type": "execute_result"
    }
   ],
   "source": [
    "\n",
    "\"\"\"\n",
    "M - monthly frequency\n",
    "D - daily frequency\n",
    "W - weekly frequency\n",
    "Q - quarterly frequency\n",
    "A - annual frequency\n",
    "\"\"\"\n",
    "period_range = pd.period_range('2023-01','2023-12',freq = 'M')\n",
    "period_range"
   ]
  },
  {
   "cell_type": "markdown",
   "id": "597ee94b-d3a9-4a23-b450-813db81e8023",
   "metadata": {},
   "source": [
    "---------------------------------------------------------------------------------------------------------------------------------------------------------"
   ]
  },
  {
   "cell_type": "markdown",
   "id": "65166f42-b8d5-43f5-bd7e-f3b152cfc1bf",
   "metadata": {},
   "source": [
    "6. What is the purpose of multiIndex in pandas?\n",
    "\n",
    "**ans** - \n",
    "- it is also known as hierarchical index\n",
    "- **purpose**\n",
    "    - enable data to be organized and analyzed by multiple categories or dimensions.\n",
    "    - provide a way to represent complex data relationships and hierarchies.\n",
    "    - allow for more efficient and flexible data analysis and manipulation"
   ]
  },
  {
   "cell_type": "code",
   "execution_count": 92,
   "id": "70f4c466-73d0-4414-9a6b-e17ee9efe9bb",
   "metadata": {},
   "outputs": [
    {
     "name": "stdout",
     "output_type": "stream",
     "text": [
      "               value\n",
      "letter number       \n",
      "A      1          10\n",
      "       2          20\n",
      "B      1          30\n",
      "       2          40\n",
      "C      1          50\n"
     ]
    }
   ],
   "source": [
    "data = {'value':[10,20,30,40,50]}\n",
    "index = pd.MultiIndex.from_tuples([('A',1),('A',2),('B',1),('B',2),('C',1)], names = ['letter','number'])\n",
    "df = pd.DataFrame(data,index = index)\n",
    "print(df)"
   ]
  },
  {
   "cell_type": "markdown",
   "id": "12d60829-5f93-4f03-816c-32698fa634ec",
   "metadata": {},
   "source": [
    "---------------------------------------------------------------------------------------------------------------------------------------------------------"
   ]
  },
  {
   "cell_type": "markdown",
   "id": "a9fe5fe1-6b75-4916-96ef-7f3b9218e3a8",
   "metadata": {},
   "source": [
    "7. What is the difference between copy() and view()?\n",
    "\n",
    "**ans** :\n",
    "- copy() creates a deep copy of the original dataframe or series  while view() creates a shallow copy of the original dataframe or series\n",
    "- copy() allocates new memory for the copied data while view() does not allocate new memory for the data."
   ]
  },
  {
   "cell_type": "markdown",
   "id": "921a8305-35e5-43b2-87f4-a9717172eb8f",
   "metadata": {},
   "source": [
    "---------------------------------------------------------------------------------------------------------------------------------------------------------"
   ]
  },
  {
   "cell_type": "markdown",
   "id": "52ad5dfc-7721-4ec8-b9cc-9dcf79e6825d",
   "metadata": {},
   "source": [
    "8. what is method chaining in pandas ?\n",
    "\n",
    "**ans** - method chaining is a programming technique in pandas where multiple methods are called on an object in a single line of code,\n",
    "- each method returns the object itself, allowing the next method to be called on the same object.\n",
    "\n",
    "---------------------------------------------------------------------------------------------------------------------------------------------------------"
   ]
  },
  {
   "cell_type": "markdown",
   "id": "b913f0b2-0198-482b-bc2a-eee789f6c147",
   "metadata": {},
   "source": [
    "9. what is the difference between shift() and diff() ?\n",
    "\n",
    "**ans**:\n",
    "- shift() shifts the values in a series or dataframe by a specified number of periods \n",
    "- diff() calculates the difference between consecutive values in a series or dataframes.\n",
    "\n",
    "---------------------------------------------------------------------------------------------------------------------------------------------------------"
   ]
  },
  {
   "cell_type": "markdown",
   "id": "c410cded-78a9-4160-8550-93e87d45207a",
   "metadata": {},
   "source": [
    "10. How would you handle a dataset with mixed timezones?\n",
    "\n",
    "**ans**:\n",
    "1. identify timezone information - you can use the **dt.tz** attribute to check if a datetime column has timezone information.\n",
    "2. convert to a standard timezone - dt.tz_convert('UTC')\n",
    "3. Handle ambiguous datetimes\n",
    "\n",
    "---------------------------------------------------------------------------------------------------------------------------------------------------------\n",
    "\n"
   ]
  },
  {
   "cell_type": "markdown",
   "id": "798a3ac4-be3b-423a-9db8-6a2919f8b722",
   "metadata": {},
   "source": [
    "11. What is sparseDataFrame ? when would you use it?\n",
    "\n",
    "**ans** : \n",
    "- A SparseDataFrame is a type of DataFrame in pandas that is optimized for storing and manipulating data with a large number of missing or null values  - SparseDataFrames are particularly useful when working with datasets that have a high proportion of zeros or NaN values.\n",
    "\n",
    "- When to Use:\n",
    "\n",
    "    - High-dimensional data: When working with high-dimensional data that has a large number of features, many of which may be zero or NaN.\n",
    "    - Sparse matrices: When working with sparse matrices, such as those encountered in linear algebra or machine learning applications.\n",
    "    - Large datasets: When working with large datasets that have a high proportion of missing or null values.\n",
    "\n",
    "---------------------------------------------------------------------------------------------------------------------------------------------------------"
   ]
  },
  {
   "cell_type": "markdown",
   "id": "fd18f774-f80e-4f1e-97ee-55bbd78501d7",
   "metadata": {},
   "source": [
    "12. How does pd.IndexSlice work with MultiIndex?\n",
    "\n",
    "**ans** : \n",
    "\n"
   ]
  },
  {
   "cell_type": "markdown",
   "id": "faf776ef-6865-42ce-89c8-8913b3d03329",
   "metadata": {},
   "source": [
    "---------------------------------------------------------------------------------------------------------------------------------------------------------"
   ]
  },
  {
   "cell_type": "markdown",
   "id": "f41d2d5a-2bf9-4050-8a3c-24f13516ed7f",
   "metadata": {},
   "source": [
    "13. What is the purpose of at and iat? How do they differ from loc/iloc?\n",
    "\n",
    "**ans** - \n",
    "\n",
    "**purpose**\n",
    "- at and iat provide fast and efficient access to a single value in a DataFrame or Series.\n",
    "- at and iat also allow you to modify a single value in a DataFrame or Series.\n",
    "\n",
    "Difference from loc and iloc:\n",
    "\n",
    "- **Single value access**: at and iat are designed for accessing and modifying single values, while loc and iloc can access multiple values or rows and columns.\n",
    "- **Speed**: at and iat are faster than loc and iloc for accessing single values because they are optimized for this specific use case.\n",
    "- **Syntax**: The syntax for at and iat is similar to loc and iloc, but at and iat require a single label or integer, while loc and iloc can accept multiple labels or integers.\n",
    "\n",
    "---------------------------------------------------------------------------------------------------------------------------------------------------------"
   ]
  },
  {
   "cell_type": "markdown",
   "id": "2766d638-6cbe-41c1-98bd-d3fef415d171",
   "metadata": {},
   "source": [
    "14. What is the difference between merge_asof() and regular merge()\n",
    "\n",
    "**ans** : \n",
    "- **Match type**: merge() performs an exact match, while merge_asof() performs a nearest match based on the direction specified (backward, forward, or nearest).\n",
    "- **Use case**: merge() is suitable for general data merging, while merge_asof() is specifically designed for merging time-series data or sequential data.\n",
    "\n",
    "---------------------------------------------------------------------------------------------------------------------------------------------------------"
   ]
  },
  {
   "cell_type": "markdown",
   "id": "de55c3b2-5f7c-4fbd-8e18-5d1676bb2e80",
   "metadata": {},
   "source": [
    "15. What is pd.NA? How does it differ from np.nan?\n",
    "\n",
    "**ans** : \n",
    "- **Propagation**: pd.NA propagates through operations, meaning that if you perform an operation involving pd.NA, the result will also be pd.NA. np.nan, on the other hand, can sometimes produce unexpected results when used in operations.\n",
    "- **Type**: pd.NA is a pandas-specific missing value representation, while np.nan is a NumPy floating-point representation of Not a Number.\n",
    "- **Behavior**: pd.NA is designed to behave more consistently and predictably than np.nan when used in pandas operations\n",
    "\n",
    "---------------------------------------------------------------------------------------------------------------------------------------------------------"
   ]
  },
  {
   "cell_type": "markdown",
   "id": "a90b8cde-c86d-419d-af84-e5d472e6874d",
   "metadata": {},
   "source": [
    "1. write a python program to check if a string is valid email address."
   ]
  },
  {
   "cell_type": "code",
   "execution_count": 3,
   "id": "2cc83b94-3c75-4d4f-bc28-dd2d68f70a77",
   "metadata": {},
   "outputs": [
    {
     "name": "stdin",
     "output_type": "stream",
     "text": [
      "enter your email id =  mohini@gmail.com\n"
     ]
    },
    {
     "name": "stdout",
     "output_type": "stream",
     "text": [
      "valid email id\n"
     ]
    }
   ],
   "source": [
    "import re\n",
    "def is_valid(mail):\n",
    "    pattern = r\"^[a-zA-Z0-9_.+-]+@[a-zA-Z0-9-]+\\.[a-zA-Z0-9-.]+$\"\n",
    "    return bool(re.match(pattern,mail))\n",
    "mail = input('enter your email id = ')\n",
    "if is_valid(mail):\n",
    "    print('valid email id')\n",
    "else:\n",
    "    print('please enter the valid email id')"
   ]
  },
  {
   "cell_type": "markdown",
   "id": "0a1cfad4-f8c8-44c8-ac4a-0f9614f32a8b",
   "metadata": {},
   "source": [
    "---------------------------------------------------------------------------------------------------------------------------------------------------------\n",
    "\n",
    "2. Write a Python program to find the longest common prefix among a list of strings.\n"
   ]
  },
  {
   "cell_type": "code",
   "execution_count": 12,
   "id": "523c78e3-2314-4681-a95d-45347d9e544b",
   "metadata": {},
   "outputs": [
    {
     "name": "stdout",
     "output_type": "stream",
     "text": [
      "ca\n"
     ]
    }
   ],
   "source": [
    "def longest_prefix(string):\n",
    "    if not string:\n",
    "        return \"\"\n",
    "    prefix = \"\"\n",
    "    for chars in zip(*string):\n",
    "        if len(set(chars))==1:\n",
    "            prefix += chars[0]\n",
    "        else:\n",
    "            break\n",
    "    return prefix\n",
    "\n",
    "string = ['cat','carrom','can']\n",
    "print(longest_prefix(string))"
   ]
  },
  {
   "cell_type": "markdown",
   "id": "42ed985b-249d-471b-8142-349916459f55",
   "metadata": {},
   "source": [
    "---------------------------------------------------------------------------------------------------------------------------------------------------------\n",
    "\n",
    "3. Given a string, create a new string with the same characters in a random order.\n"
   ]
  },
  {
   "cell_type": "code",
   "execution_count": 32,
   "id": "eafbbcff-9fc9-4646-a00e-474eb999a4b8",
   "metadata": {},
   "outputs": [
    {
     "name": "stdout",
     "output_type": "stream",
     "text": [
      "Randomized order string : iimhno\n"
     ]
    }
   ],
   "source": [
    "import random\n",
    "def random_order(string):\n",
    "    return ''.join(random.sample(string,len(string)))\n",
    "\n",
    "main_string = 'mohini'\n",
    "random_order_string = random_order(main_string)\n",
    "print(f'Randomized order string : {random_order_string}')"
   ]
  },
  {
   "cell_type": "markdown",
   "id": "da53ea50-11d0-489a-9d43-0a1bbcb4bc74",
   "metadata": {},
   "source": [
    "---------------------------------------------------------------------------------------------------------------------------------------------------------\n",
    "\n",
    "4. Implement a method to perform basic string compression using the counts of repeated characters. For ex: \"aaaabbccc\" -> \"a4b2c3\"\n"
   ]
  },
  {
   "cell_type": "code",
   "execution_count": 37,
   "id": "fa6eab7f-2248-4ac9-9656-6f409a1607a6",
   "metadata": {},
   "outputs": [
    {
     "name": "stdout",
     "output_type": "stream",
     "text": [
      "a4b2c3\n"
     ]
    }
   ],
   "source": [
    "def compress(string):\n",
    "    result = \"\"\n",
    "    count = 1\n",
    "    for i in range(1, len(string)):\n",
    "        if string[i] == string[i - 1]:\n",
    "            count += 1\n",
    "        else:\n",
    "            result += string[i - 1] + str(count)\n",
    "            count = 1\n",
    "    result += string[-1] + str(count)\n",
    "    return result\n",
    "\n",
    "\n",
    "main_string = \"aaaabbccc\"\n",
    "compressed_string = compress(main_string)\n",
    "print(compressed_string)  "
   ]
  },
  {
   "cell_type": "markdown",
   "id": "c96ef2a7-ad7e-40ee-9fae-f0ba1db4e6d8",
   "metadata": {},
   "source": [
    "---------------------------------------------------------------------------------------------------------------------------------------------------------\n",
    "\n",
    "5. Write a Python Program to Count Number of Uppercase and Lowercase Letters in a String"
   ]
  },
  {
   "cell_type": "code",
   "execution_count": 40,
   "id": "a777787b-3986-479d-8c77-de972642dfa0",
   "metadata": {},
   "outputs": [
    {
     "name": "stdout",
     "output_type": "stream",
     "text": [
      "Uppercase letters: 6\n",
      "Lowercase letters: 3\n"
     ]
    }
   ],
   "source": [
    "def count_case(s):\n",
    "    uppercase_count = sum(1 for char in s if char.isupper())\n",
    "    lowercase_count = sum(1 for char in s if char.islower())\n",
    "    \n",
    "    return uppercase_count, lowercase_count\n",
    "\n",
    "# Example usage:\n",
    "s = \"i am MOHINI\"\n",
    "uppercase, lowercase = count_case(s)\n",
    "print(f\"Uppercase letters: {uppercase}\")\n",
    "print(f\"Lowercase letters: {lowercase}\")"
   ]
  },
  {
   "cell_type": "code",
   "execution_count": null,
   "id": "6f8a39b7-4cca-4f0d-8656-2381d2feebb7",
   "metadata": {},
   "outputs": [],
   "source": []
  }
 ],
 "metadata": {
  "kernelspec": {
   "display_name": "Python 3 (ipykernel)",
   "language": "python",
   "name": "python3"
  },
  "language_info": {
   "codemirror_mode": {
    "name": "ipython",
    "version": 3
   },
   "file_extension": ".py",
   "mimetype": "text/x-python",
   "name": "python",
   "nbconvert_exporter": "python",
   "pygments_lexer": "ipython3",
   "version": "3.12.4"
  }
 },
 "nbformat": 4,
 "nbformat_minor": 5
}
