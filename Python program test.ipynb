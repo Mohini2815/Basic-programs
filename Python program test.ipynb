{
 "cells": [
  {
   "cell_type": "markdown",
   "id": "f7918d28-2d43-4934-904b-9d17cc1e7317",
   "metadata": {},
   "source": [
    "1. A bakery offers a 5% discount on orders above ₹500. Ask the user to enter total bill\n",
    "amount and calculate final price after discount (if applicable)."
   ]
  },
  {
   "cell_type": "code",
   "execution_count": 6,
   "id": "dca8fa73-fb64-4b8b-970b-978bcdf8fd5f",
   "metadata": {},
   "outputs": [
    {
     "name": "stdin",
     "output_type": "stream",
     "text": [
      "Enter Total bill amount 560\n"
     ]
    },
    {
     "name": "stdout",
     "output_type": "stream",
     "text": [
      "Discount applied price:28.0\n",
      "Final bill price:532.0\n"
     ]
    }
   ],
   "source": [
    "total_bill_amt = int(input(\"Enter Total bill amount\"))# to enter total bill amount\n",
    "\n",
    "if total_bill_amt > 500: # checking is bill amount is above 500 or not\n",
    "    discount = total_bill_amt * 0.05 # calculating discount\n",
    "    final_bill_price = total_bill_amt - discount # calculating final bill price\n",
    "    print(f\"Discount applied price:{discount}\")\n",
    "    print(f\"Final bill price:{final_bill_price}\")\n",
    "else:\n",
    "    print(\"discount can not be apply on this price\")"
   ]
  },
  {
   "cell_type": "markdown",
   "id": "5e09d307-ed98-4232-b621-8e68c9970b98",
   "metadata": {},
   "source": [
    "2.Given the marks in 3 subjects, calculate and print the result as PASS or FAIL. A student\n",
    "passes only if all marks are >= 35"
   ]
  },
  {
   "cell_type": "code",
   "execution_count": 13,
   "id": "22345710-4b6a-4193-bf47-6222740eb0ce",
   "metadata": {},
   "outputs": [
    {
     "name": "stdin",
     "output_type": "stream",
     "text": [
      "Enter the marks of Marathi =  20\n",
      "Enter the marks of Hindi =  44\n",
      "Enter the marks of English =  44\n"
     ]
    },
    {
     "name": "stdout",
     "output_type": "stream",
     "text": [
      "Fail\n"
     ]
    }
   ],
   "source": [
    "# enter the marks of 3 subjects\n",
    "sub1 = int(input(\"Enter the marks of Marathi = \"))\n",
    "sub2 = int(input(\"Enter the marks of Hindi = \"))\n",
    "sub3 = int(input(\"Enter the marks of English = \"))\n",
    "\n",
    "if(sub1>=35 & sub2>=35 & sub3 >=35):\n",
    "    print(\"Pass\")\n",
    "else:\n",
    "    print(\"Fail\")"
   ]
  },
  {
   "cell_type": "markdown",
   "id": "a44aaeb7-0e7f-4282-98a3-924f02bbbd45",
   "metadata": {},
   "source": [
    "3. Write a program that reads a day number (1-7) and prints whether it's a weekday or\n",
    "weekend. Handle invalid inputs as well."
   ]
  },
  {
   "cell_type": "code",
   "execution_count": 42,
   "id": "868c7b72-3fa9-43e6-ac66-15597020d35a",
   "metadata": {},
   "outputs": [
    {
     "name": "stdin",
     "output_type": "stream",
     "text": [
      "Enter the number of that day which you want to see weekday or weekend =  1\n"
     ]
    },
    {
     "name": "stdout",
     "output_type": "stream",
     "text": [
      "Invalid input\n"
     ]
    }
   ],
   "source": [
    "# get a day number\n",
    "day_num = int(input(\"Enter the number of that day which you want to see weekday or weekend = \"))\n",
    "if (day_num == 1|day_num==2|day_num==3|day_num==4|day_num==5|day_num==6|day_num==7):# checking the day number is valid or not\n",
    "    if day_num <= 5:\n",
    "        print(\"It is an weekday\")\n",
    "    else:\n",
    "        print(\"It is weekend\")\n",
    "else:\n",
    "    print(\"Invalid input\")"
   ]
  },
  {
   "cell_type": "markdown",
   "id": "3962cebf-2f06-4b29-af48-905b8d40fc2e",
   "metadata": {},
   "source": [
    "4. A person gets a fine if they return a library book late. First 5 days: ₹2/day, next 5 days:\n",
    "₹5/day, after that: ₹10/day. Calculate the fine based on days late.\n"
   ]
  },
  {
   "cell_type": "code",
   "execution_count": null,
   "id": "7eaa0800-99f6-45de-8474-615d649bfbea",
   "metadata": {},
   "outputs": [],
   "source": [
    "days = int(input(\"Enter the how many days late = \"))\n",
    "\n",
    "if days <= 0:\n",
    "    print(\"No fine\")\n",
    "elif days <= 5:\n",
    "    fine = days * 2\n",
    "elif days <=10:\n",
    "    fine = 5 * 2 "
   ]
  },
  {
   "cell_type": "markdown",
   "id": "a97a6b01-2b49-445e-9232-3673ee10b31c",
   "metadata": {},
   "source": [
    "5. Write a function that accepts three side lengths and returns True if they can form a\n",
    "triangle (use triangle inequality)."
   ]
  },
  {
   "cell_type": "code",
   "execution_count": 56,
   "id": "f50f5509-798d-46ae-b207-ba6f9b9da148",
   "metadata": {},
   "outputs": [
    {
     "name": "stdout",
     "output_type": "stream",
     "text": [
      "True\n"
     ]
    }
   ],
   "source": [
    "def triangle(a,b,c):\n",
    "    sides = sorted([a,b,c])\n",
    "    return sides[0]+sides[1]>sides[2]\n",
    "print(triangle(2,5,6))"
   ]
  },
  {
   "cell_type": "markdown",
   "id": "726ba92d-486a-40fe-b73f-0e18c6a143e3",
   "metadata": {},
   "source": [
    "6. Define a function that returns the second largest number among four numbers passed to \n",
    "it"
   ]
  },
  {
   "cell_type": "code",
   "execution_count": 62,
   "id": "a4b63e9b-7f62-4b86-8ef0-318df5a9f61e",
   "metadata": {},
   "outputs": [
    {
     "name": "stdout",
     "output_type": "stream",
     "text": [
      "5\n"
     ]
    }
   ],
   "source": [
    "def second_largest_number(a,b,c,d):\n",
    "    return sorted([a,b,c,d])[-2]\n",
    "print(second_largest_number(3,5,4,6))"
   ]
  },
  {
   "cell_type": "markdown",
   "id": "121465ec-e747-436c-952d-32ed321643ce",
   "metadata": {},
   "source": [
    "7. Use map() and a lambda function to convert a list of temperatures in Celsius to\n",
    "Fahrenheit"
   ]
  },
  {
   "cell_type": "code",
   "execution_count": 66,
   "id": "69bcba20-69f6-4f08-9ddf-d2809089a20a",
   "metadata": {},
   "outputs": [
    {
     "name": "stdout",
     "output_type": "stream",
     "text": [
      "fahrenheit temperatures are: [50.0, 113.0, 69.8, 111.2, 53.6]\n"
     ]
    }
   ],
   "source": [
    "# define a list of temperatures in celsius\n",
    "cel_temp = [10,45,21,44,12]\n",
    "\n",
    "# use map() and lambda function\n",
    "faht_temp = list(map(lambda x : (x*9/5)+32,cel_temp))\n",
    "\n",
    "print(\"fahrenheit temperatures are:\",faht_temp)"
   ]
  },
  {
   "cell_type": "markdown",
   "id": "2fb78c05-a9a3-461f-96af-8c52cd81c2b2",
   "metadata": {},
   "source": [
    "8. Use filter() to extract scores above 60 from a list of student scores."
   ]
  },
  {
   "cell_type": "code",
   "execution_count": 69,
   "id": "e121c832-c274-4331-9ffe-dfa5c4b50df3",
   "metadata": {},
   "outputs": [
    {
     "name": "stdout",
     "output_type": "stream",
     "text": [
      "The scores above 60 are: [67, 76, 90]\n"
     ]
    }
   ],
   "source": [
    "# define a list of scores\n",
    "scores = [67,60,76,90,45]\n",
    "\n",
    "# use filter() function\n",
    "filtered_scores = list(filter(lambda x : (x>60),scores))\n",
    "\n",
    "print(\"The scores above 60 are:\",filtered_scores)"
   ]
  },
  {
   "cell_type": "markdown",
   "id": "e6e41f8b-3cbe-40e6-b853-ae4bc1ccd37d",
   "metadata": {},
   "source": [
    "9. Given a list of dictionaries with employee names and salaries, use reduce() to calculate\n",
    "the total salary payout."
   ]
  },
  {
   "cell_type": "code",
   "execution_count": 10,
   "id": "39bef509-d143-4ccf-a5e1-8c32de59c1ea",
   "metadata": {},
   "outputs": [
    {
     "name": "stdout",
     "output_type": "stream",
     "text": [
      "Employee: [{'name': 'Mohini', 'salary': 45000}, {'name': 'Sakshi', 'salary': 40000}, {'name': 'Bhargavi', 'salary': 50000}]\n",
      "Total salary payout: 135000\n"
     ]
    }
   ],
   "source": [
    "from functools import reduce\n",
    "# define dictionary\n",
    "employees = [\n",
    "    {\"name\":\"Mohini\",\"salary\":45000},\n",
    "    {\"name\":\"Sakshi\",\"salary\":40000},\n",
    "    {\"name\":\"Bhargavi\",\"salary\":50000}\n",
    "]\n",
    "\n",
    "# use reduce() function to calculate the total salary payout\n",
    "total_salary = reduce(lambda x,y:x+y[\"salary\"],employees,0)\n",
    "\n",
    "# print the result\n",
    "print(\"Employee:\",employees)\n",
    "print(\"Total salary payout:\",total_salary)"
   ]
  },
  {
   "cell_type": "markdown",
   "id": "241b3b24-7be0-4eaa-aab8-0a0846fe9e86",
   "metadata": {},
   "source": [
    "10. Use enumerate() to print the index and element of each character in a word entered by\n",
    "the user."
   ]
  },
  {
   "cell_type": "code",
   "execution_count": 73,
   "id": "73ea1b0d-7169-434b-9eab-ee43720cde09",
   "metadata": {},
   "outputs": [
    {
     "name": "stdin",
     "output_type": "stream",
     "text": [
      "Enter the word Mohini\n"
     ]
    },
    {
     "name": "stdout",
     "output_type": "stream",
     "text": [
      "Index:0,Character:M\n",
      "Index:1,Character:o\n",
      "Index:2,Character:h\n",
      "Index:3,Character:i\n",
      "Index:4,Character:n\n",
      "Index:5,Character:i\n"
     ]
    }
   ],
   "source": [
    "word = input(\"Enter the word\")\n",
    "# use enumerate() function\n",
    "for index,char in enumerate(word):\n",
    "    print(f\"Index:{index},Character:{char}\")"
   ]
  },
  {
   "cell_type": "markdown",
   "id": "d8165e5f-27ac-4597-a263-72555dfea22b",
   "metadata": {},
   "source": [
    "11. Write a program that takes a sentence and prints the word with the highest number of\n",
    "vowels."
   ]
  },
  {
   "cell_type": "code",
   "execution_count": 12,
   "id": "9d9bde64-fc90-4511-92fe-f7f0441557b1",
   "metadata": {},
   "outputs": [
    {
     "name": "stdin",
     "output_type": "stream",
     "text": [
      "Enter any sentence =  mohini is very unlucky person in this generation\n"
     ]
    },
    {
     "name": "stdout",
     "output_type": "stream",
     "text": [
      "word with most vowels =  generation\n"
     ]
    }
   ],
   "source": [
    "# define a function to count vowels in a word\n",
    "def count_vowels(word):\n",
    "    return sum(1 for char in word.lower() if char in 'aeiou')\n",
    "# det the sentence from the user\n",
    "sentence = input(\"Enter any sentence = \")\n",
    "# split the sentence into words\n",
    "words = sentence.split()\n",
    "# find thw word with the highest number of vowels\n",
    "word_with_most_vowels = max(words, key=count_vowels)\n",
    "\n",
    "# print the result\n",
    "print(\"word with most vowels = \",word_with_most_vowels)"
   ]
  },
  {
   "cell_type": "markdown",
   "id": "c0299a3b-4441-40cf-8648-cb9edd195c63",
   "metadata": {},
   "source": [
    "12. Accept a sentence and print a new sentence where each word starts with a capital letter\n",
    "and ends with a period."
   ]
  },
  {
   "cell_type": "code",
   "execution_count": 19,
   "id": "70cc8648-1093-4679-890c-bea920c0c2f4",
   "metadata": {},
   "outputs": [
    {
     "name": "stdin",
     "output_type": "stream",
     "text": [
      "Enter the sentence = i hope all will be fine in my life\n"
     ]
    },
    {
     "name": "stdout",
     "output_type": "stream",
     "text": [
      "New sentence= I. Hope. All. Will. Be. Fine. In. My. Life.\n"
     ]
    }
   ],
   "source": [
    "sentence = input(\"Enter the sentence =\")\n",
    "# modify the sentence\n",
    "new_sentence = ' '.join(word.capitalize() +'.' for word in sentence.split())\n",
    "\n",
    "print(\"New sentence=\",new_sentence)"
   ]
  },
  {
   "cell_type": "markdown",
   "id": "a0525148-3755-4dda-bcf5-076f205ef449",
   "metadata": {},
   "source": [
    "13. Write a program that creates a list of 10 numbers from user input and removes all\n",
    "duplicates without using set().\n"
   ]
  },
  {
   "cell_type": "code",
   "execution_count": 84,
   "id": "518e002b-32db-42d4-b4be-3defd02dedd5",
   "metadata": {},
   "outputs": [
    {
     "name": "stdin",
     "output_type": "stream",
     "text": [
      "Enter a number{i+1}: 4\n",
      "Enter a number{i+1}: 3\n",
      "Enter a number{i+1}: 4\n",
      "Enter a number{i+1}: 3\n",
      "Enter a number{i+1}: 2\n",
      "Enter a number{i+1}: 4\n",
      "Enter a number{i+1}: 5\n",
      "Enter a number{i+1}: 6\n",
      "Enter a number{i+1}: 2\n",
      "Enter a number{i+1}: 5\n"
     ]
    },
    {
     "name": "stdout",
     "output_type": "stream",
     "text": [
      "Original list: [4, 3, 4, 3, 2, 4, 5, 6, 2, 5]\n",
      "List without duplicates= [4, 3, 2, 5, 6]\n"
     ]
    }
   ],
   "source": [
    "numbers=[]\n",
    "for i in range(10):\n",
    "    num = int(input(\"Enter a number{i+1}:\"))\n",
    "    numbers.append(num)\n",
    "# remove duplicates from the list\n",
    "unique_numbers=[]\n",
    "for num in numbers:\n",
    "    if num not in unique_numbers:\n",
    "        unique_numbers.append(num)\n",
    "# result\n",
    "print(\"Original list:\",numbers)\n",
    "print(\"List without duplicates=\",unique_numbers)"
   ]
  },
  {
   "cell_type": "markdown",
   "id": "b664e0ca-b22f-4ad3-a29d-d78763258eae",
   "metadata": {},
   "source": [
    "14. Given a tuple of (student_name, score), write code to find the student with the second\n",
    "highest score."
   ]
  },
  {
   "cell_type": "code",
   "execution_count": 25,
   "id": "c8bccb04-3a6f-4d11-b5d6-0899beb08621",
   "metadata": {},
   "outputs": [
    {
     "name": "stdout",
     "output_type": "stream",
     "text": [
      "Stoduent with second hughest rank is ('Bhargs', 91)\n"
     ]
    }
   ],
   "source": [
    "# define the tuple of students and scores\n",
    "students = [(\"Mohini\",90),(\"Swara\",98),(\"Bhargs\",91)]\n",
    "\n",
    "# sort the students based on their scores in descending order\n",
    "sorted_students = sorted(students, key=lambda x:x[1], reverse=True)\n",
    "\n",
    "# find the student with the second highest score\n",
    "second_highest = sorted_students[1]\n",
    "\n",
    "# print the result\n",
    "print(\"Stoduent with second hughest rank is\",second_highest)"
   ]
  },
  {
   "cell_type": "markdown",
   "id": "b48368ea-7c44-4b92-8c42-af1ef091761a",
   "metadata": {},
   "source": [
    "15. Write a program to accept 10 integers from the user and store only unique values in a\n",
    "set."
   ]
  },
  {
   "cell_type": "code",
   "execution_count": 92,
   "id": "64021f42-fa5b-4bd0-b4b4-398de83df269",
   "metadata": {},
   "outputs": [
    {
     "name": "stdin",
     "output_type": "stream",
     "text": [
      "Enter integer1: 4\n",
      "Enter integer2: 3\n",
      "Enter integer3: 2\n",
      "Enter integer4: 5\n",
      "Enter integer5: 4\n",
      "Enter integer6: 3\n",
      "Enter integer7: 5\n",
      "Enter integer8: 6\n",
      "Enter integer9: 4\n",
      "Enter integer10: 2\n"
     ]
    },
    {
     "name": "stdout",
     "output_type": "stream",
     "text": [
      "Unique integers= {2, 3, 4, 5, 6}\n"
     ]
    }
   ],
   "source": [
    "unique_integers = set()\n",
    "for i in range(10):\n",
    "    num = int(input(f\"Enter integer{i+1}:\"))\n",
    "    unique_integers.add(num)\n",
    "print(\"Unique integers=\",unique_integers)"
   ]
  },
  {
   "cell_type": "markdown",
   "id": "47b2a85a-44bd-4b83-8b6d-c9c61beaf17d",
   "metadata": {},
   "source": [
    "16. Given a dictionary of product names and their prices, write a program to display\n",
    "products that cost more than ₹1000"
   ]
  },
  {
   "cell_type": "code",
   "execution_count": 99,
   "id": "f4c688b3-0b03-405a-a9ac-c68659c132c7",
   "metadata": {},
   "outputs": [
    {
     "name": "stdout",
     "output_type": "stream",
     "text": [
      "iphone:30000\n",
      "fan:3400\n"
     ]
    }
   ],
   "source": [
    "products = {\n",
    "    \"iphone\":30000,\n",
    "    \"fan\":3400,\n",
    "    \"photo frame\":300\n",
    "}\n",
    "\n",
    "for product ,price in products.items():\n",
    "    if price > 1000:\n",
    "        print(f\"{product}:{price}\")"
   ]
  },
  {
   "cell_type": "markdown",
   "id": "45922b55-2e61-4efd-95ff-3e5eead90fbc",
   "metadata": {},
   "source": [
    "17. Write a program that accepts two numbers and divides them, handling the case where\r\n",
    "the denominator is zero."
   ]
  },
  {
   "cell_type": "code",
   "execution_count": 32,
   "id": "c9af9bf6-ab6c-4836-b144-c05a72651751",
   "metadata": {},
   "outputs": [
    {
     "name": "stdin",
     "output_type": "stream",
     "text": [
      "Enter the numerator= 4\n",
      "Enter the denominator =  0\n"
     ]
    },
    {
     "name": "stdout",
     "output_type": "stream",
     "text": [
      "Denominator cannot be zero\n"
     ]
    }
   ],
   "source": [
    "num1 = float(input(\"Enter the numerator=\")) \n",
    "num2 = float(input(\"Enter the denominator = \"))\n",
    "\n",
    "if num2 == 0:\n",
    "    print(\"Denominator cannot be zero\")\n",
    "else:\n",
    "    result = num1 / num2\n",
    "    print(f\"{num1} divided by {num2} is {result}\")"
   ]
  },
  {
   "cell_type": "markdown",
   "id": "0c1405e5-8d4e-4fc3-9a2c-bf4dfa98af7e",
   "metadata": {},
   "source": [
    "18. Create a program that accepts an integer list and handles the exception when a noninteger is entered."
   ]
  },
  {
   "cell_type": "code",
   "execution_count": 39,
   "id": "3a168716-734b-459d-9c9b-9e2caa6ebb21",
   "metadata": {},
   "outputs": [
    {
     "name": "stdin",
     "output_type": "stream",
     "text": [
      "Enter an integer 4\n",
      "Enter an integer 6\n",
      "Enter an integer 1\n"
     ]
    },
    {
     "name": "stdout",
     "output_type": "stream",
     "text": [
      "Integer list: [4, 6]\n"
     ]
    }
   ],
   "source": [
    "numbers = []\n",
    "while True:\n",
    "    try :\n",
    "        num = int(input(\"Enter an integer\"))\n",
    "        if num == 1:\n",
    "            break\n",
    "        numbers.append(num)\n",
    "    except ValueError:\n",
    "        print(\"Invalid input\")\n",
    "\n",
    "print(\"Integer list:\",numbers)"
   ]
  },
  {
   "cell_type": "code",
   "execution_count": null,
   "id": "c3719db2-18b0-49d1-b50f-f094f8265cf1",
   "metadata": {},
   "outputs": [],
   "source": []
  }
 ],
 "metadata": {
  "kernelspec": {
   "display_name": "Python 3 (ipykernel)",
   "language": "python",
   "name": "python3"
  },
  "language_info": {
   "codemirror_mode": {
    "name": "ipython",
    "version": 3
   },
   "file_extension": ".py",
   "mimetype": "text/x-python",
   "name": "python",
   "nbconvert_exporter": "python",
   "pygments_lexer": "ipython3",
   "version": "3.12.4"
  }
 },
 "nbformat": 4,
 "nbformat_minor": 5
}
