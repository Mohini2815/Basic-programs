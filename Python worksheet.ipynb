{
 "cells": [
  {
   "cell_type": "markdown",
   "id": "a646baa8-2e72-4ddc-8384-60d19fc26fca",
   "metadata": {},
   "source": [
    "# Python worksheet"
   ]
  },
  {
   "cell_type": "markdown",
   "id": "af39e1b9-f2d4-4d10-b8f3-3b12a8efabfc",
   "metadata": {},
   "source": [
    "**Section A: Functions (User-defined & Built-in)**\n"
   ]
  },
  {
   "cell_type": "markdown",
   "id": "761311f9-d395-4272-9afd-465d764035c6",
   "metadata": {},
   "source": [
    "1. Define a function track_inventory(products) that takes a dictionary with product names as keys\n",
    "and their stock as values. Return a list of products that need restocking (stock < 10)."
   ]
  },
  {
   "cell_type": "code",
   "execution_count": 6,
   "id": "4746ba2e-bf6d-45f9-b977-6063de401460",
   "metadata": {},
   "outputs": [
    {
     "name": "stdout",
     "output_type": "stream",
     "text": [
      "['tv']\n"
     ]
    }
   ],
   "source": [
    "def track_inventory(products):\n",
    "    return[product for product, stock in products.items() if stock < 10]\n",
    "products = {\n",
    "    \"laptop\":10, \"mobile\":15, \"tv\":5\n",
    "}\n",
    "print(track_inventory(products))"
   ]
  },
  {
   "cell_type": "markdown",
   "id": "07578995-4f98-4901-b58d-b0045cf56e31",
   "metadata": {},
   "source": [
    "2. Write a function unique_digit_sum(n) that returns the sum of all unique digits in the number n.\n",
    "Example: n = 122334 -> sum = 1+2+3+4 = 10"
   ]
  },
  {
   "cell_type": "code",
   "execution_count": 9,
   "id": "60541603-6507-45ea-b9c3-bd2b59acf9b8",
   "metadata": {},
   "outputs": [
    {
     "name": "stdout",
     "output_type": "stream",
     "text": [
      "10\n"
     ]
    }
   ],
   "source": [
    "def unique_digit_sum(n):\n",
    "    return sum(set(int(digit) for digit in str(n)))\n",
    "\n",
    "n = 122334\n",
    "print(unique_digit_sum(n))"
   ]
  },
  {
   "cell_type": "markdown",
   "id": "f8d7db1e-c529-455c-b21d-51417a9fae9f",
   "metadata": {},
   "source": [
    "3. Create a function flatten(nested_list) that takes a list of lists and returns a flat list. Do not use\n",
    "itertools.chain."
   ]
  },
  {
   "cell_type": "code",
   "execution_count": 12,
   "id": "69714865-e205-43ff-bdd3-3ea05d7f4aca",
   "metadata": {},
   "outputs": [
    {
     "name": "stdout",
     "output_type": "stream",
     "text": [
      "[1, 2, 3, 4, 5, 6]\n"
     ]
    }
   ],
   "source": [
    "def flatten(nested_list):\n",
    "    return [item for sublist in nested_list for item in sublist]\n",
    "\n",
    "nested_list = [[1,2,3],[4,5,6]]\n",
    "print(flatten(nested_list))"
   ]
  },
  {
   "cell_type": "markdown",
   "id": "513aa107-6350-47e8-b918-ffbb8d3eb71c",
   "metadata": {},
   "source": [
    "4. Define a function swap_case_words(s) that swaps the case of every character in every word in a\n",
    "sentence and returns a list of transformed words."
   ]
  },
  {
   "cell_type": "code",
   "execution_count": 17,
   "id": "bd592f27-ad8a-496e-b74a-709431f2ab9d",
   "metadata": {},
   "outputs": [
    {
     "name": "stdout",
     "output_type": "stream",
     "text": [
      "['mY', 'NAME', 'IS', 'MOHINI']\n"
     ]
    }
   ],
   "source": [
    "def swap_case_words(s):\n",
    "    return [word.swapcase() for word in s.split()]\n",
    "s = \"My name is mohini\"\n",
    "print(swap_case_words(s))"
   ]
  },
  {
   "cell_type": "markdown",
   "id": "0bae21be-7afb-4e60-bc8c-543f8d366631",
   "metadata": {},
   "source": [
    "5. Create a function remove_consecutive_duplicates(lst) that removes only consecutive duplicates\n",
    "from a list while keeping order."
   ]
  },
  {
   "cell_type": "code",
   "execution_count": 9,
   "id": "53534a39-2aa1-4d3b-824d-6edcdbabadda",
   "metadata": {},
   "outputs": [
    {
     "name": "stdout",
     "output_type": "stream",
     "text": [
      "[1, 22, 3, 1, 44, 32]\n"
     ]
    }
   ],
   "source": [
    "def remove_consecutive_duplicates(lst):\n",
    "    result = []\n",
    "    for item in lst:\n",
    "        if not result or item != result[-1]:\n",
    "            result.append(item)\n",
    "    return result\n",
    "\n",
    "lst = [1,22,22,3,1,44,32]\n",
    "print(remove_consecutive_duplicates(lst))"
   ]
  },
  {
   "cell_type": "markdown",
   "id": "00342daf-325a-4901-a9e6-e39bffa1ef6f",
   "metadata": {},
   "source": [
    "**Section B: map(), filter(), reduce(), and lambda**"
   ]
  },
  {
   "cell_type": "markdown",
   "id": "0b2e8652-a6e2-4765-bfa8-a1161636b097",
   "metadata": {},
   "source": [
    "6. Given a list of tuples with (name, score), write a lambda + map() expression to extract all scores\n",
    "and increase each by 5%"
   ]
  },
  {
   "cell_type": "code",
   "execution_count": 24,
   "id": "ff4ff347-25eb-43c7-9b51-86a755a7ffd7",
   "metadata": {},
   "outputs": [
    {
     "name": "stdout",
     "output_type": "stream",
     "text": [
      "[94.5, 70.35000000000001, 103.95]\n"
     ]
    }
   ],
   "source": [
    "l = [('mohini',90),('gauri',67),('bhargavi',99)]\n",
    "scores = list(map(lambda x : x[1] * 1.05,l))\n",
    "print(scores)"
   ]
  },
  {
   "cell_type": "markdown",
   "id": "fa4e40bc-b46e-4970-b62e-94e30691501f",
   "metadata": {},
   "source": [
    "7. Use filter() to extract words from a list that are palindromes and have length > 3"
   ]
  },
  {
   "cell_type": "code",
   "execution_count": 29,
   "id": "3da15cb0-056c-4445-8be5-114d62820970",
   "metadata": {},
   "outputs": [
    {
     "name": "stdout",
     "output_type": "stream",
     "text": [
      "['level']\n"
     ]
    }
   ],
   "source": [
    "words = ['mom','mango','level']\n",
    "palin = list(filter(lambda x : x == x[::-1] and len(x) > 3, words))\n",
    "print(palin)"
   ]
  },
  {
   "cell_type": "markdown",
   "id": "89ce7331-a03b-46aa-bd77-42ac2fedcc0c",
   "metadata": {},
   "source": [
    "8. Use reduce() to calculate the product of all odd numbers in a list.\n"
   ]
  },
  {
   "cell_type": "code",
   "execution_count": 32,
   "id": "6010af31-c248-4aaf-851b-7f9fde3c33d2",
   "metadata": {},
   "outputs": [
    {
     "name": "stdout",
     "output_type": "stream",
     "text": [
      "22011\n"
     ]
    }
   ],
   "source": [
    "from functools import reduce\n",
    "l = [23,54,11,87,1]\n",
    "product = reduce(lambda x,y : x * y ,filter(lambda x : x%2!=0,l),1)\n",
    "print(product)"
   ]
  },
  {
   "cell_type": "markdown",
   "id": "793af861-0054-4dad-82b0-dcc8a5ebdef0",
   "metadata": {},
   "source": [
    "9. Given a list of integers, use map() and lambda to replace each number with 'Even' or 'Odd'."
   ]
  },
  {
   "cell_type": "code",
   "execution_count": 35,
   "id": "e3725004-fbd2-469f-bbe6-4c44111e8113",
   "metadata": {},
   "outputs": [
    {
     "name": "stdout",
     "output_type": "stream",
     "text": [
      "['Even', 'Even', 'odd', 'Even', 'Even', 'odd']\n"
     ]
    }
   ],
   "source": [
    "l = [34,8,77,90,24,13]\n",
    "even_odd = list(map(lambda x : 'Even' if x%2 == 0 else 'odd',l))\n",
    "print(even_odd)"
   ]
  },
  {
   "cell_type": "markdown",
   "id": "a8bed247-9915-4032-85ba-95d1176b7212",
   "metadata": {},
   "source": [
    "10. Use map() and filter() together to return squares of all numbers that are both even and divisible\n",
    "by 3 from a given list."
   ]
  },
  {
   "cell_type": "code",
   "execution_count": 40,
   "id": "0bbb6027-8897-4778-8e1d-143fd615a850",
   "metadata": {},
   "outputs": [
    {
     "name": "stdout",
     "output_type": "stream",
     "text": [
      "[6084, 324]\n"
     ]
    }
   ],
   "source": [
    "l = [33,43,21,56,78,18]\n",
    "res = list(map(lambda x : x**2, filter(lambda x:x%2==0 and x%3 == 0,l)))\n",
    "print(res)"
   ]
  },
  {
   "cell_type": "markdown",
   "id": "99cf190c-14e5-4642-b418-222829fb859d",
   "metadata": {},
   "source": [
    "**Section C: List Methods**"
   ]
  },
  {
   "cell_type": "markdown",
   "id": "5c0ca101-8427-4ea2-81ca-8a60e68a5fa1",
   "metadata": {},
   "source": [
    "11. Write a program that takes a list of student names and performs the following:\n",
    " - Removes duplicates\n",
    " - Sorts by last character of each name\n",
    " - Reverses the list"
   ]
  },
  {
   "cell_type": "code",
   "execution_count": 17,
   "id": "115a72af-7aa3-4b4e-aa6a-1eda67c4c04f",
   "metadata": {},
   "outputs": [
    {
     "name": "stdout",
     "output_type": "stream",
     "text": [
      "['bhargavi', 'purva', 'mohini', 'gauri', 'swara']\n",
      "['purva', 'swara', 'bhargavi', 'mohini', 'gauri']\n",
      "['gauri', 'mohini', 'bhargavi', 'swara', 'purva']\n"
     ]
    }
   ],
   "source": [
    "stud_names = ['mohini','bhargavi','gauri','purva','swara','purva','swara']\n",
    "unique_names = list(set(stud_names))\n",
    "print(unique_names) # removed duplicates\n",
    "\n",
    "sorted_names = sorted(unique_names, key = lambda x:x[-1])\n",
    "print(sorted_names)\n",
    "\n",
    "print(sorted_names[::-1])"
   ]
  },
  {
   "cell_type": "markdown",
   "id": "3b1b71d2-22e0-4549-9b34-307093027626",
   "metadata": {},
   "source": [
    "12. Given a list of integers, write a program that removes all duplicates but preserves the last\n",
    "occurrence of each number"
   ]
  },
  {
   "cell_type": "code",
   "execution_count": 11,
   "id": "9f80b9d9-0216-4d97-bcfa-a61731ed3d76",
   "metadata": {},
   "outputs": [
    {
     "data": {
      "text/plain": [
       "[23, 43, 67, 100, 99, 78, 65]"
      ]
     },
     "execution_count": 11,
     "metadata": {},
     "output_type": "execute_result"
    }
   ],
   "source": [
    "n = [23,65,78,99,100,67,43,23]\n",
    "s = set()\n",
    "res=[] # list to store removed duplicates\n",
    "\n",
    "for num in reversed(n):\n",
    "    if num not in s:\n",
    "        res.append(num)\n",
    "        s.add(num)\n",
    "res"
   ]
  },
  {
   "cell_type": "markdown",
   "id": "b57cce9f-dffb-49a1-962a-f5d53957ef36",
   "metadata": {},
   "source": [
    "13. Take a list of temperatures in Celsius and convert them to Fahrenheit using list comprehension\n",
    "+ round() + map()."
   ]
  },
  {
   "cell_type": "code",
   "execution_count": 7,
   "id": "34ce3dcf-bae1-42ad-86f0-294dec6ad498",
   "metadata": {},
   "outputs": [
    {
     "name": "stdout",
     "output_type": "stream",
     "text": [
      "[93.2, 91.4, 89.6, 113.0, 104.0]\n",
      "[50.0, 91.4, 89.6, 113.0, 104.0]\n"
     ]
    }
   ],
   "source": [
    "cel_temp = [34,33,32,45,40]\n",
    "fah_temp = [round((temp * 9/5)+32,2) for temp in cel_temp]\n",
    "print(fah_temp)\n",
    "\n",
    "cel_temp = [10,33,32,45,40]\n",
    "fah_temp = list(map(lambda x : round((x*9/5)+32,2),cel_temp))\n",
    "print(fah_temp)"
   ]
  },
  {
   "cell_type": "markdown",
   "id": "7d3f7957-5be7-4eb1-b416-f47cfc087057",
   "metadata": {},
   "source": [
    "14. Use slicing and indexing to reverse every second word in a sentence and store in a new list."
   ]
  },
  {
   "cell_type": "code",
   "execution_count": 15,
   "id": "79a1526d-787f-48e2-80c5-62d7f5d470dd",
   "metadata": {},
   "outputs": [
    {
     "name": "stdout",
     "output_type": "stream",
     "text": [
      "['my', 'efil', 'is', 'ssuf']\n"
     ]
    }
   ],
   "source": [
    "sent = 'my life is fuss'\n",
    "words = sent.split()\n",
    "res = [word if i%2 == 0 else word[::-1] for i, word in enumerate(words)]\n",
    "print(res)"
   ]
  },
  {
   "cell_type": "markdown",
   "id": "9b5621d4-6fba-4c5c-9687-862c7320bda9",
   "metadata": {},
   "source": [
    "15. Create a menu-driven program with options:\n",
    " - Add element to list\n",
    " - Remove by value\n",
    " - Insert at specific position\n",
    " - Display reversed list"
   ]
  },
  {
   "cell_type": "code",
   "execution_count": 1,
   "id": "e9e31d13-7c38-4cb1-a915-ba677c911e95",
   "metadata": {},
   "outputs": [
    {
     "name": "stdout",
     "output_type": "stream",
     "text": [
      "1.Add element\n",
      "2. remove by value\n",
      "3.insert at specific position\n",
      "4.display reversed list\n",
      "5.exit\n"
     ]
    },
    {
     "name": "stdin",
     "output_type": "stream",
     "text": [
      "enter your choice =  1\n",
      "enter element to add =  2\n"
     ]
    },
    {
     "name": "stdout",
     "output_type": "stream",
     "text": [
      "1.Add element\n",
      "2. remove by value\n",
      "3.insert at specific position\n",
      "4.display reversed list\n",
      "5.exit\n"
     ]
    },
    {
     "name": "stdin",
     "output_type": "stream",
     "text": [
      "enter your choice =  1\n",
      "enter element to add =  3\n"
     ]
    },
    {
     "name": "stdout",
     "output_type": "stream",
     "text": [
      "1.Add element\n",
      "2. remove by value\n",
      "3.insert at specific position\n",
      "4.display reversed list\n",
      "5.exit\n"
     ]
    },
    {
     "name": "stdin",
     "output_type": "stream",
     "text": [
      "enter your choice =  1\n",
      "enter element to add =  4\n"
     ]
    },
    {
     "name": "stdout",
     "output_type": "stream",
     "text": [
      "1.Add element\n",
      "2. remove by value\n",
      "3.insert at specific position\n",
      "4.display reversed list\n",
      "5.exit\n"
     ]
    },
    {
     "name": "stdin",
     "output_type": "stream",
     "text": [
      "enter your choice =  1\n",
      "enter element to add =  23\n"
     ]
    },
    {
     "name": "stdout",
     "output_type": "stream",
     "text": [
      "1.Add element\n",
      "2. remove by value\n",
      "3.insert at specific position\n",
      "4.display reversed list\n",
      "5.exit\n"
     ]
    },
    {
     "name": "stdin",
     "output_type": "stream",
     "text": [
      "enter your choice =  1\n",
      "enter element to add =  45\n"
     ]
    },
    {
     "name": "stdout",
     "output_type": "stream",
     "text": [
      "1.Add element\n",
      "2. remove by value\n",
      "3.insert at specific position\n",
      "4.display reversed list\n",
      "5.exit\n"
     ]
    },
    {
     "name": "stdin",
     "output_type": "stream",
     "text": [
      "enter your choice =  2\n",
      "enter value to remove: 45\n"
     ]
    },
    {
     "name": "stdout",
     "output_type": "stream",
     "text": [
      "1.Add element\n",
      "2. remove by value\n",
      "3.insert at specific position\n",
      "4.display reversed list\n",
      "5.exit\n"
     ]
    },
    {
     "name": "stdin",
     "output_type": "stream",
     "text": [
      "enter your choice =  3\n",
      "enter the position where you want to insert an element =  1\n",
      "enter element =  43\n"
     ]
    },
    {
     "ename": "TypeError",
     "evalue": "list.append() takes exactly one argument (2 given)",
     "output_type": "error",
     "traceback": [
      "\u001b[1;31m---------------------------------------------------------------------------\u001b[0m",
      "\u001b[1;31mTypeError\u001b[0m                                 Traceback (most recent call last)",
      "Cell \u001b[1;32mIn[1], line 26\u001b[0m\n\u001b[0;32m     24\u001b[0m \u001b[38;5;28;01melif\u001b[39;00m choice \u001b[38;5;241m==\u001b[39m \u001b[38;5;124m'\u001b[39m\u001b[38;5;124m3\u001b[39m\u001b[38;5;124m'\u001b[39m:\n\u001b[0;32m     25\u001b[0m     pos \u001b[38;5;241m=\u001b[39m \u001b[38;5;28mint\u001b[39m(\u001b[38;5;28minput\u001b[39m(\u001b[38;5;124m'\u001b[39m\u001b[38;5;124menter the position where you want to insert an element = \u001b[39m\u001b[38;5;124m'\u001b[39m))\n\u001b[1;32m---> 26\u001b[0m     l\u001b[38;5;241m.\u001b[39mappend(pos,\u001b[38;5;28minput\u001b[39m(\u001b[38;5;124m'\u001b[39m\u001b[38;5;124menter element = \u001b[39m\u001b[38;5;124m'\u001b[39m))\n\u001b[0;32m     27\u001b[0m \u001b[38;5;66;03m# display reversed list\u001b[39;00m\n\u001b[0;32m     28\u001b[0m \u001b[38;5;28;01melif\u001b[39;00m choice \u001b[38;5;241m==\u001b[39m \u001b[38;5;124m'\u001b[39m\u001b[38;5;124m4\u001b[39m\u001b[38;5;124m'\u001b[39m:\n",
      "\u001b[1;31mTypeError\u001b[0m: list.append() takes exactly one argument (2 given)"
     ]
    }
   ],
   "source": [
    "# initialized empty list\n",
    "l = []\n",
    "\n",
    "while True:\n",
    "    # display menu\n",
    "    print('1.Add element')\n",
    "    print('2. remove by value')\n",
    "    print('3.insert at specific position')\n",
    "    print('4.display reversed list')\n",
    "    print('5.exit')\n",
    "\n",
    "    choice = input('enter your choice = ')\n",
    "\n",
    "    # add element to the list\n",
    "    if choice == '1':\n",
    "        l.append(input('enter element to add = '))\n",
    "\n",
    "\n",
    "    # remove by value\n",
    "    elif choice == '2':\n",
    "        l.remove(input('enter value to remove:'))\n",
    "\n",
    "    # insert element at specific position\n",
    "    elif choice == '3':\n",
    "        pos = int(input('enter the position where you want to insert an element = '))\n",
    "        l.append(pos,input('enter element = '))\n",
    "    # display reversed list\n",
    "    elif choice == '4':\n",
    "        print(l[::-1])\n",
    "    elif choice == '5':\n",
    "        break\n",
    "    else:\n",
    "        print('invalid choice')"
   ]
  },
  {
   "cell_type": "markdown",
   "id": "20ecac90-e3da-4bca-a902-d9b064a06f52",
   "metadata": {},
   "source": [
    "**Section D: Set Methods & Programming**"
   ]
  },
  {
   "cell_type": "markdown",
   "id": "509bdc66-ea30-4a1a-ad74-69fcc8724e8c",
   "metadata": {},
   "source": [
    "16. Create two sets: attendees_day1, attendees_day2. Find:\n",
    " - Who attended both days\n",
    " - Who attended only one day\n",
    " - Who missed both days from a given master list"
   ]
  },
  {
   "cell_type": "code",
   "execution_count": 37,
   "id": "c22167b4-f29d-4e45-87c1-0051efde1737",
   "metadata": {},
   "outputs": [
    {
     "name": "stdout",
     "output_type": "stream",
     "text": [
      "master list =  ['shaurya', 'nehal', 'purva', 'mohini', 'tanmay', 'yash', 'sarika', 'minakshi']\n",
      "Students who attended both days =  {'tanmay', 'yash', 'shaurya'}\n",
      "students who attended only day 1 batch =  {'mohini', 'nehal', 'purva'}\n",
      "students who attended only day 2 batch =  {'sarika'}\n",
      "students who missed both days =  {'minakshi'}\n"
     ]
    }
   ],
   "source": [
    "master_list = ['shaurya','nehal','purva','mohini','tanmay','yash','sarika','minakshi']\n",
    "print('master list = ',master_list)\n",
    "attendees_day1 = {'shaurya','nehal','purva','mohini','tanmay','yash'}\n",
    "attendees_day2 = {'shaurya','tanmay','yash','sarika'}\n",
    "\n",
    "# who attended both\n",
    "\n",
    "attend_both = attendees_day1.intersection(attendees_day2)\n",
    "print('Students who attended both days = ',attend_both)\n",
    "\n",
    "# who attended only one day\n",
    "attended_only_day_1 = attendees_day1.difference(attendees_day2)\n",
    "attended_only_day_2 = attendees_day2.difference(attendees_day1)\n",
    "\n",
    "print('students who attended only day 1 batch = ',attended_only_day_1)\n",
    "print('students who attended only day 2 batch = ',attended_only_day_2)\n",
    "\n",
    "\n",
    "# who missed both days\n",
    "missed_both_days = set(master_list).difference(attendees_day1 | attendees_day2)\n",
    "print('students who missed both days = ',missed_both_days)"
   ]
  },
  {
   "cell_type": "markdown",
   "id": "959a7b36-f99b-454e-acf4-3d70dbd0b5a6",
   "metadata": {},
   "source": [
    "17. Write a program that takes a list of strings and returns the number of unique vowels used across\n",
    "all words (use set union)"
   ]
  },
  {
   "cell_type": "code",
   "execution_count": 1,
   "id": "960b1875-1fa2-47bc-99c3-0362ea04ab9f",
   "metadata": {},
   "outputs": [
    {
     "name": "stdout",
     "output_type": "stream",
     "text": [
      "5\n"
     ]
    }
   ],
   "source": [
    "def count_unique_vowels(words):\n",
    "    vowels = set()\n",
    "    for word in words:\n",
    "        vowels |= set(char for char in word.lower() if char in 'aeiou')\n",
    "    return len(vowels)\n",
    "\n",
    "words = ['bird','mohini','earth','jupyter']\n",
    "print(count_unique_vowels(words))"
   ]
  },
  {
   "cell_type": "markdown",
   "id": "7b81895b-e998-4d52-bf06-f38e03725f63",
   "metadata": {},
   "source": [
    "18. Given two lists, find all common elements using sets and print them in sorted descending order.\n"
   ]
  },
  {
   "cell_type": "code",
   "execution_count": 42,
   "id": "9c97680b-916e-471e-b695-351c96097216",
   "metadata": {},
   "outputs": [
    {
     "name": "stdout",
     "output_type": "stream",
     "text": [
      "common elements in descending order =  [98, 54, 32]\n"
     ]
    }
   ],
   "source": [
    "l1 = [54,32,67,21,98,70]\n",
    "l2 = [56,54,63,32,98,6]\n",
    "# common elements\n",
    "comm_elements = set(l1) & set(l2)\n",
    "print('common elements in descending order = ',sorted(comm_elements,reverse = True))"
   ]
  },
  {
   "cell_type": "markdown",
   "id": "6e4a048d-ee5a-4b3c-8303-dc71e153af13",
   "metadata": {},
   "source": [
    "19. Take a sentence input and return a set of all unique words that appear more than once.\n"
   ]
  },
  {
   "cell_type": "code",
   "execution_count": 45,
   "id": "15156373-8069-4703-88c2-40eaeafcb8b0",
   "metadata": {},
   "outputs": [
    {
     "name": "stdin",
     "output_type": "stream",
     "text": [
      "enter a sentence with repeated words =  life is very dangerous in life guessing that what will going to happen in future is very scary\n"
     ]
    },
    {
     "name": "stdout",
     "output_type": "stream",
     "text": [
      "{'is', 'very', 'life', 'in'}\n"
     ]
    }
   ],
   "source": [
    "sent = input('enter a sentence with repeated words = ')\n",
    "words = sent.lower().split()\n",
    "duplicates = set(word for word in set(words) if words.count(word)>1)\n",
    "print(duplicates)"
   ]
  },
  {
   "cell_type": "markdown",
   "id": "de66ca75-a706-4402-8d66-491e4c5630a7",
   "metadata": {},
   "source": [
    "20. Write a program to simulate a basic login system. Keep a set of registered usernames and\n",
    "ensure a new username is only added if it's not already taken (case-insensitive)."
   ]
  },
  {
   "cell_type": "code",
   "execution_count": 52,
   "id": "de46073d-245c-4a9b-80c8-ff4119991a74",
   "metadata": {},
   "outputs": [
    {
     "name": "stdout",
     "output_type": "stream",
     "text": [
      "1.Register\n",
      "2.login\n",
      "3.exit\n"
     ]
    },
    {
     "name": "stdin",
     "output_type": "stream",
     "text": [
      "enter your choice =  1\n",
      "enter a username =  mohini\n"
     ]
    },
    {
     "name": "stdout",
     "output_type": "stream",
     "text": [
      "registered\n",
      "1.Register\n",
      "2.login\n",
      "3.exit\n"
     ]
    },
    {
     "name": "stdin",
     "output_type": "stream",
     "text": [
      "enter your choice =  1\n",
      "enter a username =  gauri\n"
     ]
    },
    {
     "name": "stdout",
     "output_type": "stream",
     "text": [
      "registered\n",
      "1.Register\n",
      "2.login\n",
      "3.exit\n"
     ]
    },
    {
     "name": "stdin",
     "output_type": "stream",
     "text": [
      "enter your choice =  2\n",
      "enter your username =  mohini\n"
     ]
    },
    {
     "name": "stdout",
     "output_type": "stream",
     "text": [
      "logic successful\n",
      "1.Register\n",
      "2.login\n",
      "3.exit\n"
     ]
    },
    {
     "name": "stdin",
     "output_type": "stream",
     "text": [
      "enter your choice =  2\n",
      "enter your username =  bhargavi\n"
     ]
    },
    {
     "name": "stdout",
     "output_type": "stream",
     "text": [
      "username not found\n",
      "1.Register\n",
      "2.login\n",
      "3.exit\n"
     ]
    },
    {
     "name": "stdin",
     "output_type": "stream",
     "text": [
      "enter your choice =  3\n"
     ]
    }
   ],
   "source": [
    "users=set()\n",
    "while True:\n",
    "    print('1.Register')\n",
    "    print('2.login')\n",
    "    print('3.exit')\n",
    "    choice = input('enter your choice = ')\n",
    "\n",
    "    if choice == '1':\n",
    "        username = input('enter a username = ')\n",
    "        if username in users:\n",
    "            print('username already exists')\n",
    "        else:\n",
    "            users.add(username)\n",
    "            print('registered')\n",
    "    elif choice == '2':\n",
    "        username = input('enter your username = ')\n",
    "        if username in users:\n",
    "            print('logic successful')\n",
    "        else:\n",
    "            print('username not found')\n",
    "    elif choice == '3':\n",
    "        break\n",
    "    else:\n",
    "        print('invalid choice')"
   ]
  },
  {
   "cell_type": "markdown",
   "id": "b7e6e3fb-2a3e-44cc-8d0c-14320e8d8da4",
   "metadata": {},
   "source": [
    "**Section E: Tuple Methods & Operations**"
   ]
  },
  {
   "cell_type": "markdown",
   "id": "3bf6023a-c478-4c91-9de4-8c02aeab4b38",
   "metadata": {},
   "source": [
    "21. Create a tuple of mixed values. Write a program to:\n",
    " - Count how many integers it contains\n",
    " - Create a new tuple with only string elements\n",
    " - Return the max length string"
   ]
  },
  {
   "cell_type": "code",
   "execution_count": 61,
   "id": "92178451-8256-4f7b-ad14-6b94020a6ee6",
   "metadata": {},
   "outputs": [
    {
     "name": "stdout",
     "output_type": "stream",
     "text": [
      "integer count =  2\n",
      "string tuple =  ('atharva', 'tanny')\n",
      "max length string =  atharva\n"
     ]
    }
   ],
   "source": [
    "mixed_values = (1,28,'atharva',9.0,'tanny')\n",
    "\n",
    "# count integers\n",
    "count = sum(isinstance(x,int) for x in mixed_values)\n",
    "print('integer count = ',count)\n",
    "\n",
    "# create new string elements tuple\n",
    "string = tuple(x for x in mixed_values if isinstance(x,str))\n",
    "print('string tuple = ',string)\n",
    "\n",
    "# return max length string\n",
    "max_string = max(string,key=len) if string else None\n",
    "print('max length string = ',max_string)"
   ]
  },
  {
   "cell_type": "markdown",
   "id": "961930bc-223d-4d3c-b05a-7f41f41fffca",
   "metadata": {},
   "source": [
    "22. Given a tuple of (student_name, marks), write a function that returns a tuple of (name, grade)\n",
    "based on:\n",
    " - 90 and above = A, 80-89 = B, 70-79 = C, below 70 = F"
   ]
  },
  {
   "cell_type": "code",
   "execution_count": 10,
   "id": "9ad7cfc9-e162-463b-929a-0513dfed89dd",
   "metadata": {},
   "outputs": [
    {
     "name": "stdout",
     "output_type": "stream",
     "text": [
      "('mohini', 'A')\n"
     ]
    }
   ],
   "source": [
    "def grade_student(student):\n",
    "    name, marks =student\n",
    "    grade = 'A' if marks>=90 else 'B' if marks >= 80 else 'C' if marks >=70 else 'F'\n",
    "    return(name,grade)\n",
    "student = ('mohini',90)\n",
    "print(grade_student(student))"
   ]
  },
  {
   "cell_type": "markdown",
   "id": "498af88a-5fba-465d-9379-9810dca4a4b3",
   "metadata": {},
   "source": [
    "23. Create a tuple of words and return a new tuple containing only those that start and end with the\n",
    "same letter"
   ]
  },
  {
   "cell_type": "code",
   "execution_count": 13,
   "id": "ed007b41-2797-4b88-a9eb-40ac1d55a7f5",
   "metadata": {},
   "outputs": [
    {
     "name": "stdout",
     "output_type": "stream",
     "text": [
      "('test', 'lol')\n"
     ]
    }
   ],
   "source": [
    "words = ('angry','test','lol')\n",
    "res= tuple(word for word in words if word[0].lower() == word[-1].lower())\n",
    "print(res)"
   ]
  },
  {
   "cell_type": "markdown",
   "id": "051929de-e570-4dc5-ac09-41f4c33a8214",
   "metadata": {},
   "source": [
    "24. Take a tuple of numbers and find all pairs whose sum is even. Return these as a list of tuples.\n"
   ]
  },
  {
   "cell_type": "code",
   "execution_count": 20,
   "id": "217b6531-75ab-47ee-8a30-065aeb45d307",
   "metadata": {},
   "outputs": [
    {
     "name": "stdout",
     "output_type": "stream",
     "text": [
      "{(2, 4), (6, 2), (1, 5), (3, 1), (4, 6), (5, 1), (4, 2), (6, 4), (2, 6), (5, 3), (1, 3), (3, 5)}\n"
     ]
    }
   ],
   "source": [
    "numbers = (1,2,3,4,5,6)\n",
    "pair = [(x,y) for x in numbers for y in numbers if x != y and(x+y) % 2 == 0]\n",
    "print(set(pair))"
   ]
  },
  {
   "cell_type": "markdown",
   "id": "3a54c29c-03ed-4e01-a105-f59bebee6617",
   "metadata": {},
   "source": [
    "25. Given a tuple with duplicate elements, write a program to:\n",
    " - Return a dictionary with element:count\n",
    " - Return a tuple with only the elements that occurred more than once"
   ]
  },
  {
   "cell_type": "code",
   "execution_count": 25,
   "id": "6fdc49f9-483b-4acd-8111-31b4c164a065",
   "metadata": {},
   "outputs": [
    {
     "name": "stdout",
     "output_type": "stream",
     "text": [
      "{1: 1, 2: 1, 3: 2, 4: 2, 5: 1, 6: 1, 7: 1}\n",
      "(3, 4)\n"
     ]
    }
   ],
   "source": [
    "t = (1,2,4,3,5,4,6,7,3)\n",
    "\n",
    "# element count\n",
    "count = {x:t.count(x) for x in set(t)}\n",
    "print(count)\n",
    "\n",
    "# tuple with duplicate elements\n",
    "dup = tuple(x for x in set(t) if t.count(x)>1)\n",
    "print(dup)"
   ]
  },
  {
   "cell_type": "markdown",
   "id": "72080187-2c5b-43a3-aba7-36b50da74712",
   "metadata": {},
   "source": [
    "1. Zig-Zag merge two strings\n",
    "\n",
    "- merge two strings by picking alternate characters from each.\n",
    "- eg. input:abc,12345 output - a1b2c345"
   ]
  },
  {
   "cell_type": "markdown",
   "id": "f7f9e8a9-1d40-43ed-aeb4-f310c719b0f5",
   "metadata": {},
   "source": [
    "2. Rearrange list by frequency\n",
    "\n",
    "- reaarange the elements in a list so that elements with highr frequency come first"
   ]
  },
  {
   "cell_type": "code",
   "execution_count": 24,
   "id": "c490ac90-4c4f-4677-a2da-34b5fe7dcb93",
   "metadata": {},
   "outputs": [
    {
     "name": "stdout",
     "output_type": "stream",
     "text": [
      "[2, 2, 2, 3, 3, 1]\n"
     ]
    }
   ],
   "source": [
    "from collections import Counter\n",
    "l = [3,3,2,1,2,2]\n",
    "# f = frequency\n",
    "f = Counter(l)\n",
    "# sort the list based on frequency\n",
    "print(sorted(l,key = lambda x : (-f[x],x)))\n",
    "# -f sorts by frequency"
   ]
  },
  {
   "cell_type": "markdown",
   "id": "4a9499db-0243-4e1f-a862-f86d3d867f9a",
   "metadata": {},
   "source": [
    "3. count the number of sets bits in binary\n",
    "\n",
    "- write a program that counts the number of 1s in the binary representation of a number."
   ]
  },
  {
   "cell_type": "code",
   "execution_count": 22,
   "id": "32f21353-0a29-4b15-af6c-45f5954a0668",
   "metadata": {},
   "outputs": [
    {
     "name": "stdout",
     "output_type": "stream",
     "text": [
      "4\n"
     ]
    }
   ],
   "source": [
    "n = 15\n",
    "count = bin(n).count('1')\n",
    "\n",
    "print(count)"
   ]
  },
  {
   "cell_type": "markdown",
   "id": "ec47e7f4-602b-4808-8b8b-970e05d369bc",
   "metadata": {},
   "source": [
    "4. replace every element with the product of all other elements\n",
    "\n",
    "- given a list, return a new list where each elements is the product of all elements except itself"
   ]
  },
  {
   "cell_type": "code",
   "execution_count": null,
   "id": "ddc2c16a-7ef2-4ad0-b655-1bd410946d47",
   "metadata": {},
   "outputs": [],
   "source": [
    "l =[1,2,3,4]\n"
   ]
  },
  {
   "cell_type": "markdown",
   "id": "0541f623-a0f1-469e-a54d-d1fd2cdf6b46",
   "metadata": {},
   "source": [
    "5. Split and Add Until Single Digit\n",
    "\n",
    "- Split digits and add repeatedly until the result is a single digit."
   ]
  },
  {
   "cell_type": "code",
   "execution_count": 42,
   "id": "c7012aa0-7a0f-4b8a-9ad5-ea194b7c8ee6",
   "metadata": {},
   "outputs": [
    {
     "name": "stdout",
     "output_type": "stream",
     "text": [
      "29\n"
     ]
    }
   ],
   "source": [
    "n = 9875\n",
    "while n > 9:\n",
    "    "
   ]
  },
  {
   "cell_type": "markdown",
   "id": "859dca86-727e-4952-a478-32835e3a4573",
   "metadata": {},
   "source": [
    "6.Check If a List Is Palindromic\n",
    "\n",
    "- Write a function to check if a list of elements is the same forward and backward."
   ]
  },
  {
   "cell_type": "code",
   "execution_count": 46,
   "id": "dad33ad5-b117-4dcc-a1af-bda2580df5b8",
   "metadata": {},
   "outputs": [
    {
     "name": "stdout",
     "output_type": "stream",
     "text": [
      "True\n"
     ]
    }
   ],
   "source": [
    "def is_palindromic(l):\n",
    "    return l == l[::-1]\n",
    "\n",
    "l = [1, 2, 3, 2, 1]\n",
    "print(is_palindromic(l))"
   ]
  },
  {
   "cell_type": "markdown",
   "id": "3c1bf81f-2a9e-463e-a73f-ec1a1bf70698",
   "metadata": {},
   "source": [
    "7.Sort a List of Strings Based on Length and Alphabetically\n",
    "\n",
    "- Given a list of strings, sort them first by length and then alphabetically."
   ]
  },
  {
   "cell_type": "code",
   "execution_count": 50,
   "id": "57773eed-9096-4814-926c-562c6e0d40a7",
   "metadata": {},
   "outputs": [
    {
     "name": "stdout",
     "output_type": "stream",
     "text": [
      "['at', 'bat', 'ball', 'apple']\n"
     ]
    }
   ],
   "source": [
    "strings = [\"apple\", \"bat\", \"ball\", \"at\"]\n",
    "sorted_strings = sorted(strings, key = lambda x:(len(x),x))\n",
    "print(sorted_strings)"
   ]
  },
  {
   "cell_type": "markdown",
   "id": "32ff66a3-b46d-4bb8-953a-f07c034dbe81",
   "metadata": {},
   "source": [
    "8.Generate All Possible Subsets of a List\n",
    "\n",
    "- Write a program to generate the power set (all subsets) of a list."
   ]
  },
  {
   "cell_type": "code",
   "execution_count": 52,
   "id": "305eaaef-0b4c-4258-b9cc-e3d0ebdcd1fe",
   "metadata": {},
   "outputs": [
    {
     "name": "stdout",
     "output_type": "stream",
     "text": [
      "[[], [1], [2], [1, 2]]\n"
     ]
    }
   ],
   "source": [
    "l = [1, 2]\n",
    "subsets = [[]]\n",
    "for e in l:\n",
    "    subsets += [subset+[e] for subset in subsets]\n",
    "print(subsets)"
   ]
  },
  {
   "cell_type": "markdown",
   "id": "59531584-e774-4389-973a-6cef2ba643c2",
   "metadata": {},
   "source": [
    "9.Arrange Digits to Form the Largest Number\n",
    "\n",
    "- Given a number, rearrange its digits to form the largest possible number."
   ]
  },
  {
   "cell_type": "code",
   "execution_count": 54,
   "id": "5a5cd4e3-487c-48e6-b067-efc8a10600c4",
   "metadata": {},
   "outputs": [
    {
     "name": "stdout",
     "output_type": "stream",
     "text": [
      "8321\n"
     ]
    }
   ],
   "source": [
    "n=3821\n",
    "d = list(str(n))\n",
    "d.sort(reverse = True)\n",
    "largest_possible_num = int(''.join(d))\n",
    "print(largest_possible_num)"
   ]
  },
  {
   "cell_type": "markdown",
   "id": "f3a175c2-1542-4e4b-b1f1-7bbb5c36f0b5",
   "metadata": {},
   "source": [
    "10.Convert Roman Numerals to Integer\n",
    "\n",
    "- Write a program to convert a Roman numeral to an integer"
   ]
  },
  {
   "cell_type": "code",
   "execution_count": null,
   "id": "bd7d24e3-0dc9-4fd3-bea0-8770c87ce1d4",
   "metadata": {},
   "outputs": [],
   "source": []
  },
  {
   "cell_type": "code",
   "execution_count": null,
   "id": "e36b2a2d-bca8-4992-b92e-5e2ede929c02",
   "metadata": {},
   "outputs": [],
   "source": []
  }
 ],
 "metadata": {
  "kernelspec": {
   "display_name": "Python 3 (ipykernel)",
   "language": "python",
   "name": "python3"
  },
  "language_info": {
   "codemirror_mode": {
    "name": "ipython",
    "version": 3
   },
   "file_extension": ".py",
   "mimetype": "text/x-python",
   "name": "python",
   "nbconvert_exporter": "python",
   "pygments_lexer": "ipython3",
   "version": "3.12.4"
  }
 },
 "nbformat": 4,
 "nbformat_minor": 5
}
