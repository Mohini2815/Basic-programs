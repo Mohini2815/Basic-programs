{
 "cells": [
  {
   "cell_type": "markdown",
   "id": "a0fbdc49-2f0c-43cd-8282-70c90ed7c5b8",
   "metadata": {},
   "source": [
    "1. Write a recursive function to return the sum of first n natural numbers\n",
    "- ex: sum(5) = 5 + 4 + 3 + 2 + 1\n",
    "- Take the n (number) from user"
   ]
  },
  {
   "cell_type": "code",
   "execution_count": 25,
   "id": "a5ab8426-f7a6-4947-8cf7-16514d4ed830",
   "metadata": {},
   "outputs": [
    {
     "name": "stdin",
     "output_type": "stream",
     "text": [
      "enter a number =  10\n"
     ]
    },
    {
     "name": "stdout",
     "output_type": "stream",
     "text": [
      "55\n"
     ]
    }
   ],
   "source": [
    "def sum(n):\n",
    "    if n == 0:\n",
    "        return 0\n",
    "    else:\n",
    "        return n + sum(n-1)\n",
    "n = int(input('enter a number = '))\n",
    "print(sum(n))"
   ]
  },
  {
   "cell_type": "markdown",
   "id": "427914a2-3b13-4c02-899d-903544d0ebfa",
   "metadata": {},
   "source": [
    "2. Write a recursive function to calculate a ^ b without using exponent operator"
   ]
  },
  {
   "cell_type": "markdown",
   "id": "9f2f661a-d8db-418c-88b8-1c45e2bf3408",
   "metadata": {},
   "source": [
    "3. Write a recursive function to count number of digits in the number entered by the user:\n",
    "- ex: if user enterd = 1234 - The count of the digit is 4"
   ]
  },
  {
   "cell_type": "code",
   "execution_count": 31,
   "id": "4102296d-4d5f-4049-a01f-21573fa5af79",
   "metadata": {},
   "outputs": [
    {
     "name": "stdout",
     "output_type": "stream",
     "text": [
      "6\n"
     ]
    }
   ],
   "source": [
    "def count_digits(n):\n",
    "    if n < 10:\n",
    "        return 1\n",
    "    else:\n",
    "        return 1 + count_digits(n//10)\n",
    "print(count_digits(123456))"
   ]
  },
  {
   "cell_type": "markdown",
   "id": "655dff30-51af-480f-8210-343f3ffc3dd0",
   "metadata": {},
   "source": [
    "4. Write a function to reverse the number using recursion"
   ]
  },
  {
   "cell_type": "code",
   "execution_count": 35,
   "id": "3b9eba11-6783-4d92-bd94-172079408888",
   "metadata": {},
   "outputs": [
    {
     "name": "stdout",
     "output_type": "stream",
     "text": [
      "6182\n"
     ]
    }
   ],
   "source": [
    "def reverse_number(n,rev=0):\n",
    "    if n == 0:\n",
    "        return rev\n",
    "    else:\n",
    "        remainder = n % 10\n",
    "        rev = rev * 10 + remainder\n",
    "        return reverse_number(n//10,rev)\n",
    "print(reverse_number(2816))"
   ]
  },
  {
   "cell_type": "markdown",
   "id": "e04cfa3e-1f2e-4c80-9cd9-db0ec496ba7f",
   "metadata": {},
   "source": [
    "5. Write a recursive function to check whether a number is prime or not"
   ]
  },
  {
   "cell_type": "code",
   "execution_count": 37,
   "id": "8433c965-b40e-4011-aa16-849315881fd6",
   "metadata": {},
   "outputs": [
    {
     "name": "stdout",
     "output_type": "stream",
     "text": [
      "True\n"
     ]
    }
   ],
   "source": [
    "import math\n",
    "def is_prime(n,i=2):\n",
    "    if n <= 1:\n",
    "        return False\n",
    "    if i > math.sqrt(n):\n",
    "        return True\n",
    "    if n % i == 0:\n",
    "        return False\n",
    "    return is_prime(n,i+1)\n",
    "print(is_prime(11))"
   ]
  },
  {
   "cell_type": "markdown",
   "id": "a438336b-492a-4f1a-803b-0c074080cf5e",
   "metadata": {},
   "source": [
    "6. Implement a recursive function reverse_string(s) that returns the reversed string, but you cannot use slicing or built-in reversed()"
   ]
  },
  {
   "cell_type": "code",
   "execution_count": 39,
   "id": "25210a15-f888-41a6-b7b0-9c5e37cd466b",
   "metadata": {},
   "outputs": [
    {
     "name": "stdout",
     "output_type": "stream",
     "text": [
      "inihoM\n"
     ]
    }
   ],
   "source": [
    "def reverse_string(s,i = 0): # index = 0\n",
    "    # check string is empty or not\n",
    "    if i >= len(s):\n",
    "        return \"\"\n",
    "    return reverse_string(s,i+1)+s[i]\n",
    "print(reverse_string('Mohini'))"
   ]
  },
  {
   "cell_type": "markdown",
   "id": "72f48bc4-4620-457a-9a10-5d9d1470285a",
   "metadata": {},
   "source": [
    "7. Write a recursive function get_power_set(s) that returns all subsets (power set) of a set s."
   ]
  },
  {
   "cell_type": "code",
   "execution_count": 41,
   "id": "d4eb7354-e810-4b3b-b0d5-23706bb0ee74",
   "metadata": {},
   "outputs": [
    {
     "name": "stdout",
     "output_type": "stream",
     "text": [
      "[[], [3], [2], [2, 3], [1], [1, 3], [1, 2], [1, 2, 3]]\n"
     ]
    }
   ],
   "source": [
    "def get_power_set(s):\n",
    "    if not s:\n",
    "        return [[]]\n",
    "    e = s[0] # select first element\n",
    "    rest = s[1:] # rest of the set\n",
    "    power_set_without_e = get_power_set(rest)\n",
    "    power_set_with_e = [[e] + subset for subset in power_set_without_e]\n",
    "    return power_set_without_e + power_set_with_e\n",
    "s = [1,2,3]\n",
    "print(get_power_set(s))\n",
    "    "
   ]
  },
  {
   "cell_type": "markdown",
   "id": "055b9fea-9d80-46e7-a80f-949bc616982f",
   "metadata": {},
   "source": [
    "8. Write a recursive function sum_of_digits(n) that returns the sum of the digits of an integer"
   ]
  },
  {
   "cell_type": "code",
   "execution_count": 43,
   "id": "0890d362-55af-4a26-9658-86f9936b576e",
   "metadata": {},
   "outputs": [
    {
     "name": "stdout",
     "output_type": "stream",
     "text": [
      "15\n"
     ]
    }
   ],
   "source": [
    "def sum_digits(n):\n",
    "    if n < 10 and n >= 0:\n",
    "        return n\n",
    "    elif n < 0:\n",
    "        n = -n\n",
    "    else:\n",
    "        return n % 10 + sum_digits(n//10)\n",
    "print(sum_digits(12345))        "
   ]
  },
  {
   "cell_type": "markdown",
   "id": "acf064f8-76e4-4521-a4ed-befe545af8e3",
   "metadata": {},
   "source": [
    "\n",
    "9. Write a recursive function is_palindrome(s) that checks whether a string is a palindrome (case-insensitive, ignoring non-alphanumerics)"
   ]
  },
  {
   "cell_type": "code",
   "execution_count": 5,
   "id": "9eb771c0-7e93-4a63-b955-4c1c904ce7ac",
   "metadata": {},
   "outputs": [
    {
     "name": "stdout",
     "output_type": "stream",
     "text": [
      "True\n"
     ]
    }
   ],
   "source": [
    "def is_palindrome(s:str)->bool:\n",
    "    s = ''.join(char.lower() for char in s if char.isalnum())\n",
    "    if len(s)<2:\n",
    "        return True\n",
    "    if s[0] != s[-1]:\n",
    "        return False\n",
    "    return is_palindrome(s[1:-1])\n",
    "print(is_palindrome('A man, a plan, a canal:Panama'))\n",
    "    "
   ]
  },
  {
   "cell_type": "markdown",
   "id": "2def9426-3086-412d-8fa8-11de270e53de",
   "metadata": {},
   "source": [
    "10. Write a function to detect 13th Friday. The function can accept two parameters, and both will be numbers.\n",
    "- The first parameter will be the number indicating the month and  The second will be the year in four digits.\n",
    "- Your function should parse the parameters, and it must return True when the month contains a Friday with th 13th, else return False."
   ]
  },
  {
   "cell_type": "code",
   "execution_count": 10,
   "id": "d79a0eb2-689e-458d-8b90-2c7ebac86e6c",
   "metadata": {},
   "outputs": [
    {
     "name": "stdout",
     "output_type": "stream",
     "text": [
      "False\n"
     ]
    }
   ],
   "source": [
    "import datetime\n",
    "import calendar\n",
    "\n",
    "def has_friday_13(month:int,year:int)->bool:\n",
    "    date = datetime.date(year,month,13)\n",
    "    return date.weekday() == 4\n",
    "\n",
    "print(has_friday_13(5,2025))"
   ]
  },
  {
   "cell_type": "markdown",
   "id": "55d9e8cd-0879-412c-ae0f-26d6dfd91e3a",
   "metadata": {},
   "source": [
    "11. Write a function that takes two dates(day,month,year) and calculates the number of days between them without using datetime."
   ]
  },
  {
   "cell_type": "code",
   "execution_count": 17,
   "id": "c173670f-3455-4253-87e1-48a026194a7e",
   "metadata": {},
   "outputs": [
    {
     "name": "stdout",
     "output_type": "stream",
     "text": [
      "364\n"
     ]
    }
   ],
   "source": [
    "def is_leap_year(yr):\n",
    "    # a year is a leap year if it is divisible by 4, except for end-of-century years which must be divisible by 400\n",
    "    return yr % 4 == 0 and (yr % 100 != 0 or yr % 400 == 0)\n",
    "def days_in_month(month,year):\n",
    "    # february has 29 days in a leap year and 28 days otherwise\n",
    "    if month == 2:\n",
    "        return 29 if is_leap_year(year) else 28\n",
    "    # april. june,september and novwmber have 30 days.\n",
    "    elif month in [4,6,9,11]:\n",
    "        return 30\n",
    "    # all other months have 31 days.\n",
    "    else:\n",
    "        return 31\n",
    "def date_to_days(day,month,year):\n",
    "    # calculate the total number of days  from the year 1 to the given year\n",
    "    total_days = (year - 1)*365+(year-1) // 100 +(year-1)//400\n",
    "    # add the days for each month in the given year up to the given month\n",
    "    for m in range(1,month):\n",
    "        total_days += days_in_month(m,year)\n",
    "    # add the days in the given month\n",
    "    total_days += day\n",
    "    return total_days\n",
    "def days_between_dates(day1,month1,year1,day2,month2,year2):\n",
    "    # calculate the absolute difference in days between the two dates.\n",
    "    return abs(date_to_days(day1,month1,year1) - date_to_days(day2,month2,year2))\n",
    "\n",
    "print(days_between_dates(1,1,2023,31,12,2023))"
   ]
  },
  {
   "cell_type": "markdown",
   "id": "58f609fd-8937-4a18-a588-b6893efbce47",
   "metadata": {},
   "source": [
    "13. Given a list of numbers from 1 to n with one number missing. find it without using sort,sum or any libraries."
   ]
  },
  {
   "cell_type": "code",
   "execution_count": null,
   "id": "b240950f-59f4-47fd-825a-e9e2bbca86d7",
   "metadata": {},
   "outputs": [],
   "source": [
    "def finding_missing_number(nums):\n",
    "    n = len(nums)+1\n",
    "    xor_all = 0\n",
    "    xor_nums = 0\n",
    "    # calculate XOR of all numbers from 1 to n\n",
    "    for i in range(1, n+1):\n",
    "      "
   ]
  },
  {
   "cell_type": "markdown",
   "id": "ec6a35c3-edb0-4abd-a2dc-66bb785ca0e3",
   "metadata": {},
   "source": [
    "14. Given a number, keep summing its digits until you get a single-digit result"
   ]
  },
  {
   "cell_type": "code",
   "execution_count": null,
   "id": "7c65897f-2380-42e8-83d9-c34490a655d0",
   "metadata": {},
   "outputs": [],
   "source": []
  }
 ],
 "metadata": {
  "kernelspec": {
   "display_name": "Python 3 (ipykernel)",
   "language": "python",
   "name": "python3"
  },
  "language_info": {
   "codemirror_mode": {
    "name": "ipython",
    "version": 3
   },
   "file_extension": ".py",
   "mimetype": "text/x-python",
   "name": "python",
   "nbconvert_exporter": "python",
   "pygments_lexer": "ipython3",
   "version": "3.12.4"
  }
 },
 "nbformat": 4,
 "nbformat_minor": 5
}
