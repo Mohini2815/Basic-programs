{
 "cells": [
  {
   "cell_type": "markdown",
   "id": "a0fbdc49-2f0c-43cd-8282-70c90ed7c5b8",
   "metadata": {},
   "source": [
    "1. Write a recursive function to return the sum of first n natural numbers\n",
    "- ex: sum(5) = 5 + 4 + 3 + 2 + 1\n",
    "- Take the n (number) from user"
   ]
  },
  {
   "cell_type": "code",
   "execution_count": 25,
   "id": "a5ab8426-f7a6-4947-8cf7-16514d4ed830",
   "metadata": {},
   "outputs": [
    {
     "name": "stdin",
     "output_type": "stream",
     "text": [
      "enter a number =  10\n"
     ]
    },
    {
     "name": "stdout",
     "output_type": "stream",
     "text": [
      "55\n"
     ]
    }
   ],
   "source": [
    "def sum(n):\n",
    "    if n == 0:\n",
    "        return 0\n",
    "    else:\n",
    "        return n + sum(n-1)\n",
    "n = int(input('enter a number = '))\n",
    "print(sum(n))"
   ]
  },
  {
   "cell_type": "markdown",
   "id": "427914a2-3b13-4c02-899d-903544d0ebfa",
   "metadata": {},
   "source": [
    "2. Write a recursive function to calculate a ^ b without using exponent operator"
   ]
  },
  {
   "cell_type": "markdown",
   "id": "9f2f661a-d8db-418c-88b8-1c45e2bf3408",
   "metadata": {},
   "source": [
    "3. Write a recursive function to count number of digits in the number entered by the user:\n",
    "- ex: if user enterd = 1234 - The count of the digit is 4"
   ]
  },
  {
   "cell_type": "code",
   "execution_count": 31,
   "id": "4102296d-4d5f-4049-a01f-21573fa5af79",
   "metadata": {},
   "outputs": [
    {
     "name": "stdout",
     "output_type": "stream",
     "text": [
      "6\n"
     ]
    }
   ],
   "source": [
    "def count_digits(n):\n",
    "    if n < 10:\n",
    "        return 1\n",
    "    else:\n",
    "        return 1 + count_digits(n//10)\n",
    "print(count_digits(123456))"
   ]
  },
  {
   "cell_type": "markdown",
   "id": "655dff30-51af-480f-8210-343f3ffc3dd0",
   "metadata": {},
   "source": [
    "4. Write a function to reverse the number using recursion"
   ]
  },
  {
   "cell_type": "code",
   "execution_count": 35,
   "id": "3b9eba11-6783-4d92-bd94-172079408888",
   "metadata": {},
   "outputs": [
    {
     "name": "stdout",
     "output_type": "stream",
     "text": [
      "6182\n"
     ]
    }
   ],
   "source": [
    "def reverse_number(n,rev=0):\n",
    "    if n == 0:\n",
    "        return rev\n",
    "    else:\n",
    "        remainder = n % 10\n",
    "        rev = rev * 10 + remainder\n",
    "        return reverse_number(n//10,rev)\n",
    "print(reverse_number(2816))"
   ]
  },
  {
   "cell_type": "markdown",
   "id": "e04cfa3e-1f2e-4c80-9cd9-db0ec496ba7f",
   "metadata": {},
   "source": [
    "5. Write a recursive function to check whether a number is prime or not"
   ]
  },
  {
   "cell_type": "code",
   "execution_count": 37,
   "id": "8433c965-b40e-4011-aa16-849315881fd6",
   "metadata": {},
   "outputs": [
    {
     "name": "stdout",
     "output_type": "stream",
     "text": [
      "True\n"
     ]
    }
   ],
   "source": [
    "import math\n",
    "def is_prime(n,i=2):\n",
    "    if n <= 1:\n",
    "        return False\n",
    "    if i > math.sqrt(n):\n",
    "        return True\n",
    "    if n % i == 0:\n",
    "        return False\n",
    "    return is_prime(n,i+1)\n",
    "print(is_prime(11))"
   ]
  },
  {
   "cell_type": "markdown",
   "id": "a438336b-492a-4f1a-803b-0c074080cf5e",
   "metadata": {},
   "source": [
    "6. Implement a recursive function reverse_string(s) that returns the reversed string, but you cannot use slicing or built-in reversed()"
   ]
  },
  {
   "cell_type": "code",
   "execution_count": 39,
   "id": "25210a15-f888-41a6-b7b0-9c5e37cd466b",
   "metadata": {},
   "outputs": [
    {
     "name": "stdout",
     "output_type": "stream",
     "text": [
      "inihoM\n"
     ]
    }
   ],
   "source": [
    "def reverse_string(s,i = 0): # index = 0\n",
    "    # check string is empty or not\n",
    "    if i >= len(s):\n",
    "        return \"\"\n",
    "    return reverse_string(s,i+1)+s[i]\n",
    "print(reverse_string('Mohini'))"
   ]
  },
  {
   "cell_type": "markdown",
   "id": "72f48bc4-4620-457a-9a10-5d9d1470285a",
   "metadata": {},
   "source": [
    "7. Write a recursive function get_power_set(s) that returns all subsets (power set) of a set s."
   ]
  },
  {
   "cell_type": "code",
   "execution_count": 41,
   "id": "d4eb7354-e810-4b3b-b0d5-23706bb0ee74",
   "metadata": {},
   "outputs": [
    {
     "name": "stdout",
     "output_type": "stream",
     "text": [
      "[[], [3], [2], [2, 3], [1], [1, 3], [1, 2], [1, 2, 3]]\n"
     ]
    }
   ],
   "source": [
    "def get_power_set(s):\n",
    "    if not s:\n",
    "        return [[]]\n",
    "    e = s[0] # select first element\n",
    "    rest = s[1:] # rest of the set\n",
    "    power_set_without_e = get_power_set(rest)\n",
    "    power_set_with_e = [[e] + subset for subset in power_set_without_e]\n",
    "    return power_set_without_e + power_set_with_e\n",
    "s = [1,2,3]\n",
    "print(get_power_set(s))\n",
    "    "
   ]
  },
  {
   "cell_type": "markdown",
   "id": "055b9fea-9d80-46e7-a80f-949bc616982f",
   "metadata": {},
   "source": [
    "8. Write a recursive function sum_of_digits(n) that returns the sum of the digits of an integer"
   ]
  },
  {
   "cell_type": "code",
   "execution_count": 43,
   "id": "0890d362-55af-4a26-9658-86f9936b576e",
   "metadata": {},
   "outputs": [
    {
     "name": "stdout",
     "output_type": "stream",
     "text": [
      "15\n"
     ]
    }
   ],
   "source": [
    "def sum_digits(n):\n",
    "    if n < 10 and n >= 0:\n",
    "        return n\n",
    "    elif n < 0:\n",
    "        n = -n\n",
    "    else:\n",
    "        return n % 10 + sum_digits(n//10)\n",
    "print(sum_digits(12345))        "
   ]
  },
  {
   "cell_type": "markdown",
   "id": "acf064f8-76e4-4521-a4ed-befe545af8e3",
   "metadata": {},
   "source": [
    "\n",
    "9. Write a recursive function is_palindrome(s) that checks whether a string is a palindrome (case-insensitive, ignoring non-alphanumerics)"
   ]
  },
  {
   "cell_type": "code",
   "execution_count": 5,
   "id": "9eb771c0-7e93-4a63-b955-4c1c904ce7ac",
   "metadata": {},
   "outputs": [
    {
     "name": "stdout",
     "output_type": "stream",
     "text": [
      "True\n"
     ]
    }
   ],
   "source": [
    "def is_palindrome(s:str)->bool:\n",
    "    s = ''.join(char.lower() for char in s if char.isalnum())\n",
    "    if len(s)<2:\n",
    "        return True\n",
    "    if s[0] != s[-1]:\n",
    "        return False\n",
    "    return is_palindrome(s[1:-1])\n",
    "print(is_palindrome('A man, a plan, a canal:Panama'))\n",
    "    "
   ]
  },
  {
   "cell_type": "markdown",
   "id": "2def9426-3086-412d-8fa8-11de270e53de",
   "metadata": {},
   "source": [
    "10. Write a function to detect 13th Friday. The function can accept two parameters, and both will be numbers.\n",
    "- The first parameter will be the number indicating the month and  The second will be the year in four digits.\n",
    "- Your function should parse the parameters, and it must return True when the month contains a Friday with th 13th, else return False."
   ]
  },
  {
   "cell_type": "code",
   "execution_count": 10,
   "id": "d79a0eb2-689e-458d-8b90-2c7ebac86e6c",
   "metadata": {},
   "outputs": [
    {
     "name": "stdout",
     "output_type": "stream",
     "text": [
      "False\n"
     ]
    }
   ],
   "source": [
    "import datetime\n",
    "import calendar\n",
    "\n",
    "def has_friday_13(month:int,year:int)->bool:\n",
    "    date = datetime.date(year,month,13)\n",
    "    return date.weekday() == 4\n",
    "\n",
    "print(has_friday_13(5,2025))"
   ]
  },
  {
   "cell_type": "markdown",
   "id": "55d9e8cd-0879-412c-ae0f-26d6dfd91e3a",
   "metadata": {},
   "source": [
    "11. Write a function that takes two dates(day,month,year) and calculates the number of days between them without using datetime."
   ]
  },
  {
   "cell_type": "code",
   "execution_count": 17,
   "id": "c173670f-3455-4253-87e1-48a026194a7e",
   "metadata": {},
   "outputs": [
    {
     "name": "stdout",
     "output_type": "stream",
     "text": [
      "364\n"
     ]
    }
   ],
   "source": [
    "def is_leap_year(yr):\n",
    "    # a year is a leap year if it is divisible by 4, except for end-of-century years which must be divisible by 400\n",
    "    return yr % 4 == 0 and (yr % 100 != 0 or yr % 400 == 0)\n",
    "def days_in_month(month,year):\n",
    "    # february has 29 days in a leap year and 28 days otherwise\n",
    "    if month == 2:\n",
    "        return 29 if is_leap_year(year) else 28\n",
    "    # april. june,september and novwmber have 30 days.\n",
    "    elif month in [4,6,9,11]:\n",
    "        return 30\n",
    "    # all other months have 31 days.\n",
    "    else:\n",
    "        return 31\n",
    "def date_to_days(day,month,year):\n",
    "    # calculate the total number of days  from the year 1 to the given year\n",
    "    total_days = (year - 1)*365+(year-1) // 100 +(year-1)//400\n",
    "    # add the days for each month in the given year up to the given month\n",
    "    for m in range(1,month):\n",
    "        total_days += days_in_month(m,year)\n",
    "    # add the days in the given month\n",
    "    total_days += day\n",
    "    return total_days\n",
    "def days_between_dates(day1,month1,year1,day2,month2,year2):\n",
    "    # calculate the absolute difference in days between the two dates.\n",
    "    return abs(date_to_days(day1,month1,year1) - date_to_days(day2,month2,year2))\n",
    "\n",
    "print(days_between_dates(1,1,2023,31,12,2023))"
   ]
  },
  {
   "cell_type": "markdown",
   "id": "58f609fd-8937-4a18-a588-b6893efbce47",
   "metadata": {},
   "source": [
    "13. Given a list of numbers from 1 to n with one number missing. find it without using sort,sum or any libraries."
   ]
  },
  {
   "cell_type": "code",
   "execution_count": 13,
   "id": "b240950f-59f4-47fd-825a-e9e2bbca86d7",
   "metadata": {},
   "outputs": [
    {
     "name": "stdout",
     "output_type": "stream",
     "text": [
      "10\n"
     ]
    }
   ],
   "source": [
    "def finding_missing_number(nums):\n",
    "    n = len(nums)+1\n",
    "    xor_all = 0\n",
    "    xor_nums = 0\n",
    "    # calculate XOR of all numbers from 1 to n\n",
    "    for i in range(1, n+1):\n",
    "        xor_all ^= i\n",
    "    # calculate xor of  all numbers in the list\n",
    "    for num in nums:\n",
    "        xor_nums ^= num \n",
    "    # the missing number is the  XOR of xor_all and xor_nums\n",
    "    return xor_all ^ xor_nums\n",
    "nums = [12,13,15]\n",
    "print(finding_missing_number(nums))"
   ]
  },
  {
   "cell_type": "markdown",
   "id": "ec6a35c3-edb0-4abd-a2dc-66bb785ca0e3",
   "metadata": {},
   "source": [
    "14. Given a number, keep summing its digits until you get a single-digit result"
   ]
  },
  {
   "cell_type": "code",
   "execution_count": 17,
   "id": "7c65897f-2380-42e8-83d9-c34490a655d0",
   "metadata": {},
   "outputs": [
    {
     "name": "stdout",
     "output_type": "stream",
     "text": [
      "1\n"
     ]
    }
   ],
   "source": [
    "def single_digit(n):\n",
    "    # continue the process until n becomes a single digit \n",
    "    while n > 9:\n",
    "        # initialize sum to 0\n",
    "        total = 0\n",
    "        # calculate the sum of digits of n\n",
    "        while n > 0:\n",
    "            total += n % 10 # add the last digit to the sum\n",
    "            n //= 10 # remove the last digit from n\n",
    "        # update n with  the sum of its digits\n",
    "        n = total\n",
    "    return n\n",
    "\n",
    "num = 1234\n",
    "result = single_digit(num)\n",
    "print(result)"
   ]
  },
  {
   "cell_type": "markdown",
   "id": "2ce7f560-b739-4b2c-87f2-3e5bddeca3df",
   "metadata": {},
   "source": [
    "15. given a year and a day number(1 - 365 or 1-366) find the corresponding date(day and month) of that year."
   ]
  },
  {
   "cell_type": "code",
   "execution_count": 5,
   "id": "8d66015b-8579-4e2f-a973-e64dcf3c979a",
   "metadata": {},
   "outputs": [
    {
     "name": "stdin",
     "output_type": "stream",
     "text": [
      "enter year =  2025\n",
      "enter day =  10\n"
     ]
    },
    {
     "name": "stdout",
     "output_type": "stream",
     "text": [
      "10 January\n"
     ]
    }
   ],
   "source": [
    "def find_date(year,day):\n",
    "    # check if the year is a leap year\n",
    "    is_leap_year = year % 4 == 0 and (year % 100 != 0 or year % 400 == 0)\n",
    "    # define the number of days in each month\n",
    "    if is_leap_year:\n",
    "        days_in_month = [31,29,31,30,31,30,31,31,30,31,30,31]\n",
    "    else:\n",
    "        days_in_month = [31,28,31,30,31,30,31,31,30,31,30,31]\n",
    "    # calculate the cumulative days for each month\n",
    "    cumulative_days = [sum(days_in_month[:i+1]) for i in range(len(days_in_month))]\n",
    "    # find the month and day\n",
    "    for i in range(len(cumulative_days)):\n",
    "        if day <= cumulative_days[i]:\n",
    "            month = i + 1\n",
    "            day_of_month = day - (cumulative_days[i-1] if i > 0 else 0)\n",
    "            return f'{day_of_month} {get_month_name(month)}'\n",
    "    return 'invalid day number'\n",
    "\n",
    "def get_month_name(month):\n",
    "    month_names = ['January','February','March','April','May','June','July','August','September','October','November','December']\n",
    "    return month_names[month-1]\n",
    "year = int(input('enter year = '))\n",
    "day = int(input('enter day = '))\n",
    "print(find_date(year,day))"
   ]
  },
  {
   "cell_type": "markdown",
   "id": "91a32082-a725-4610-aa7b-54c42e13432c",
   "metadata": {},
   "source": [
    "16. Given a person's birth date and a current date, calculate their exact age in years, month, and days."
   ]
  },
  {
   "cell_type": "code",
   "execution_count": 12,
   "id": "49dadebd-c530-4f7a-b8eb-54e35584011d",
   "metadata": {},
   "outputs": [
    {
     "name": "stdin",
     "output_type": "stream",
     "text": [
      "enter birth year =  2003\n",
      "enter birth month =  10\n",
      "enter birth date =  28\n"
     ]
    },
    {
     "name": "stdout",
     "output_type": "stream",
     "text": [
      "your age is 21 years,7 months and 13 days.\n"
     ]
    }
   ],
   "source": [
    "# import the date class from the datetime module\n",
    "from datetime import date\n",
    "# function to calculate the number of days in a month\n",
    "def get_days_in_month(month,year):\n",
    "    # check for months with 31 days\n",
    "    if month in[1,3,5,7,8,10,12]:\n",
    "        return 31\n",
    "    # check for february and account for leap years\n",
    "    elif month == 2:\n",
    "        if (year % 4 == 0 and year%100!=0) or year % 400==0:\n",
    "            return 29\n",
    "        else:\n",
    "            return 28\n",
    "    # months with 30 days\n",
    "    else:\n",
    "        return 30\n",
    "# function to calculate age\n",
    "def calculate_age(birthdate):\n",
    "    # get the current date\n",
    "    today = date.today()\n",
    "    # calculate age in years\n",
    "    age_years = today.year - birthdate.year-((today.month,today.day)<(birthdate.month,birthdate.day))\n",
    "    # calculate age in months\n",
    "    if today.month < birthdate.month or (today.month == birthdate.month and today.day<birthdate.day):\n",
    "        age_months = (12 - birthdate.month) + today.month - 1\n",
    "    else:\n",
    "        age_months = today.month - birthdate.month\n",
    "    # calculate age in days\n",
    "    if today.day < birthdate.day:\n",
    "        age_months -= 1\n",
    "        age_days = get_days_in_month(birthdate.month,birthdate.year)- birthdate.day + today.day\n",
    "    else:\n",
    "        age_days = today.day-birthdate.day\n",
    "    return age_years,age_months,age_days\n",
    "# main function\n",
    "def main():\n",
    "    # input birthdate from the user\n",
    "    year = int(input('enter birth year = '))\n",
    "    month = int(input('enter birth month = '))\n",
    "    day = int(input('enter birth date = '))\n",
    "    # create a date object for the birthdate\n",
    "    birthdate = date(year,month,day)\n",
    "    # calculate age\n",
    "    age_years,age_months,age_days = calculate_age(birthdate)\n",
    "    # output the age\n",
    "    print(f'your age is {age_years} years,{age_months} months and {age_days} days.')\n",
    "# run the main fucntion\n",
    "if __name__ == '__main__':\n",
    "    main()\n",
    "    "
   ]
  },
  {
   "cell_type": "markdown",
   "id": "4b4a16fa-9482-4c4b-97fd-8327d9d28f1f",
   "metadata": {},
   "source": [
    "3. Given two time strings in HH:MM:SS format (24-hour clock), calculate the absolute difference between them and return the result as a string in the same format.\n"
   ]
  },
  {
   "cell_type": "code",
   "execution_count": 20,
   "id": "d4d685c1-145f-4c35-b946-f40c0c6e44d1",
   "metadata": {},
   "outputs": [
    {
     "name": "stdout",
     "output_type": "stream",
     "text": [
      "02:30:00\n"
     ]
    }
   ],
   "source": [
    "from datetime import datetime\n",
    "def calculate_time_difference(time1, time2):\n",
    "   # Define the time format\n",
    "    time_format = \"%H:%M:%S\"\n",
    "\n",
    "    # Parse time strings into datetime objects\n",
    "    time1 = datetime.strptime(time1, time_format)\n",
    "    time2 = datetime.strptime(time2, time_format)\n",
    "\n",
    "    # Calculate the absolute time difference\n",
    "    time_difference = abs(time2 - time1)\n",
    "\n",
    "    # Extract hours, minutes, and seconds from the time difference\n",
    "    hours = time_difference.seconds // 3600\n",
    "    minutes = (time_difference.seconds // 60) % 60\n",
    "    seconds = time_difference.seconds % 60\n",
    "\n",
    "    # Format the time difference as a string in HH:MM:SS format\n",
    "    time_difference_string = f\"{hours:02}:{minutes:02}:{seconds:02}\"\n",
    "\n",
    "    return time_difference_string\n",
    "\n",
    "# Example usage:\n",
    "time1 = \"08:00:00\"\n",
    "time2 = \"10:30:00\"\n",
    "print(calculate_time_difference(time1, time2)) "
   ]
  },
  {
   "cell_type": "markdown",
   "id": "065df286-f56e-4d52-a708-b5ac31ee5b0e",
   "metadata": {},
   "source": [
    "4. Given the current date and time, calculate the time remaining until the start of the next year (i.e., January 1st, 00:00:00 of the following year)."
   ]
  },
  {
   "cell_type": "code",
   "execution_count": 22,
   "id": "0fa299ed-db5c-45db-8c26-c18241401590",
   "metadata": {},
   "outputs": [
    {
     "name": "stdout",
     "output_type": "stream",
     "text": [
      "174 days, 00:37:23\n"
     ]
    }
   ],
   "source": [
    "from datetime import datetime\n",
    "\n",
    "def calculate_time_until_next_year():\n",
    "    # Get the current date and time\n",
    "    current_datetime = datetime.now()\n",
    "\n",
    "    # Calculate the start of the next year\n",
    "    next_year = current_datetime.year + 1\n",
    "    next_year_start = datetime(next_year, 1, 1)\n",
    "\n",
    "    # Calculate the time difference\n",
    "    time_difference = next_year_start - current_datetime\n",
    "\n",
    "    # Extract days, hours, minutes, and seconds from the time difference\n",
    "    days = time_difference.days\n",
    "    hours = time_difference.seconds // 3600\n",
    "    minutes = (time_difference.seconds // 60) % 60\n",
    "    seconds = time_difference.seconds % 60\n",
    "\n",
    "    # Format the time difference as a string\n",
    "    time_difference_string = f\"{days} days, {hours:02}:{minutes:02}:{seconds:02}\"\n",
    "\n",
    "    return time_difference_string\n",
    "\n",
    "# Example usage:\n",
    "print(calculate_time_until_next_year())\n"
   ]
  },
  {
   "cell_type": "code",
   "execution_count": null,
   "id": "e6f177e7-fdd3-403e-9142-81f628754743",
   "metadata": {},
   "outputs": [],
   "source": []
  }
 ],
 "metadata": {
  "kernelspec": {
   "display_name": "Python 3 (ipykernel)",
   "language": "python",
   "name": "python3"
  },
  "language_info": {
   "codemirror_mode": {
    "name": "ipython",
    "version": 3
   },
   "file_extension": ".py",
   "mimetype": "text/x-python",
   "name": "python",
   "nbconvert_exporter": "python",
   "pygments_lexer": "ipython3",
   "version": "3.12.4"
  }
 },
 "nbformat": 4,
 "nbformat_minor": 5
}
