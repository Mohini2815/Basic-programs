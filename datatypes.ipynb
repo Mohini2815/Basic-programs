{
 "cells": [
  {
   "cell_type": "markdown",
   "id": "f67ae2b5-f198-4887-adba-0288e53ec07a",
   "metadata": {},
   "source": [
    "# **Python datatypes**"
   ]
  },
  {
   "cell_type": "markdown",
   "id": "f6f8451e-57a7-4af0-abb9-814ae03cb50e",
   "metadata": {},
   "source": [
    "1.**Integers(int)** - whole numbers without a decimal point, positive or negative\n",
    "\n",
    "2.**Floating point numbers(float)** - numbers that include a decimal. They can also include scientific notation.\n",
    "\n",
    "3.**Strings(str)** - sequences of characters used to store text. Strings are immutable, meaning ince created the characters within them cannot be changed.\n",
    "\n",
    "4.**Lists(list)** - ordered collections that are mutable meaning you can modify their contents. lists can contain items or different types \n",
    "\n",
    "5.**tuples** - similar to lists but immutable.once a tuple is created its content cannot be altered\n",
    "\n",
    "6.**dictionaries** - unordered collections of key-value pairs. keys must be unique and immutable which allows each pair to be fetched efficiently.\n",
    "\n",
    "7.**sets** - unordered collections of unique elements. sets are mutable and are useful for removing duplicates from a sequence and performing mathematical operations like unions, intersections and differences"
   ]
  },
  {
   "cell_type": "code",
   "execution_count": 32,
   "id": "e8d1ed1e-5f3d-42fd-a6e1-9ba144bec15a",
   "metadata": {},
   "outputs": [
    {
     "name": "stdout",
     "output_type": "stream",
     "text": [
      "['mohini', '1', '20.45', 'mohini_28']\n",
      "('bhargavi', '16', '59.9', 'bhargs_78')\n",
      "{'3', 'swara', 'gauri'}\n",
      "{'name': 'purva', 'age': '8'}\n"
     ]
    }
   ],
   "source": [
    "# list\n",
    "x=[\"mohini\",\"1\",\"20.45\",\"mohini_28\"]\n",
    "print(x)\n",
    "\n",
    "# tuple\n",
    "y=(\"bhargavi\",\"16\",\"59.9\",\"bhargs_78\")\n",
    "print(y)\n",
    "\n",
    "# set\n",
    "z={\"3\",\"gauri\",\"swara\"}\n",
    "print(z)\n",
    "\n",
    "# dictionary\n",
    "d={\"name\":\"purva\",\"age\":\"8\"}\n",
    "print(d)"
   ]
  },
  {
   "cell_type": "markdown",
   "id": "0f3d7b07-3174-4866-ac41-65efdd3d5e56",
   "metadata": {},
   "source": [
    "**Type conversion**"
   ]
  },
  {
   "cell_type": "code",
   "execution_count": 35,
   "id": "29569c30-95ca-48d6-84a2-cd13fe43f1a9",
   "metadata": {},
   "outputs": [
    {
     "data": {
      "text/plain": [
       "list"
      ]
     },
     "execution_count": 35,
     "metadata": {},
     "output_type": "execute_result"
    }
   ],
   "source": [
    "type(x)"
   ]
  },
  {
   "cell_type": "code",
   "execution_count": 37,
   "id": "db114d5b-fe82-4eb8-b1b4-fc27b4750bb9",
   "metadata": {},
   "outputs": [
    {
     "data": {
      "text/plain": [
       "list"
      ]
     },
     "execution_count": 37,
     "metadata": {},
     "output_type": "execute_result"
    }
   ],
   "source": [
    "# list to tuple\n",
    "tuple(x)\n",
    "type(x)"
   ]
  },
  {
   "cell_type": "code",
   "execution_count": 41,
   "id": "ec955128-3e31-458e-9f2f-0dc63ca23143",
   "metadata": {},
   "outputs": [],
   "source": [
    "ab = 12 # int to float \n",
    "ba=12.5  # float to int\n",
    "ca=\"233\" # string to int\n",
    "xy=[\"asd\",\"sdc\",\"sds\"]  # list to tuple\n",
    "df=(\"xadi\",\"243\",\"34f\",\"24dsdz\") # convert to set\n",
    "gf={\"sdsj\",\"ffgs\",\"dfytf\",\"tygy\"} # convert to list"
   ]
  },
  {
   "cell_type": "code",
   "execution_count": 43,
   "id": "da83d5de-2d59-41cf-b5f5-95e60ac36833",
   "metadata": {},
   "outputs": [
    {
     "data": {
      "text/plain": [
       "12.0"
      ]
     },
     "execution_count": 43,
     "metadata": {},
     "output_type": "execute_result"
    }
   ],
   "source": [
    "ab = 12 \n",
    "\n",
    "float(ab) # int to float"
   ]
  },
  {
   "cell_type": "code",
   "execution_count": 45,
   "id": "950cacfe-396c-42e8-b4c4-be326fdb3cb6",
   "metadata": {},
   "outputs": [
    {
     "data": {
      "text/plain": [
       "12"
      ]
     },
     "execution_count": 45,
     "metadata": {},
     "output_type": "execute_result"
    }
   ],
   "source": [
    "ba=12.5\n",
    "int(ba) # float to int"
   ]
  },
  {
   "cell_type": "code",
   "execution_count": 47,
   "id": "9b0c85e9-cbd7-4cdb-924e-43a44fe68568",
   "metadata": {},
   "outputs": [
    {
     "data": {
      "text/plain": [
       "233"
      ]
     },
     "execution_count": 47,
     "metadata": {},
     "output_type": "execute_result"
    }
   ],
   "source": [
    "ca=\"233\"\n",
    "int(ca) # string to int"
   ]
  },
  {
   "cell_type": "code",
   "execution_count": 49,
   "id": "465a205c-9799-4a66-84de-b36a38caff1c",
   "metadata": {},
   "outputs": [
    {
     "data": {
      "text/plain": [
       "('asd', 'sdc', 'sds')"
      ]
     },
     "execution_count": 49,
     "metadata": {},
     "output_type": "execute_result"
    }
   ],
   "source": [
    "xy=[\"asd\",\"sdc\",\"sds\"]\n",
    "tuple(xy) # list to tuple"
   ]
  },
  {
   "cell_type": "code",
   "execution_count": 51,
   "id": "1f976987-b47d-46d9-b440-aee7fb1a7fb7",
   "metadata": {},
   "outputs": [
    {
     "data": {
      "text/plain": [
       "{'243', '24dsdz', '34f', 'xadi'}"
      ]
     },
     "execution_count": 51,
     "metadata": {},
     "output_type": "execute_result"
    }
   ],
   "source": [
    "df=(\"xadi\",\"243\",\"34f\",\"24dsdz\")\n",
    "set(df) # convert to set"
   ]
  },
  {
   "cell_type": "code",
   "execution_count": 53,
   "id": "1e93e109-3b33-4204-a9ac-1f298eed6d3a",
   "metadata": {},
   "outputs": [
    {
     "data": {
      "text/plain": [
       "['ffgs', 'sdsj', 'tygy', 'dfytf']"
      ]
     },
     "execution_count": 53,
     "metadata": {},
     "output_type": "execute_result"
    }
   ],
   "source": [
    "gf={\"sdsj\",\"ffgs\",\"dfytf\",\"tygy\"}\n",
    "list(gf) # convert to list"
   ]
  },
  {
   "cell_type": "markdown",
   "id": "6360c2e6-ddd4-4823-9991-2f57ed188891",
   "metadata": {},
   "source": [
    "***Control structure & conditional statement***"
   ]
  },
  {
   "cell_type": "code",
   "execution_count": 58,
   "id": "e4f189a3-4101-4ba1-8fac-5cd28ce1b448",
   "metadata": {},
   "outputs": [
    {
     "name": "stdin",
     "output_type": "stream",
     "text": [
      "enter a integer: 7\n"
     ]
    },
    {
     "name": "stdout",
     "output_type": "stream",
     "text": [
      "odd number\n"
     ]
    }
   ],
   "source": [
    "# if else\n",
    "x=int(input(\"enter a integer:\"))\n",
    "if x % 2==0:\n",
    "    print(\"even number\")\n",
    "else:\n",
    "    print(\"odd number\") "
   ]
  },
  {
   "cell_type": "code",
   "execution_count": 20,
   "id": "b2c50208-22ab-42c8-a741-908643025d7d",
   "metadata": {},
   "outputs": [
    {
     "name": "stdin",
     "output_type": "stream",
     "text": [
      "Enter your percentage: 4\n"
     ]
    },
    {
     "name": "stdout",
     "output_type": "stream",
     "text": [
      "Fail\n"
     ]
    }
   ],
   "source": [
    "# if elif else\n",
    "percentage=float(input(\"Enter your percentage:\"))\n",
    "if percentage >=90: \n",
    "    print(\"Grade A+\")\n",
    "elif percentage >= 80: \n",
    "    print(\"Grade A\")\n",
    "elif percentage >=70:  \n",
    "    print(\"Grade B+\")\n",
    "elif percentage >=60:  \n",
    "    print(\"Grade B\")\n",
    "elif percentage >=40: \n",
    "    print(\"pass\")\n",
    "else:\n",
    "    print(\"Fail\")  "
   ]
  },
  {
   "cell_type": "markdown",
   "id": "a547a60f-6d4e-410e-995e-3004019df022",
   "metadata": {},
   "source": [
    "**loops**"
   ]
  },
  {
   "cell_type": "code",
   "execution_count": 23,
   "id": "bcdf6bf6-e580-41de-931c-30636114c56b",
   "metadata": {},
   "outputs": [
    {
     "name": "stdout",
     "output_type": "stream",
     "text": [
      "5 x 1 = 5\n",
      "5 x 2 = 10\n",
      "5 x 3 = 15\n",
      "5 x 4 = 20\n",
      "5 x 5 = 25\n",
      "5 x 6 = 30\n",
      "5 x 7 = 35\n",
      "5 x 8 = 40\n",
      "5 x 9 = 45\n",
      "5 x 10 = 50\n"
     ]
    }
   ],
   "source": [
    "number=5\n",
    "for i in range(1,11):\n",
    "    print(number,'x',i,'=',number*i)"
   ]
  },
  {
   "cell_type": "code",
   "execution_count": 25,
   "id": "94000dd7-8806-481f-9b6c-2e5a0fd95332",
   "metadata": {},
   "outputs": [
    {
     "name": "stdout",
     "output_type": "stream",
     "text": [
      "1\n",
      "2\n",
      "3\n",
      "4\n",
      "5\n",
      "6\n",
      "7\n",
      "8\n",
      "9\n",
      "10\n"
     ]
    }
   ],
   "source": [
    "count=1  # initial digit\n",
    "while count <=10:   \n",
    "    print(count)\n",
    "    count +=1 "
   ]
  },
  {
   "cell_type": "markdown",
   "id": "042e9808-602a-4656-a60b-fb4faf5954a4",
   "metadata": {},
   "source": [
    "**loop control statement**"
   ]
  },
  {
   "cell_type": "markdown",
   "id": "21a7c83f-d937-4a21-8c04-85efce599d3c",
   "metadata": {},
   "source": [
    "- break : It break the condition until its execute. \n",
    "- continue : continue the condition (check all condition).\n",
    "- pass : work as a place holder. (when we have no logic or empty loop then we use pass)"
   ]
  },
  {
   "cell_type": "markdown",
   "id": "675f37a6-0bb4-4a2e-9dd3-d31f1ec9c2b1",
   "metadata": {},
   "source": [
    "1.write a program that print all prime number within a specified range provided by the user"
   ]
  },
  {
   "cell_type": "code",
   "execution_count": 103,
   "id": "fb842f96-813b-43ff-94c4-8fdad75c1f0e",
   "metadata": {},
   "outputs": [
    {
     "name": "stdin",
     "output_type": "stream",
     "text": [
      "Enter start number: 4\n",
      "Enter end number: 90\n"
     ]
    },
    {
     "name": "stdout",
     "output_type": "stream",
     "text": [
      "prime numbers are:\n",
      "5\n",
      "7\n",
      "11\n",
      "13\n",
      "17\n",
      "19\n",
      "23\n",
      "29\n",
      "31\n",
      "37\n",
      "41\n",
      "43\n",
      "47\n",
      "53\n",
      "59\n",
      "61\n",
      "67\n",
      "71\n",
      "73\n",
      "79\n",
      "83\n",
      "89\n"
     ]
    }
   ],
   "source": [
    "start_num = int(input(\"Enter start number:\")) \n",
    "end_num = int(input(\"Enter end number:\"))  \n",
    "print(f\"prime numbers are:\")\n",
    "for i in range(start_num,end_num + 1):   # to get prime numbers between that range\n",
    "    if i > 1: # it will check the number is less than 1 that is  not prime # end _no +1 last digit also include\n",
    "        for num in range(2,i):\n",
    "            if i % num == 0:  # check the number has any divisible by 1 or itself\n",
    "                break  # not prime  and exit the loop\n",
    "        else:\n",
    "            print(i)  # only prime number "
   ]
  },
  {
   "cell_type": "markdown",
   "id": "da78dcf9-e11d-4c48-bd88-45c489349631",
   "metadata": {},
   "source": [
    "2. sum of natural numbers"
   ]
  },
  {
   "cell_type": "code",
   "execution_count": 106,
   "id": "c9e80bf4-c60d-4896-9bf4-72b65227e9e1",
   "metadata": {},
   "outputs": [
    {
     "name": "stdin",
     "output_type": "stream",
     "text": [
      "Enter a number: 5\n"
     ]
    },
    {
     "name": "stdout",
     "output_type": "stream",
     "text": [
      "Sum of natural numbers is =  15\n"
     ]
    }
   ],
   "source": [
    "num = int(input(\"Enter a number:\"))\n",
    "sum = 0  # intial sum is 0\n",
    "for i in range(1,num + 1): # define the range start from 1  upto number which we provide.\n",
    "    sum += i  \n",
    " \n",
    "print(\"Sum of natural numbers is = \",sum)"
   ]
  },
  {
   "cell_type": "markdown",
   "id": "4ec7d9f8-876f-4433-87eb-d6053f15efaf",
   "metadata": {},
   "source": [
    "3.write a program that print all even number between two number provided by the user."
   ]
  },
  {
   "cell_type": "code",
   "execution_count": 109,
   "id": "2d2b8335-106d-4aca-b8bc-e295420757f8",
   "metadata": {},
   "outputs": [
    {
     "name": "stdin",
     "output_type": "stream",
     "text": [
      "Enter start number: 5\n",
      "Enter end number: 7\n"
     ]
    },
    {
     "name": "stdout",
     "output_type": "stream",
     "text": [
      "even numbers are:\n",
      "6\n"
     ]
    }
   ],
   "source": [
    "start_num = int(input(\"Enter start number:\")) \n",
    "last_num = int(input(\"Enter end number:\"))  \n",
    "print(f\"even numbers are:\")\n",
    "for i in range(start_num ,last_num + 1):\n",
    "    if i % 2 == 0:\n",
    "        print(i)\n",
    "    "
   ]
  },
  {
   "cell_type": "markdown",
   "id": "78e12ebd-9ba3-457b-8107-b0e0b3ca7b61",
   "metadata": {},
   "source": [
    "4.write a program to calculate the sum of the digit of a number provided by the user."
   ]
  },
  {
   "cell_type": "code",
   "execution_count": 112,
   "id": "7e805fa1-a333-426f-a4c8-0710f3a6e423",
   "metadata": {},
   "outputs": [
    {
     "name": "stdin",
     "output_type": "stream",
     "text": [
      "Enter a number: 56\n"
     ]
    },
    {
     "name": "stdout",
     "output_type": "stream",
     "text": [
      "sum of digit is : 11\n"
     ]
    }
   ],
   "source": [
    "number=int(input(\"Enter a number:\"))\n",
    "sum=0\n",
    "while number > 0: \n",
    "    sum += number % 10 # will add last digit digit to sum\n",
    "    number //= 10  # will remove last digit from number\n",
    "print(\"sum of digit is :\",sum)"
   ]
  },
  {
   "cell_type": "markdown",
   "id": "4f1c1ec2-e28f-4f30-9322-819091a81ac7",
   "metadata": {},
   "source": [
    "6.write a program that count the number of vowels in a given string."
   ]
  },
  {
   "cell_type": "code",
   "execution_count": 115,
   "id": "501ca2ce-42c3-4eeb-b747-e3c716eb2169",
   "metadata": {},
   "outputs": [
    {
     "name": "stdin",
     "output_type": "stream",
     "text": [
      "Enter your word or sentence: mohini\n"
     ]
    },
    {
     "name": "stdout",
     "output_type": "stream",
     "text": [
      "The count of vowels are: 3\n"
     ]
    }
   ],
   "source": [
    "string = input(\"Enter your word or sentence:\")\n",
    "v = 0  # initial count of vowel is 0\n",
    "for i in string:\n",
    "    if i=='a' or i=='e' or i=='i' or i=='o' or i=='u' or i=='A' or i=='E' or i=='I' or i=='O'  or i=='U':  \n",
    "        v = v + 1  # if yes then add it\n",
    "print(\"The count of vowels are:\",v)"
   ]
  },
  {
   "cell_type": "markdown",
   "id": "2bfa7745-98c3-48a8-9570-3067db06720d",
   "metadata": {},
   "source": [
    "7.calculate the GCD(Gretest common divisor)"
   ]
  },
  {
   "cell_type": "code",
   "execution_count": 118,
   "id": "c042ee00-a14c-4114-9053-daa587ef4f46",
   "metadata": {},
   "outputs": [
    {
     "name": "stdin",
     "output_type": "stream",
     "text": [
      "enter the first number : 5\n",
      "enter the second number: 8\n"
     ]
    },
    {
     "name": "stdout",
     "output_type": "stream",
     "text": [
      "GCD of given two numbers is 1\n"
     ]
    }
   ],
   "source": [
    "num1 = int(input(\"enter the first number :\"))\n",
    "num2 = int(input(\"enter the second number:\"))\n",
    "a = num1\n",
    "b = num2\n",
    "while num1 != num2:\n",
    "    if num1 > num2:\n",
    "        num1 -= num2 # if num1 is less than num2 and subtract it from num2 and store in num1\n",
    "    else:\n",
    "        num2 -= num1\n",
    "print(\"GCD of given two numbers is\",num1)"
   ]
  },
  {
   "cell_type": "markdown",
   "id": "13f507e1-53d2-4f63-a7c5-2fe8465c8994",
   "metadata": {},
   "source": [
    "4.convert temprature from celsius to fahrenheit"
   ]
  },
  {
   "cell_type": "code",
   "execution_count": 123,
   "id": "de203721-43ea-47fb-b64a-6b7db249bdf9",
   "metadata": {},
   "outputs": [
    {
     "name": "stdin",
     "output_type": "stream",
     "text": [
      "Enter the Temprature  in celcius: 67.89\n"
     ]
    },
    {
     "name": "stdout",
     "output_type": "stream",
     "text": [
      "Temprature in Fahreheit is : 154.202\n"
     ]
    }
   ],
   "source": [
    "temp = float(input(\"Enter the Temprature  in celcius:\")) \n",
    "faht=(9/5*temp)+32  \n",
    "print(\"Temprature in Fahreheit is :\",faht)"
   ]
  },
  {
   "cell_type": "markdown",
   "id": "64342f58-518e-4762-8609-48785aef8522",
   "metadata": {},
   "source": [
    "1.Rotate a list by k positions"
   ]
  },
  {
   "cell_type": "code",
   "execution_count": 13,
   "id": "12f86f60-e005-45d0-9966-7a8427e3eeb9",
   "metadata": {},
   "outputs": [
    {
     "name": "stdout",
     "output_type": "stream",
     "text": [
      "[6, 7, 3, 4, 5]\n"
     ]
    }
   ],
   "source": [
    "def rotate_list(list1, k):\n",
    "    k = k % len(list1) # handle cases where k > len(list1)\n",
    "    return list1[-k:]+ list1[:-k]\n",
    "numbers = [3,4,5,6,7]\n",
    "k = 2\n",
    "rotate_numbers = rotate_list(numbers, k)\n",
    "print(rotate_numbers)"
   ]
  },
  {
   "cell_type": "code",
   "execution_count": 28,
   "id": "12c3b659-fb9c-47c6-ba65-6c0b68cd5b79",
   "metadata": {},
   "outputs": [
    {
     "name": "stdout",
     "output_type": "stream",
     "text": [
      "[4, 5, 1, 2, 3]\n"
     ]
    }
   ],
   "source": [
    "list1 = [1,2,3,4,5]\n",
    "k = 2\n",
    "k = k % len(list1) # handle cases where k > len(list1)\n",
    "rotate_numbers = list1[-k:]+ list1[:-k]\n",
    "print(rotate_numbers)"
   ]
  },
  {
   "cell_type": "markdown",
   "id": "2e8045e1-c934-4386-b39c-3a69b4adbe6e",
   "metadata": {},
   "source": [
    "2.flatten a nested list."
   ]
  },
  {
   "cell_type": "code",
   "execution_count": 15,
   "id": "6cbb2866-69f5-4d41-87f6-b0d5f1768588",
   "metadata": {},
   "outputs": [
    {
     "name": "stdout",
     "output_type": "stream",
     "text": [
      "[2, 3, 5, 4, 8, 9]\n"
     ]
    }
   ],
   "source": [
    "nested_list = [[2,3],[5,4],[8,9]]\n",
    "flat_list = [item for sublist in nested_list for item in sublist]\n",
    "print(flat_list)"
   ]
  },
  {
   "cell_type": "markdown",
   "id": "0b66726b-2aa4-47f5-87ad-0dd6ff7ecedf",
   "metadata": {},
   "source": [
    "3.write a program to find the second largest number in a list."
   ]
  },
  {
   "cell_type": "code",
   "execution_count": 18,
   "id": "4b5c419b-7f9e-4fa4-b8f7-f11c24afb61c",
   "metadata": {},
   "outputs": [
    {
     "name": "stdout",
     "output_type": "stream",
     "text": [
      "7\n"
     ]
    }
   ],
   "source": [
    "numbers = [4,5,6,7,8]\n",
    "numbers = list(set(numbers)) # remove duplicates\n",
    "numbers.sort()\n",
    "print(numbers[-2])"
   ]
  },
  {
   "cell_type": "markdown",
   "id": "2deea492-b8f3-427a-9895-96567c6a3f66",
   "metadata": {},
   "source": [
    "4.merge two sorted lists into one sorted list."
   ]
  },
  {
   "cell_type": "code",
   "execution_count": 20,
   "id": "ccde08b5-6a3c-4c27-bb10-c0f4002b3d8a",
   "metadata": {},
   "outputs": [
    {
     "name": "stdout",
     "output_type": "stream",
     "text": [
      "[3, 4, 4, 5, 6, 9]\n"
     ]
    }
   ],
   "source": [
    "list1 = [4,5,6]\n",
    "list2 = [9,3,4]\n",
    "\n",
    "merged_list = sorted(list1 + list2)\n",
    "print(merged_list)"
   ]
  },
  {
   "cell_type": "markdown",
   "id": "26bbbfd6-35ef-4301-8262-cb6bc398bf43",
   "metadata": {},
   "source": [
    "5.find all pairs in a list whose sum is equal to a target number"
   ]
  },
  {
   "cell_type": "code",
   "execution_count": 39,
   "id": "51019747-69b3-4d2e-b7d0-2e114d24d69c",
   "metadata": {},
   "outputs": [
    {
     "name": "stdout",
     "output_type": "stream",
     "text": [
      "[(4, 5)]\n"
     ]
    }
   ],
   "source": [
    "list1 = [4,5,6,7,8,9]\n",
    "target_number = 9\n",
    "pairs = []\n",
    "# to iterate on every item\n",
    "for x in list1: # outer loop will iterate on every number\n",
    "    for y in list1: # inner loop will also do same thing including x\n",
    "        if x < y and x + y == target_number:\n",
    "            pairs.append((x,y))\n",
    "\n",
    "print(pairs)"
   ]
  },
  {
   "cell_type": "markdown",
   "id": "5711cd21-c17e-4572-ad51-9fe0c681cede",
   "metadata": {},
   "source": [
    "6.sort a dictionary by keys or values"
   ]
  },
  {
   "cell_type": "code",
   "execution_count": 26,
   "id": "0a3c3d0c-aab9-4063-8006-2a7b108e71ef",
   "metadata": {},
   "outputs": [
    {
     "name": "stdout",
     "output_type": "stream",
     "text": [
      "{'age': 21, 'name': 'mohini'}\n"
     ]
    }
   ],
   "source": [
    "dict1 = {'name':'mohini','age':21}\n",
    "sort_dict1 = dict(sorted(dict1.items()))\n",
    "print(sort_dict1)"
   ]
  },
  {
   "cell_type": "markdown",
   "id": "2a51657e-716a-4029-8121-be1a349b595d",
   "metadata": {},
   "source": [
    "7.find the key with the maximum or minimum value."
   ]
  },
  {
   "cell_type": "code",
   "execution_count": 13,
   "id": "8e3c0499-d5c5-4df4-941c-20a00ce4d76b",
   "metadata": {},
   "outputs": [
    {
     "name": "stdout",
     "output_type": "stream",
     "text": [
      "n\n",
      "b\n"
     ]
    }
   ],
   "source": [
    "dict1 = {'n':87,'b':21}\n",
    "max_key = max(dict1)\n",
    "print(max_key)\n",
    "\n",
    "min_key = min(dict1)\n",
    "print(min_key)\n"
   ]
  },
  {
   "cell_type": "markdown",
   "id": "71784550-bb54-4e86-a1d6-578840a1a805",
   "metadata": {},
   "source": [
    "8.Invert a dictionary(swap keys and values.)"
   ]
  },
  {
   "cell_type": "code",
   "execution_count": 41,
   "id": "a4dcba0e-758a-4101-b0ff-f4074dbff49c",
   "metadata": {},
   "outputs": [
    {
     "name": "stdout",
     "output_type": "stream",
     "text": [
      "{'mohini': 'name', 21: 'age', 'pune': 'city'}\n"
     ]
    }
   ],
   "source": [
    "dict1 = {'name':'mohini','age':21,'city':'pune'}\n",
    "invert_dict1 = {v:k for k,v in dict1.items()}\n",
    "print(invert_dict1)"
   ]
  },
  {
   "cell_type": "markdown",
   "id": "7facddda-90e2-4cba-ad1a-ee41da599bcc",
   "metadata": {},
   "source": [
    "9.group items from a list into a dictionary based on a common property."
   ]
  },
  {
   "cell_type": "code",
   "execution_count": 47,
   "id": "358bb315-ebee-49f2-bc73-75db5cfa35fc",
   "metadata": {},
   "outputs": [
    {
     "name": "stdout",
     "output_type": "stream",
     "text": [
      "{'a': ['apple', 'avacado'], 'c': ['chickoo', 'cherry', 'coconut'], 'b': ['banana', 'basil']}\n"
     ]
    }
   ],
   "source": [
    "fruits = [\"apple\",\"avacado\",\"chickoo\",\"banana\",\"basil\",\"cherry\",\"coconut\"]\n",
    "grouped = {} # empty dictionary\n",
    "\n",
    "for fruit in fruits:\n",
    "    first_letter = fruit[0]\n",
    "\n",
    "    if first_letter not in grouped:\n",
    "        grouped[first_letter] = []\n",
    "    grouped[first_letter].append(fruit)\n",
    "\n",
    "print(grouped)"
   ]
  },
  {
   "cell_type": "markdown",
   "id": "6507bccd-ad1c-4b23-9cde-5dc254c7a608",
   "metadata": {},
   "source": [
    "10.remove all items from a dictionary"
   ]
  },
  {
   "cell_type": "code",
   "execution_count": 18,
   "id": "9f6791e8-e8bf-406e-914e-07d62ff65446",
   "metadata": {},
   "outputs": [
    {
     "name": "stdout",
     "output_type": "stream",
     "text": [
      "{}\n"
     ]
    }
   ],
   "source": [
    "dict1 = {'n':87,'b':21}\n",
    "dict1.clear()\n",
    "print(dict1)"
   ]
  },
  {
   "cell_type": "markdown",
   "id": "6c75ad1b-4a08-4ef8-937f-c1451a08c8ac",
   "metadata": {},
   "source": [
    "***Tuple and set program practicals***"
   ]
  },
  {
   "cell_type": "markdown",
   "id": "cd6b8d39-c50d-47eb-beb8-47f061298a4e",
   "metadata": {},
   "source": [
    "1.Unpack a tuple into variables."
   ]
  },
  {
   "cell_type": "code",
   "execution_count": 63,
   "id": "a8d5b002-87e3-4464-a799-e4aea510a94b",
   "metadata": {},
   "outputs": [
    {
     "name": "stdout",
     "output_type": "stream",
     "text": [
      "4\n",
      "5\n",
      "6\n"
     ]
    }
   ],
   "source": [
    "tuple1 = (4,5,6)\n",
    "a,b,c = tuple1\n",
    "print(a)\n",
    "print(b)\n",
    "print(c)"
   ]
  },
  {
   "cell_type": "markdown",
   "id": "57b5aef6-1e8e-495f-9622-65a2e05c72a3",
   "metadata": {},
   "source": [
    "2.Concatenate two tuples."
   ]
  },
  {
   "cell_type": "code",
   "execution_count": 65,
   "id": "5ced9120-d655-451c-aee6-3c703c68d6ea",
   "metadata": {},
   "outputs": [
    {
     "name": "stdout",
     "output_type": "stream",
     "text": [
      "(4, 5, 6, 8, 3, 2)\n"
     ]
    }
   ],
   "source": [
    "tuple1 = (4,5,6)\n",
    "tuple2 = (8,3,2)\n",
    "concat_tuple = tuple1 + tuple2\n",
    "print(concat_tuple)"
   ]
  },
  {
   "cell_type": "markdown",
   "id": "12c0245b-153e-422e-bf9a-8d20de204fb0",
   "metadata": {},
   "source": [
    "3.sort a list of tuples by the second element."
   ]
  },
  {
   "cell_type": "code",
   "execution_count": 72,
   "id": "431f842f-4417-49e3-8980-2983161ac8f9",
   "metadata": {},
   "outputs": [
    {
     "name": "stdout",
     "output_type": "stream",
     "text": [
      "[(3, 7), (2, 9)]\n"
     ]
    }
   ],
   "source": [
    "tuples = [(2,9),(3,7)]\n",
    "sort_tuples = sorted(tuples,key=lambda x:x[1])\n",
    "print(sort_tuples)"
   ]
  },
  {
   "cell_type": "markdown",
   "id": "53aeb98e-0e0d-4893-8060-8906fde078b8",
   "metadata": {},
   "source": [
    "4.write a program to replace the last element of a tuple."
   ]
  },
  {
   "cell_type": "code",
   "execution_count": 76,
   "id": "79d95a02-c91f-408e-8533-f3ab1180a76e",
   "metadata": {},
   "outputs": [
    {
     "name": "stdout",
     "output_type": "stream",
     "text": [
      "(6, 7, 90)\n"
     ]
    }
   ],
   "source": [
    "tuples = (6,7,8)\n",
    "replaced_tuples = tuples[:-1]+(90,) \n",
    "print(replaced_tuples)"
   ]
  },
  {
   "cell_type": "markdown",
   "id": "f76d8189-f025-46ea-b7ff-5e2ec37ab041",
   "metadata": {},
   "source": [
    "5.find a common elements in two tuples"
   ]
  },
  {
   "cell_type": "code",
   "execution_count": 88,
   "id": "32fc3f31-ee37-45fd-894e-90abe2c92dcc",
   "metadata": {},
   "outputs": [
    {
     "name": "stdout",
     "output_type": "stream",
     "text": [
      "(4, 6)\n"
     ]
    }
   ],
   "source": [
    "tuple1 = (4,5,6)\n",
    "tuple2 = (2,4,6)\n",
    "comm_element = tuple(set(tuple1) & set(tuple2))\n",
    "print(comm_element)"
   ]
  },
  {
   "cell_type": "markdown",
   "id": "3f557b58-f093-4368-9253-2cd857a436d7",
   "metadata": {},
   "source": [
    "6.find elements present in only one of the two sets(symmetric difference)"
   ]
  },
  {
   "cell_type": "code",
   "execution_count": 82,
   "id": "40ef160a-bc71-4251-94c1-56232781dfac",
   "metadata": {},
   "outputs": [
    {
     "name": "stdout",
     "output_type": "stream",
     "text": [
      "(2, 5)\n"
     ]
    }
   ],
   "source": [
    "tuple1 = (4,5,6)\n",
    "tuple2 = (2,4,6)\n",
    "symm_diff = tuple(set(tuple1)^set(tuple2))\n",
    "print(symm_diff)"
   ]
  },
  {
   "cell_type": "markdown",
   "id": "1da1c50f-9d03-428f-8213-40346c61f4a1",
   "metadata": {},
   "source": [
    "7.write a program to check if two sets are disjoint."
   ]
  },
  {
   "cell_type": "code",
   "execution_count": 90,
   "id": "07480738-a84e-490a-895c-3c9fae57bf2b",
   "metadata": {},
   "outputs": [
    {
     "name": "stdout",
     "output_type": "stream",
     "text": [
      "False\n"
     ]
    }
   ],
   "source": [
    "set1 = {3,4,5}\n",
    "set2 = {1,2,3}\n",
    "print(set1.isdisjoint(set2))"
   ]
  },
  {
   "cell_type": "markdown",
   "id": "898edd05-7e4d-4351-ac5a-788fd8e24b31",
   "metadata": {},
   "source": [
    "8.create a set from user input and perform basic set operations"
   ]
  },
  {
   "cell_type": "code",
   "execution_count": 94,
   "id": "3b4eb554-cdec-4503-a6a4-05c9b47a4fed",
   "metadata": {},
   "outputs": [
    {
     "name": "stdin",
     "output_type": "stream",
     "text": [
      "enter elements 3,4,5,6\n"
     ]
    },
    {
     "name": "stdout",
     "output_type": "stream",
     "text": [
      "{'3,4,5,6'}\n"
     ]
    }
   ],
   "source": [
    "inp = input(\"enter elements\")\n",
    "s = set(inp.split())\n",
    "print(s)"
   ]
  },
  {
   "cell_type": "markdown",
   "id": "9a548ad9-1497-466b-828a-1fbabb3eb482",
   "metadata": {},
   "source": [
    "9.find the duplicates items in a list using sets."
   ]
  },
  {
   "cell_type": "code",
   "execution_count": 100,
   "id": "a0204d5b-32a1-4452-9a94-1e129af11d2c",
   "metadata": {},
   "outputs": [
    {
     "name": "stdout",
     "output_type": "stream",
     "text": [
      "{3, 4, 5}\n"
     ]
    }
   ],
   "source": [
    "list1 = [1,2,3,3,4,5,4,6,5,3,3]\n",
    "duplicates = set([x for x in list1 if list1.count(x)>1])\n",
    "print(duplicates)"
   ]
  },
  {
   "cell_type": "markdown",
   "id": "8fb354a3-bebe-4b87-abc0-cc0babbd4a67",
   "metadata": {},
   "source": [
    "10.generate all subsets(power set) of a given set(ueing itertools)."
   ]
  },
  {
   "cell_type": "code",
   "execution_count": null,
   "id": "8993a9db-8bb8-4b8e-9d25-e777a427d81b",
   "metadata": {},
   "outputs": [],
   "source": []
  }
 ],
 "metadata": {
  "kernelspec": {
   "display_name": "Python 3 (ipykernel)",
   "language": "python",
   "name": "python3"
  },
  "language_info": {
   "codemirror_mode": {
    "name": "ipython",
    "version": 3
   },
   "file_extension": ".py",
   "mimetype": "text/x-python",
   "name": "python",
   "nbconvert_exporter": "python",
   "pygments_lexer": "ipython3",
   "version": "3.12.4"
  }
 },
 "nbformat": 4,
 "nbformat_minor": 5
}
