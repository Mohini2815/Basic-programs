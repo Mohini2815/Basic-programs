{
 "cells": [
  {
   "cell_type": "markdown",
   "id": "17b2469b-2adb-483c-a8db-31a12e75eea0",
   "metadata": {},
   "source": [
    "# built in functions"
   ]
  },
  {
   "cell_type": "code",
   "execution_count": 1,
   "id": "fa6e118d-ff82-4e4e-8427-1684153d8258",
   "metadata": {},
   "outputs": [
    {
     "name": "stdout",
     "output_type": "stream",
     "text": [
      "[4, 6, 8, 10]\n"
     ]
    }
   ],
   "source": [
    "def add(x):\n",
    "     return x + x\n",
    "num = [2,3,4,5]\n",
    "res = map(add,num) # map used to modify all items in a list\n",
    "print(list(res))\n",
    "# to add 2+2,3+3....."
   ]
  },
  {
   "cell_type": "code",
   "execution_count": 3,
   "id": "e11114e2-574f-4aa1-8109-0eac78738f1b",
   "metadata": {},
   "outputs": [
    {
     "name": "stdout",
     "output_type": "stream",
     "text": [
      "[2, 22, 4]\n"
     ]
    }
   ],
   "source": [
    "def even(num):\n",
    "    return num % 2 == 0\n",
    "number = [2,22,4,1,5]\n",
    "res = filter(even,number) # filter used to filter out items based on given condition\n",
    "print(list(res))"
   ]
  },
  {
   "cell_type": "code",
   "execution_count": 5,
   "id": "22ff9bb3-3c8e-4450-b155-3b7c32dea3e3",
   "metadata": {},
   "outputs": [
    {
     "name": "stdout",
     "output_type": "stream",
     "text": [
      "24\n"
     ]
    }
   ],
   "source": [
    "# for using reduce() function we have to import it from functools.\n",
    "from functools import reduce\n",
    "def multi(a,b):\n",
    "    return a*b\n",
    "number = [1,2,3,4]\n",
    "res = reduce(multi,number)\n",
    "print(res)"
   ]
  },
  {
   "cell_type": "code",
   "execution_count": 7,
   "id": "8cbd96d7-f764-4f10-9ede-8bf1d046ca90",
   "metadata": {},
   "outputs": [
    {
     "name": "stdout",
     "output_type": "stream",
     "text": [
      "25\n"
     ]
    }
   ],
   "source": [
    "multi = lambda x : x * x\n",
    "print(multi(5))"
   ]
  },
  {
   "cell_type": "code",
   "execution_count": 9,
   "id": "162aa203-0050-4385-97d1-08599e42ced4",
   "metadata": {},
   "outputs": [
    {
     "name": "stdout",
     "output_type": "stream",
     "text": [
      "0 mogra\n",
      "1 rose\n",
      "2 hibiscus\n",
      "3 lily\n",
      "4 marygold\n"
     ]
    }
   ],
   "source": [
    "flower = ['mogra','rose','hibiscus','lily','marygold']\n",
    "for index, flower in enumerate(flower): # enumerate used when you want to get index and value\n",
    "    print(index,flower)"
   ]
  },
  {
   "cell_type": "code",
   "execution_count": 11,
   "id": "3983509d-e3e6-4e28-a6b2-aba9b8395b0d",
   "metadata": {},
   "outputs": [
    {
     "name": "stdout",
     "output_type": "stream",
     "text": [
      "55\n"
     ]
    }
   ],
   "source": [
    "def fibonacci(num):\n",
    "    if num <= 1: # base condition\n",
    "        return num\n",
    "    else:\n",
    "        return fibonacci(num-1) + fibonacci(num - 2) # recursive call\n",
    "print(fibonacci(10))"
   ]
  },
  {
   "cell_type": "markdown",
   "id": "733e4a70-9694-4184-b94a-c00f2f1fd64a",
   "metadata": {},
   "source": [
    "1. print number from 1 to n using recursion"
   ]
  },
  {
   "cell_type": "code",
   "execution_count": 14,
   "id": "b3f80627-6c1e-44f8-a6d2-7a21b8c2b312",
   "metadata": {},
   "outputs": [
    {
     "name": "stdout",
     "output_type": "stream",
     "text": [
      "1\n",
      "2\n",
      "3\n",
      "4\n",
      "5\n",
      "6\n",
      "7\n",
      "8\n",
      "9\n",
      "10\n",
      "11\n"
     ]
    }
   ],
   "source": [
    "def number(x):\n",
    "    if x > 0:\n",
    "        number(x-1) # recursive call\n",
    "        print(x)\n",
    "number(11)"
   ]
  },
  {
   "cell_type": "markdown",
   "id": "4ade9907-c2dc-454d-b951-d3c137bf49f9",
   "metadata": {},
   "source": [
    "2. write a recursive function to count how many digits are in a number."
   ]
  },
  {
   "cell_type": "code",
   "execution_count": 17,
   "id": "b7e27b1a-dded-4493-9001-d322c146f75d",
   "metadata": {},
   "outputs": [
    {
     "name": "stdout",
     "output_type": "stream",
     "text": [
      "4\n"
     ]
    }
   ],
   "source": [
    "def digit_count(num):\n",
    "    if num < 10: # if number is greater than 1 it will return 1\n",
    "        return 1\n",
    "    return 1 + digit_count(num//10) # recursive call it floor mode by 10 to remove last digit\n",
    "print(digit_count(4532))"
   ]
  },
  {
   "cell_type": "markdown",
   "id": "3e8f0db7-84a8-49dc-8ef1-fcdca585e34c",
   "metadata": {},
   "source": [
    "3. write a lambda to return the last character of a string"
   ]
  },
  {
   "cell_type": "code",
   "execution_count": 20,
   "id": "f2ad28cf-b8cc-47cc-86b8-a0805c970442",
   "metadata": {},
   "outputs": [
    {
     "name": "stdout",
     "output_type": "stream",
     "text": [
      "i\n"
     ]
    }
   ],
   "source": [
    "last_chart = lambda c :c[-1] # -1 for getting last character from a string\n",
    "print(last_chart(\"mohini\"))"
   ]
  },
  {
   "cell_type": "markdown",
   "id": "d859b847-fe55-4f57-93f7-fe02fa76c013",
   "metadata": {},
   "source": [
    "4. use map() to find the length of each word in a sentence"
   ]
  },
  {
   "cell_type": "code",
   "execution_count": 23,
   "id": "0218eb44-0bfd-4ba7-a267-cb77cf2ecf35",
   "metadata": {},
   "outputs": [
    {
     "name": "stdin",
     "output_type": "stream",
     "text": [
      "enter your string =  my name is mohini\n"
     ]
    },
    {
     "name": "stdout",
     "output_type": "stream",
     "text": [
      "[2, 4, 2, 6]\n"
     ]
    }
   ],
   "source": [
    "string = input(\"enter your string = \")\n",
    "length = list(map(len,string.split())) # split use for it to convert the string into the word and len for it count the length pf each word\n",
    "print(length)\n",
    "# string = my name is mohini\n",
    "# split = ['my','name','is','mohini']"
   ]
  },
  {
   "cell_type": "markdown",
   "id": "79a25d2f-a01a-4424-ac8f-25eb48da0694",
   "metadata": {},
   "source": [
    "5. use map() with a lambda to add 10 to each number in a list"
   ]
  },
  {
   "cell_type": "code",
   "execution_count": 28,
   "id": "3e5f7a95-f18f-47e7-b813-35690adef5b1",
   "metadata": {},
   "outputs": [
    {
     "name": "stdout",
     "output_type": "stream",
     "text": [
      "[33, 54, 65, 32]\n"
     ]
    }
   ],
   "source": [
    "list1 = [23,44,55,22]\n",
    "res = list(map(lambda n :n+10,list1))\n",
    "print(res)"
   ]
  },
  {
   "cell_type": "markdown",
   "id": "13277dee-ccd7-40a3-a358-c5d78a0ac44b",
   "metadata": {},
   "source": [
    "6. use filter() to get number greater than 50 from a list"
   ]
  },
  {
   "cell_type": "code",
   "execution_count": 31,
   "id": "5014b9b6-e0a4-42ec-b617-a544b6d5ea78",
   "metadata": {},
   "outputs": [
    {
     "name": "stdout",
     "output_type": "stream",
     "text": [
      "[55, 67]\n"
     ]
    }
   ],
   "source": [
    "def greater(num):\n",
    "    return num > 50\n",
    "num = [33,55,43,67]\n",
    "res = filter(greater,num)\n",
    "print(list(res))"
   ]
  },
  {
   "cell_type": "markdown",
   "id": "297cc567-66ee-4002-bcb5-f810edaf95a9",
   "metadata": {},
   "source": [
    "7. use reduce() to find maximum value in a list"
   ]
  },
  {
   "cell_type": "code",
   "execution_count": 2,
   "id": "241424e4-4540-4766-a420-41fbac99c305",
   "metadata": {},
   "outputs": [
    {
     "name": "stdout",
     "output_type": "stream",
     "text": [
      "4\n"
     ]
    }
   ],
   "source": [
    "from functools import reduce\n",
    "num = [1,2,3,4]\n",
    "res = reduce(max,num)\n",
    "print(res)"
   ]
  },
  {
   "cell_type": "markdown",
   "id": "805d0635-c7ed-4eaf-a9a3-0db87f12c5c3",
   "metadata": {},
   "source": [
    "# string manipulation\n",
    "- **string** - it is sequence of character used to represent text.\n",
    "- defining a string use(\" \")or(' ')"
   ]
  },
  {
   "cell_type": "code",
   "execution_count": 6,
   "id": "83bd3ca2-2f74-4c54-9558-974aae7a0ed0",
   "metadata": {},
   "outputs": [
    {
     "name": "stdout",
     "output_type": "stream",
     "text": [
      "Hello dear\n",
      "Hello\n",
      "            dear\n"
     ]
    }
   ],
   "source": [
    "# accessing a character from string\n",
    "a = \"Hello dear\"\n",
    "b = \"\"\"Hello\n",
    "            dear\"\"\"\n",
    "print(a)\n",
    "print(b)"
   ]
  },
  {
   "cell_type": "code",
   "execution_count": 8,
   "id": "e5628d03-4780-45e7-adee-5e281301d328",
   "metadata": {},
   "outputs": [
    {
     "name": "stdout",
     "output_type": "stream",
     "text": [
      "H\n",
      "r\n"
     ]
    }
   ],
   "source": [
    "print(a[0]) # syntax : string[start:end]\n",
    "print(a[-1]) # to get last character use(-)"
   ]
  },
  {
   "cell_type": "markdown",
   "id": "8da1b2d8-7e8b-4ed7-a445-7297ebff3986",
   "metadata": {},
   "source": [
    "- syntax : **string[start:end]**"
   ]
  },
  {
   "cell_type": "code",
   "execution_count": 11,
   "id": "2afeff0b-8188-4ba6-9f84-5e7999089b64",
   "metadata": {},
   "outputs": [
    {
     "name": "stdout",
     "output_type": "stream",
     "text": [
      "Hello\n"
     ]
    }
   ],
   "source": [
    "print(a[0:5])"
   ]
  },
  {
   "cell_type": "code",
   "execution_count": 13,
   "id": "7590817d-8907-4401-99b4-45feb22d3598",
   "metadata": {},
   "outputs": [
    {
     "name": "stdout",
     "output_type": "stream",
     "text": [
      "Hello\n"
     ]
    }
   ],
   "source": [
    "print(a[:5])"
   ]
  },
  {
   "cell_type": "code",
   "execution_count": 15,
   "id": "5d3493ae-a89a-4350-aecd-5d6e89fd49dc",
   "metadata": {},
   "outputs": [
    {
     "name": "stdout",
     "output_type": "stream",
     "text": [
      " dear\n"
     ]
    }
   ],
   "source": [
    "print(a[5:])"
   ]
  },
  {
   "cell_type": "code",
   "execution_count": 17,
   "id": "9c56c5a5-bffa-4373-97f7-d5955770f13e",
   "metadata": {},
   "outputs": [
    {
     "name": "stdout",
     "output_type": "stream",
     "text": [
      "llo \n"
     ]
    }
   ],
   "source": [
    "print(a[2:6])"
   ]
  },
  {
   "cell_type": "code",
   "execution_count": 21,
   "id": "6c0a7e3d-8702-4b88-aafb-df0ebd2373f0",
   "metadata": {},
   "outputs": [
    {
     "name": "stdout",
     "output_type": "stream",
     "text": [
      "HELLO DEAR\n",
      "hello dear\n",
      "Hello dear\n",
      "Hello Dear\n",
      "hELLO DEAR\n"
     ]
    }
   ],
   "source": [
    "# case manipulation\n",
    "print(a.upper()) # to convert upper case\n",
    "print(a.lower()) # to convert lower case\n",
    "print(a.capitalize()) # to change first character of word to capital letter\n",
    "print(a.title()) # capitalize first character of each word to capital letter\n",
    "print(a.swapcase()) # to reverse upper case to lower case and lower case to upper case"
   ]
  },
  {
   "cell_type": "code",
   "execution_count": 25,
   "id": "bf96b34f-fbc5-43b0-af03-39f5d8619a2b",
   "metadata": {},
   "outputs": [
    {
     "name": "stdout",
     "output_type": "stream",
     "text": [
      "    Mohini    \n",
      "Mohini    \n",
      "    Mohini\n",
      "Mohini\n"
     ]
    }
   ],
   "source": [
    "# removing white space\n",
    "c = \"    Mohini    \"\n",
    "print(c)\n",
    "print(c.lstrip()) # remove space from left side\n",
    "print(c.rstrip()) # remove space from right side\n",
    "print(c.strip()) # remove space from both the ends of string."
   ]
  },
  {
   "cell_type": "code",
   "execution_count": 27,
   "id": "5a327da6-0085-4f75-af0c-5aff73e0c69b",
   "metadata": {},
   "outputs": [
    {
     "name": "stdout",
     "output_type": "stream",
     "text": [
      "apple,cherry,mango\n",
      "['apple', 'cherry', 'mango']\n",
      "apple-cherry-mango\n"
     ]
    }
   ],
   "source": [
    "# split and join\n",
    "x = \"apple,cherry,mango\"\n",
    "x_split = x.split(\",\") # split for bresk into the parts\n",
    "x_join = \"-\".join(x_split) # join for connect the part\n",
    "print(x)\n",
    "print(x_split)\n",
    "print(x_join)"
   ]
  },
  {
   "cell_type": "code",
   "execution_count": 33,
   "id": "e85dfa91-048c-4208-ad86-87308c3fc4b5",
   "metadata": {},
   "outputs": [
    {
     "name": "stdout",
     "output_type": "stream",
     "text": [
      "False\n",
      "True\n",
      "False\n"
     ]
    }
   ],
   "source": [
    "# string checking (it return true or false based on the condition)\n",
    "e = \"mohini2810\"\n",
    "print(e.isalpha()) # check the string  has only alphabets.\n",
    "print(e.isalnum()) # check the string is aplhanumeric(alphabet or numbers)\n",
    "print(e.isdigit()) # check the string has only digits"
   ]
  },
  {
   "cell_type": "code",
   "execution_count": 35,
   "id": "9cbb564f-6bf1-4e7e-a6c7-0411b7cd9f64",
   "metadata": {},
   "outputs": [
    {
     "name": "stdout",
     "output_type": "stream",
     "text": [
      "5\n",
      "-1\n",
      "data science is cool\n"
     ]
    }
   ],
   "source": [
    "# find and replace\n",
    "# find : it will find the word in the string\n",
    "# replace : it replace the string to the old string to new string\n",
    "f=\"data science is fun\"\n",
    "print(f.find(\"science\"))\n",
    "print(f.find(\"cool\"))\n",
    "\n",
    "print(f.replace(\"fun\",\"cool\"))"
   ]
  },
  {
   "cell_type": "code",
   "execution_count": 37,
   "id": "e6453394-5b79-43d6-8834-83c881d6c896",
   "metadata": {},
   "outputs": [
    {
     "name": "stdout",
     "output_type": "stream",
     "text": [
      "inihom\n",
      "6\n",
      "2\n"
     ]
    }
   ],
   "source": [
    "# reverse string(reversing the sequence of the string)\n",
    "m = \"mohini\"\n",
    "print(m[::-1])\n",
    "print(len(m))\n",
    "print(m.count(\"i\"))"
   ]
  },
  {
   "cell_type": "code",
   "execution_count": 1,
   "id": "6f0b29ab-1f49-49da-b16a-883dcb0e59b4",
   "metadata": {},
   "outputs": [
    {
     "name": "stdout",
     "output_type": "stream",
     "text": [
      "my name is mohini and I am from dehu\n"
     ]
    }
   ],
   "source": [
    "# for embedding the string\n",
    "m = \"mohini\"\n",
    "d = \"dehu\"\n",
    "print(f\"my name is {m} and I am from {d}\")"
   ]
  },
  {
   "cell_type": "markdown",
   "id": "4c6a1e38-53ae-4571-b276-083d9db62ebe",
   "metadata": {},
   "source": [
    "1. write a python program that takes a string from the user and prints the number of characters in it"
   ]
  },
  {
   "cell_type": "code",
   "execution_count": 8,
   "id": "cb6a54e5-eec5-48cb-a4c2-f651c39437af",
   "metadata": {},
   "outputs": [
    {
     "name": "stdin",
     "output_type": "stream",
     "text": [
      "enter the string =  mohini\n"
     ]
    },
    {
     "name": "stdout",
     "output_type": "stream",
     "text": [
      "6\n"
     ]
    }
   ],
   "source": [
    "string = input(\"enter the string = \")\n",
    "count_string = len(string) # will count characters\n",
    "print(count_string)"
   ]
  },
  {
   "cell_type": "markdown",
   "id": "92f9aa79-246d-4dda-bbf4-42f119fdc670",
   "metadata": {},
   "source": [
    "2. take a strinf from the user and print its first and last character"
   ]
  },
  {
   "cell_type": "code",
   "execution_count": 13,
   "id": "9be9ca55-1436-4a91-971b-9f21d31adc7b",
   "metadata": {},
   "outputs": [
    {
     "name": "stdin",
     "output_type": "stream",
     "text": [
      "enter string=  mohini\n"
     ]
    },
    {
     "name": "stdout",
     "output_type": "stream",
     "text": [
      "first character =  m\n",
      "last character =  i\n"
     ]
    }
   ],
   "source": [
    "string = input(\"enter string= \")\n",
    "print(\"first character = \",string[0])\n",
    "print(\"last character = \",string[-1])"
   ]
  },
  {
   "cell_type": "markdown",
   "id": "8eed62f5-e8a6-4129-a1b6-ef2457c7ce7a",
   "metadata": {},
   "source": [
    "3. take a string and check if it contains only digits"
   ]
  },
  {
   "cell_type": "code",
   "execution_count": 20,
   "id": "2884b897-e1d1-4a02-a6ab-192a348ffec9",
   "metadata": {},
   "outputs": [
    {
     "name": "stdin",
     "output_type": "stream",
     "text": [
      "enter string= 28\n"
     ]
    },
    {
     "name": "stdout",
     "output_type": "stream",
     "text": [
      "True\n"
     ]
    }
   ],
   "source": [
    "a = input(\"enter string=\")\n",
    "print(a.isdigit())"
   ]
  },
  {
   "cell_type": "markdown",
   "id": "4791ff17-7692-4ae1-80e2-86840f598255",
   "metadata": {},
   "source": [
    "4. take a string and a character from the user count how many times the character appears in the string"
   ]
  },
  {
   "cell_type": "code",
   "execution_count": 23,
   "id": "49b4b646-2f3f-4d5c-aacd-3d02c5677c9b",
   "metadata": {},
   "outputs": [
    {
     "name": "stdin",
     "output_type": "stream",
     "text": [
      "enter the string =  mohini\n",
      "enter character you want to count =  i\n"
     ]
    },
    {
     "name": "stdout",
     "output_type": "stream",
     "text": [
      "2\n"
     ]
    }
   ],
   "source": [
    "a = input(\"enter the string = \")\n",
    "c = input(\"enter character you want to count = \")\n",
    "print(a.count(c))"
   ]
  },
  {
   "cell_type": "markdown",
   "id": "77bdbbfc-4c94-458d-a786-be4e3305384e",
   "metadata": {},
   "source": [
    "5. take sentence . a word to replace and the new word from the user replace it in the sentence"
   ]
  },
  {
   "cell_type": "code",
   "execution_count": 28,
   "id": "88a5f359-83a2-45fc-b0e0-24cb53a565a5",
   "metadata": {},
   "outputs": [
    {
     "name": "stdin",
     "output_type": "stream",
     "text": [
      "enter your sentence =  i trust god\n",
      "the word you want to replace is  god\n",
      "the word you want to replace with  mahadev\n"
     ]
    },
    {
     "name": "stdout",
     "output_type": "stream",
     "text": [
      "i trust mahadev\n"
     ]
    }
   ],
   "source": [
    "sent = input(\"enter your sentence = \")\n",
    "old_word = input(\"the word you want to replace is \")\n",
    "new_word = input(\"the word you want to replace with \")\n",
    "new_sent = sent.replace(old_word,new_word)\n",
    "print(new_sent)"
   ]
  },
  {
   "cell_type": "markdown",
   "id": "5bb705af-8dbc-4d2d-b5ba-28e9210ea3ad",
   "metadata": {},
   "source": [
    "6. take a string and print it in reverse order"
   ]
  },
  {
   "cell_type": "code",
   "execution_count": 31,
   "id": "252d5875-7353-47a1-9a41-44025e0cde6d",
   "metadata": {},
   "outputs": [
    {
     "name": "stdout",
     "output_type": "stream",
     "text": [
      "uoy sselb dog\n"
     ]
    }
   ],
   "source": [
    "a = \"god bless you\"\n",
    "print(a[::-1]) # for reversing string"
   ]
  },
  {
   "cell_type": "markdown",
   "id": "bcec5825-c815-4653-ac9c-2559c0be540e",
   "metadata": {},
   "source": [
    "7. take a comma-seperated string from the user and split it into a list"
   ]
  },
  {
   "cell_type": "code",
   "execution_count": 36,
   "id": "0ea956d0-5b5b-4546-9dc0-454128be6c2b",
   "metadata": {},
   "outputs": [
    {
     "name": "stdin",
     "output_type": "stream",
     "text": [
      "enter string =  mohini,mona\n"
     ]
    },
    {
     "name": "stdout",
     "output_type": "stream",
     "text": [
      "['mohini', 'mona']\n"
     ]
    }
   ],
   "source": [
    "a = input(\"enter string = \")\n",
    "com_sep = a.split(\",\")\n",
    "print(com_sep)"
   ]
  },
  {
   "cell_type": "markdown",
   "id": "3a9a512a-09b1-413a-ba94-2bf81eeeb2c9",
   "metadata": {},
   "source": [
    "8. take a string input and check whether it is palindrome"
   ]
  },
  {
   "cell_type": "code",
   "execution_count": 39,
   "id": "4160e8cd-c8c7-4dc4-969a-c0658f04456a",
   "metadata": {},
   "outputs": [
    {
     "name": "stdin",
     "output_type": "stream",
     "text": [
      "enter a string =  mohini\n"
     ]
    },
    {
     "name": "stdout",
     "output_type": "stream",
     "text": [
      "not palindrome\n"
     ]
    }
   ],
   "source": [
    "a = input(\"enter a string = \")\n",
    "if a == a[::-1]:\n",
    "    print(\"palindrome\")\n",
    "else:\n",
    "    print(\"not palindrome\")"
   ]
  },
  {
   "cell_type": "markdown",
   "id": "13e92669-bbd9-4b6e-a3e1-5b39e0b0caaf",
   "metadata": {},
   "source": [
    "9. take first name and last name from the user, and print a username in the format firtsname,lastname all in lowercase"
   ]
  },
  {
   "cell_type": "code",
   "execution_count": 44,
   "id": "78262de1-803c-4c87-9df9-bcf2f966772a",
   "metadata": {},
   "outputs": [
    {
     "name": "stdin",
     "output_type": "stream",
     "text": [
      "enter first name =  Mohini\n",
      "enter last name =  Argade\n"
     ]
    },
    {
     "name": "stdout",
     "output_type": "stream",
     "text": [
      "mohini.argade\n"
     ]
    }
   ],
   "source": [
    "first = input(\"enter first name = \")\n",
    "last = input(\"enter last name = \")\n",
    "print(first.lower()+\".\"+last.lower())"
   ]
  },
  {
   "cell_type": "markdown",
   "id": "4564273b-7049-4882-bf48-96fcaf51214a",
   "metadata": {},
   "source": [
    "10. take an email address from the user and extract the domain name(text after the @)"
   ]
  },
  {
   "cell_type": "code",
   "execution_count": 47,
   "id": "1551832b-2c9d-4a28-b794-f15ad06045d9",
   "metadata": {},
   "outputs": [
    {
     "name": "stdin",
     "output_type": "stream",
     "text": [
      "email =  mohini@2810\n"
     ]
    },
    {
     "name": "stdout",
     "output_type": "stream",
     "text": [
      "domain is 2810\n"
     ]
    }
   ],
   "source": [
    "id = input(\"email = \")\n",
    "dom_name = id.split(\"@\")[1] # 1 for to get text after @ sign\n",
    "print(\"domain is\",dom_name)"
   ]
  },
  {
   "cell_type": "code",
   "execution_count": null,
   "id": "07b981a6-c297-455f-b6ac-c957db2abc68",
   "metadata": {},
   "outputs": [],
   "source": []
  }
 ],
 "metadata": {
  "kernelspec": {
   "display_name": "Python 3 (ipykernel)",
   "language": "python",
   "name": "python3"
  },
  "language_info": {
   "codemirror_mode": {
    "name": "ipython",
    "version": 3
   },
   "file_extension": ".py",
   "mimetype": "text/x-python",
   "name": "python",
   "nbconvert_exporter": "python",
   "pygments_lexer": "ipython3",
   "version": "3.12.4"
  }
 },
 "nbformat": 4,
 "nbformat_minor": 5
}
