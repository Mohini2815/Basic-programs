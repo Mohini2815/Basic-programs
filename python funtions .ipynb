{
 "cells": [
  {
   "cell_type": "markdown",
   "id": "17b2469b-2adb-483c-a8db-31a12e75eea0",
   "metadata": {},
   "source": [
    "# built in functions"
   ]
  },
  {
   "cell_type": "code",
   "execution_count": 1,
   "id": "fa6e118d-ff82-4e4e-8427-1684153d8258",
   "metadata": {},
   "outputs": [
    {
     "name": "stdout",
     "output_type": "stream",
     "text": [
      "[4, 6, 8, 10]\n"
     ]
    }
   ],
   "source": [
    "def add(x):\n",
    "     return x + x\n",
    "num = [2,3,4,5]\n",
    "res = map(add,num) # map used to modify all items in a list\n",
    "print(list(res))\n",
    "# to add 2+2,3+3....."
   ]
  },
  {
   "cell_type": "code",
   "execution_count": 3,
   "id": "e11114e2-574f-4aa1-8109-0eac78738f1b",
   "metadata": {},
   "outputs": [
    {
     "name": "stdout",
     "output_type": "stream",
     "text": [
      "[2, 22, 4]\n"
     ]
    }
   ],
   "source": [
    "def even(num):\n",
    "    return num % 2 == 0\n",
    "number = [2,22,4,1,5]\n",
    "res = filter(even,number) # filter used to filter out items based on given condition\n",
    "print(list(res))"
   ]
  },
  {
   "cell_type": "code",
   "execution_count": 5,
   "id": "22ff9bb3-3c8e-4450-b155-3b7c32dea3e3",
   "metadata": {},
   "outputs": [
    {
     "name": "stdout",
     "output_type": "stream",
     "text": [
      "24\n"
     ]
    }
   ],
   "source": [
    "# for using reduce() function we have to import it from functools.\n",
    "from functools import reduce\n",
    "def multi(a,b):\n",
    "    return a*b\n",
    "number = [1,2,3,4]\n",
    "res = reduce(multi,number)\n",
    "print(res)"
   ]
  },
  {
   "cell_type": "code",
   "execution_count": 7,
   "id": "8cbd96d7-f764-4f10-9ede-8bf1d046ca90",
   "metadata": {},
   "outputs": [
    {
     "name": "stdout",
     "output_type": "stream",
     "text": [
      "25\n"
     ]
    }
   ],
   "source": [
    "multi = lambda x : x * x\n",
    "print(multi(5))"
   ]
  },
  {
   "cell_type": "code",
   "execution_count": 9,
   "id": "162aa203-0050-4385-97d1-08599e42ced4",
   "metadata": {},
   "outputs": [
    {
     "name": "stdout",
     "output_type": "stream",
     "text": [
      "0 mogra\n",
      "1 rose\n",
      "2 hibiscus\n",
      "3 lily\n",
      "4 marygold\n"
     ]
    }
   ],
   "source": [
    "flower = ['mogra','rose','hibiscus','lily','marygold']\n",
    "for index, flower in enumerate(flower): # enumerate used when you want to get index and value\n",
    "    print(index,flower)"
   ]
  },
  {
   "cell_type": "code",
   "execution_count": 11,
   "id": "3983509d-e3e6-4e28-a6b2-aba9b8395b0d",
   "metadata": {},
   "outputs": [
    {
     "name": "stdout",
     "output_type": "stream",
     "text": [
      "55\n"
     ]
    }
   ],
   "source": [
    "def fibonacci(num):\n",
    "    if num <= 1: # base condition\n",
    "        return num\n",
    "    else:\n",
    "        return fibonacci(num-1) + fibonacci(num - 2) # recursive call\n",
    "print(fibonacci(10))"
   ]
  },
  {
   "cell_type": "markdown",
   "id": "733e4a70-9694-4184-b94a-c00f2f1fd64a",
   "metadata": {},
   "source": [
    "1. print number from 1 to n using recursion"
   ]
  },
  {
   "cell_type": "code",
   "execution_count": 14,
   "id": "b3f80627-6c1e-44f8-a6d2-7a21b8c2b312",
   "metadata": {},
   "outputs": [
    {
     "name": "stdout",
     "output_type": "stream",
     "text": [
      "1\n",
      "2\n",
      "3\n",
      "4\n",
      "5\n",
      "6\n",
      "7\n",
      "8\n",
      "9\n",
      "10\n",
      "11\n"
     ]
    }
   ],
   "source": [
    "def number(x):\n",
    "    if x > 0:\n",
    "        number(x-1) # recursive call\n",
    "        print(x)\n",
    "number(11)"
   ]
  },
  {
   "cell_type": "markdown",
   "id": "4ade9907-c2dc-454d-b951-d3c137bf49f9",
   "metadata": {},
   "source": [
    "2. write a recursive function to count how many digits are in a number."
   ]
  },
  {
   "cell_type": "code",
   "execution_count": 17,
   "id": "b7e27b1a-dded-4493-9001-d322c146f75d",
   "metadata": {},
   "outputs": [
    {
     "name": "stdout",
     "output_type": "stream",
     "text": [
      "4\n"
     ]
    }
   ],
   "source": [
    "def digit_count(num):\n",
    "    if num < 10: # if number is greater than 1 it will return 1\n",
    "        return 1\n",
    "    return 1 + digit_count(num//10) # recursive call it floor mode by 10 to remove last digit\n",
    "print(digit_count(4532))"
   ]
  },
  {
   "cell_type": "markdown",
   "id": "3e8f0db7-84a8-49dc-8ef1-fcdca585e34c",
   "metadata": {},
   "source": [
    "3. write a lambda to return the last character of a string"
   ]
  },
  {
   "cell_type": "code",
   "execution_count": 20,
   "id": "f2ad28cf-b8cc-47cc-86b8-a0805c970442",
   "metadata": {},
   "outputs": [
    {
     "name": "stdout",
     "output_type": "stream",
     "text": [
      "i\n"
     ]
    }
   ],
   "source": [
    "last_chart = lambda c :c[-1] # -1 for getting last character from a string\n",
    "print(last_chart(\"mohini\"))"
   ]
  },
  {
   "cell_type": "markdown",
   "id": "d859b847-fe55-4f57-93f7-fe02fa76c013",
   "metadata": {},
   "source": [
    "4. use map() to find the length of each word in a sentence"
   ]
  },
  {
   "cell_type": "code",
   "execution_count": 23,
   "id": "0218eb44-0bfd-4ba7-a267-cb77cf2ecf35",
   "metadata": {},
   "outputs": [
    {
     "name": "stdin",
     "output_type": "stream",
     "text": [
      "enter your string =  my name is mohini\n"
     ]
    },
    {
     "name": "stdout",
     "output_type": "stream",
     "text": [
      "[2, 4, 2, 6]\n"
     ]
    }
   ],
   "source": [
    "string = input(\"enter your string = \")\n",
    "length = list(map(len,string.split())) # split use for it to convert the string into the word and len for it count the length pf each word\n",
    "print(length)\n",
    "# string = my name is mohini\n",
    "# split = ['my','name','is','mohini']"
   ]
  },
  {
   "cell_type": "markdown",
   "id": "79a25d2f-a01a-4424-ac8f-25eb48da0694",
   "metadata": {},
   "source": [
    "5. use map() with a lambda to add 10 to each number in a list"
   ]
  },
  {
   "cell_type": "code",
   "execution_count": 28,
   "id": "3e5f7a95-f18f-47e7-b813-35690adef5b1",
   "metadata": {},
   "outputs": [
    {
     "name": "stdout",
     "output_type": "stream",
     "text": [
      "[33, 54, 65, 32]\n"
     ]
    }
   ],
   "source": [
    "list1 = [23,44,55,22]\n",
    "res = list(map(lambda n :n+10,list1))\n",
    "print(res)"
   ]
  },
  {
   "cell_type": "markdown",
   "id": "13277dee-ccd7-40a3-a358-c5d78a0ac44b",
   "metadata": {},
   "source": [
    "6. use filter() to get number greater than 50 from a list"
   ]
  },
  {
   "cell_type": "code",
   "execution_count": 31,
   "id": "5014b9b6-e0a4-42ec-b617-a544b6d5ea78",
   "metadata": {},
   "outputs": [
    {
     "name": "stdout",
     "output_type": "stream",
     "text": [
      "[55, 67]\n"
     ]
    }
   ],
   "source": [
    "def greater(num):\n",
    "    return num > 50\n",
    "num = [33,55,43,67]\n",
    "res = filter(greater,num)\n",
    "print(list(res))"
   ]
  },
  {
   "cell_type": "markdown",
   "id": "297cc567-66ee-4002-bcb5-f810edaf95a9",
   "metadata": {},
   "source": [
    "7. use reduce() to find maximum value in a list"
   ]
  },
  {
   "cell_type": "code",
   "execution_count": 2,
   "id": "241424e4-4540-4766-a420-41fbac99c305",
   "metadata": {},
   "outputs": [
    {
     "name": "stdout",
     "output_type": "stream",
     "text": [
      "4\n"
     ]
    }
   ],
   "source": [
    "from functools import reduce\n",
    "num = [1,2,3,4]\n",
    "res = reduce(max,num)\n",
    "print(res)"
   ]
  },
  {
   "cell_type": "markdown",
   "id": "805d0635-c7ed-4eaf-a9a3-0db87f12c5c3",
   "metadata": {},
   "source": [
    "# string manipulation\n",
    "- **string** - it is sequence of character used to represent text.\n",
    "- defining a string use(\" \")or(' ')"
   ]
  },
  {
   "cell_type": "code",
   "execution_count": 6,
   "id": "83bd3ca2-2f74-4c54-9558-974aae7a0ed0",
   "metadata": {},
   "outputs": [
    {
     "name": "stdout",
     "output_type": "stream",
     "text": [
      "Hello dear\n",
      "Hello\n",
      "            dear\n"
     ]
    }
   ],
   "source": [
    "# accessing a character from string\n",
    "a = \"Hello dear\"\n",
    "b = \"\"\"Hello\n",
    "            dear\"\"\"\n",
    "print(a)\n",
    "print(b)"
   ]
  },
  {
   "cell_type": "code",
   "execution_count": 8,
   "id": "e5628d03-4780-45e7-adee-5e281301d328",
   "metadata": {},
   "outputs": [
    {
     "name": "stdout",
     "output_type": "stream",
     "text": [
      "H\n",
      "r\n"
     ]
    }
   ],
   "source": [
    "print(a[0]) # syntax : string[start:end]\n",
    "print(a[-1]) # to get last character use(-)"
   ]
  },
  {
   "cell_type": "markdown",
   "id": "8da1b2d8-7e8b-4ed7-a445-7297ebff3986",
   "metadata": {},
   "source": [
    "- syntax : **string[start:end]**"
   ]
  },
  {
   "cell_type": "code",
   "execution_count": 11,
   "id": "2afeff0b-8188-4ba6-9f84-5e7999089b64",
   "metadata": {},
   "outputs": [
    {
     "name": "stdout",
     "output_type": "stream",
     "text": [
      "Hello\n"
     ]
    }
   ],
   "source": [
    "print(a[0:5])"
   ]
  },
  {
   "cell_type": "code",
   "execution_count": 13,
   "id": "7590817d-8907-4401-99b4-45feb22d3598",
   "metadata": {},
   "outputs": [
    {
     "name": "stdout",
     "output_type": "stream",
     "text": [
      "Hello\n"
     ]
    }
   ],
   "source": [
    "print(a[:5])"
   ]
  },
  {
   "cell_type": "code",
   "execution_count": 15,
   "id": "5d3493ae-a89a-4350-aecd-5d6e89fd49dc",
   "metadata": {},
   "outputs": [
    {
     "name": "stdout",
     "output_type": "stream",
     "text": [
      " dear\n"
     ]
    }
   ],
   "source": [
    "print(a[5:])"
   ]
  },
  {
   "cell_type": "code",
   "execution_count": 17,
   "id": "9c56c5a5-bffa-4373-97f7-d5955770f13e",
   "metadata": {},
   "outputs": [
    {
     "name": "stdout",
     "output_type": "stream",
     "text": [
      "llo \n"
     ]
    }
   ],
   "source": [
    "print(a[2:6])"
   ]
  },
  {
   "cell_type": "code",
   "execution_count": 21,
   "id": "6c0a7e3d-8702-4b88-aafb-df0ebd2373f0",
   "metadata": {},
   "outputs": [
    {
     "name": "stdout",
     "output_type": "stream",
     "text": [
      "HELLO DEAR\n",
      "hello dear\n",
      "Hello dear\n",
      "Hello Dear\n",
      "hELLO DEAR\n"
     ]
    }
   ],
   "source": [
    "# case manipulation\n",
    "print(a.upper()) # to convert upper case\n",
    "print(a.lower()) # to convert lower case\n",
    "print(a.capitalize()) # to change first character of word to capital letter\n",
    "print(a.title()) # capitalize first character of each word to capital letter\n",
    "print(a.swapcase()) # to reverse upper case to lower case and lower case to upper case"
   ]
  },
  {
   "cell_type": "code",
   "execution_count": 25,
   "id": "bf96b34f-fbc5-43b0-af03-39f5d8619a2b",
   "metadata": {},
   "outputs": [
    {
     "name": "stdout",
     "output_type": "stream",
     "text": [
      "    Mohini    \n",
      "Mohini    \n",
      "    Mohini\n",
      "Mohini\n"
     ]
    }
   ],
   "source": [
    "# removing white space\n",
    "c = \"    Mohini    \"\n",
    "print(c)\n",
    "print(c.lstrip()) # remove space from left side\n",
    "print(c.rstrip()) # remove space from right side\n",
    "print(c.strip()) # remove space from both the ends of string."
   ]
  },
  {
   "cell_type": "code",
   "execution_count": 27,
   "id": "5a327da6-0085-4f75-af0c-5aff73e0c69b",
   "metadata": {},
   "outputs": [
    {
     "name": "stdout",
     "output_type": "stream",
     "text": [
      "apple,cherry,mango\n",
      "['apple', 'cherry', 'mango']\n",
      "apple-cherry-mango\n"
     ]
    }
   ],
   "source": [
    "# split and join\n",
    "x = \"apple,cherry,mango\"\n",
    "x_split = x.split(\",\") # split for bresk into the parts\n",
    "x_join = \"-\".join(x_split) # join for connect the part\n",
    "print(x)\n",
    "print(x_split)\n",
    "print(x_join)"
   ]
  },
  {
   "cell_type": "code",
   "execution_count": 33,
   "id": "e85dfa91-048c-4208-ad86-87308c3fc4b5",
   "metadata": {},
   "outputs": [
    {
     "name": "stdout",
     "output_type": "stream",
     "text": [
      "False\n",
      "True\n",
      "False\n"
     ]
    }
   ],
   "source": [
    "# string checking (it return true or false based on the condition)\n",
    "e = \"mohini2810\"\n",
    "print(e.isalpha()) # check the string  has only alphabets.\n",
    "print(e.isalnum()) # check the string is aplhanumeric(alphabet or numbers)\n",
    "print(e.isdigit()) # check the string has only digits"
   ]
  },
  {
   "cell_type": "code",
   "execution_count": 35,
   "id": "9cbb564f-6bf1-4e7e-a6c7-0411b7cd9f64",
   "metadata": {},
   "outputs": [
    {
     "name": "stdout",
     "output_type": "stream",
     "text": [
      "5\n",
      "-1\n",
      "data science is cool\n"
     ]
    }
   ],
   "source": [
    "# find and replace\n",
    "# find : it will find the word in the string\n",
    "# replace : it replace the string to the old string to new string\n",
    "f=\"data science is fun\"\n",
    "print(f.find(\"science\"))\n",
    "print(f.find(\"cool\"))\n",
    "\n",
    "print(f.replace(\"fun\",\"cool\"))"
   ]
  },
  {
   "cell_type": "code",
   "execution_count": 37,
   "id": "e6453394-5b79-43d6-8834-83c881d6c896",
   "metadata": {},
   "outputs": [
    {
     "name": "stdout",
     "output_type": "stream",
     "text": [
      "inihom\n",
      "6\n",
      "2\n"
     ]
    }
   ],
   "source": [
    "# reverse string(reversing the sequence of the string)\n",
    "m = \"mohini\"\n",
    "print(m[::-1])\n",
    "print(len(m))\n",
    "print(m.count(\"i\"))"
   ]
  },
  {
   "cell_type": "code",
   "execution_count": null,
   "id": "6f0b29ab-1f49-49da-b16a-883dcb0e59b4",
   "metadata": {},
   "outputs": [],
   "source": [
    "# for embedding the string"
   ]
  }
 ],
 "metadata": {
  "kernelspec": {
   "display_name": "Python 3 (ipykernel)",
   "language": "python",
   "name": "python3"
  },
  "language_info": {
   "codemirror_mode": {
    "name": "ipython",
    "version": 3
   },
   "file_extension": ".py",
   "mimetype": "text/x-python",
   "name": "python",
   "nbconvert_exporter": "python",
   "pygments_lexer": "ipython3",
   "version": "3.12.4"
  }
 },
 "nbformat": 4,
 "nbformat_minor": 5
}
